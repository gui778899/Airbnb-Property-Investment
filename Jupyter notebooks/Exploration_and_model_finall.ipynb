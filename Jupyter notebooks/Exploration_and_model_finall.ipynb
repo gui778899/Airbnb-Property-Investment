{
  "cells": [
    {
      "cell_type": "markdown",
      "source": [
        "Import the drive module to mount Google Drive within a Colab notebook"
      ],
      "metadata": {
        "id": "mcb065XjLAzx"
      }
    },
    {
      "cell_type": "code",
      "execution_count": null,
      "metadata": {
        "colab": {
          "base_uri": "https://localhost:8080/"
        },
        "id": "9MmVrbOhwVTL",
        "outputId": "626fcef2-20aa-4b5a-c817-a3eff01611cb"
      },
      "outputs": [
        {
          "output_type": "stream",
          "name": "stdout",
          "text": [
            "Drive already mounted at /content/drive; to attempt to forcibly remount, call drive.mount(\"/content/drive\", force_remount=True).\n"
          ]
        }
      ],
      "source": [
        "from google.colab import drive\n",
        "drive.mount('/content/drive')"
      ]
    },
    {
      "cell_type": "markdown",
      "source": [
        "Importing the necessary libraries (numpy, pandas, matplotlib, xgboost, sklearn)\n"
      ],
      "metadata": {
        "id": "crM1BQhmHywr"
      }
    },
    {
      "cell_type": "code",
      "execution_count": null,
      "metadata": {
        "id": "YMac74pFwdnV"
      },
      "outputs": [],
      "source": [
        "import numpy as np\n",
        "import pandas as pd\n",
        "import matplotlib.pyplot as plt"
      ]
    },
    {
      "cell_type": "code",
      "execution_count": null,
      "metadata": {
        "id": "dmIkTaCX5cRZ"
      },
      "outputs": [],
      "source": [
        "import xgboost"
      ]
    },
    {
      "cell_type": "code",
      "execution_count": null,
      "metadata": {
        "id": "a2G0hUef26fE"
      },
      "outputs": [],
      "source": [
        "from sklearn.model_selection import RandomizedSearchCV, GridSearchCV\n",
        "from sklearn.metrics import roc_auc_score\n",
        "from sklearn.model_selection import StratifiedKFold"
      ]
    },
    {
      "cell_type": "markdown",
      "source": [
        "Display all the columns in the dataset, since pandas by default truncates the number of columns displayed\n"
      ],
      "metadata": {
        "id": "fFSVpPvVNpkL"
      }
    },
    {
      "cell_type": "code",
      "execution_count": null,
      "metadata": {
        "id": "CdGZWqbBwkB4"
      },
      "outputs": [],
      "source": [
        "pd.set_option('display.max_columns', None)"
      ]
    },
    {
      "cell_type": "markdown",
      "source": [
        "Read the CSV file from the Google Drive path."
      ],
      "metadata": {
        "id": "aQjH-jcZNnnj"
      }
    },
    {
      "cell_type": "code",
      "execution_count": null,
      "metadata": {
        "id": "NabH5pI7wkT5"
      },
      "outputs": [],
      "source": [
        "df = pd.read_csv(\"drive/MyDrive/thesis/thesis/cleaned_and_mergedfinal.csv\")"
      ]
    },
    {
      "cell_type": "markdown",
      "source": [
        "Display first few rows of the dataset"
      ],
      "metadata": {
        "id": "fI36i38sOPiK"
      }
    },
    {
      "cell_type": "code",
      "execution_count": null,
      "metadata": {
        "colab": {
          "base_uri": "https://localhost:8080/",
          "height": 590
        },
        "id": "h9G4ojMMwxRy",
        "outputId": "011d93cf-41f6-421f-b811-210faada26aa"
      },
      "outputs": [
        {
          "output_type": "execute_result",
          "data": {
            "text/plain": [
              "   Unnamed: 0  host_response_time  host_response_rate  host_acceptance_rate  \\\n",
              "0           0      within an hour           93.454699                 100.0   \n",
              "1           1  within a few hours          100.000000                  25.0   \n",
              "2           2  within a few hours          100.000000                  88.0   \n",
              "3           3        within a day          100.000000                  41.0   \n",
              "4           4  within a few hours           90.000000                  75.0   \n",
              "\n",
              "   host_is_superhost host_neighbourhood  host_listings_count  \\\n",
              "0              False            Unknown                  1.0   \n",
              "1              False        Hammersmith                  1.0   \n",
              "2              False    LB of Islington                  3.0   \n",
              "3              False            Chelsea                  1.0   \n",
              "4               True          Greenwich                  1.0   \n",
              "\n",
              "   host_total_listings_count  host_has_profile_pic  host_identity_verified  \\\n",
              "0                        1.0                  True                    True   \n",
              "1                        2.0                  True                    True   \n",
              "2                        4.0                  True                    True   \n",
              "3                       12.0                  True                    True   \n",
              "4                        1.0                  True                    True   \n",
              "\n",
              "   neighbourhood_cleansed  latitude  longitude                property_type  \\\n",
              "0              Wandsworth  51.44201   -0.18739  Private room in rental unit   \n",
              "1  Hammersmith and Fulham  51.49993   -0.21707           Entire rental unit   \n",
              "2               Islington  51.56861   -0.11270  Private room in rental unit   \n",
              "3  Kensington and Chelsea  51.48780   -0.16813           Entire rental unit   \n",
              "4               Greenwich  51.47618    0.01442        Private room in condo   \n",
              "\n",
              "         room_type  accommodates  bedrooms  beds  \\\n",
              "0     Private room             2  1.785253   2.0   \n",
              "1  Entire home/apt             5  2.000000   3.0   \n",
              "2     Private room             1  1.785253   1.0   \n",
              "3  Entire home/apt             2  1.000000   1.0   \n",
              "4     Private room             2  1.785253   1.0   \n",
              "\n",
              "                                           amenities  price  minimum_nights  \\\n",
              "0  [\"Heating\", \"TV with standard cable\", \"Wifi\", ...   42.0               2   \n",
              "1  [\"Window guards\", \"Bathtub\", \"Hot water kettle...  175.0               5   \n",
              "2  [\"Bathtub\", \"Hot water kettle\", \"Laundromat ne...   79.0               1   \n",
              "3  [\"Shampoo\", \"Luggage dropoff allowed\", \"Dryer\"...  150.0               7   \n",
              "4  [\"Window guards\", \"Bathtub\", \"Hot water kettle...   46.0               4   \n",
              "\n",
              "   maximum_nights  minimum_minimum_nights  maximum_minimum_nights  \\\n",
              "0             730                     2.0                     2.0   \n",
              "1             240                     5.0                     5.0   \n",
              "2              29                     1.0                     1.0   \n",
              "3              30                     7.0                     7.0   \n",
              "4             365                     2.0                     4.0   \n",
              "\n",
              "   minimum_maximum_nights  maximum_maximum_nights  minimum_nights_avg_ntm  \\\n",
              "0                  1125.0                  1125.0                     2.0   \n",
              "1                   240.0                   240.0                     5.0   \n",
              "2                    29.0                    29.0                     1.0   \n",
              "3                    30.0                    30.0                     7.0   \n",
              "4                   365.0                   365.0                     4.0   \n",
              "\n",
              "   maximum_nights_avg_ntm  has_availability  number_of_reviews  \\\n",
              "0                  1125.0              True                216   \n",
              "1                   240.0              True                 38   \n",
              "2                    29.0              True                 41   \n",
              "3                    30.0              True                 94   \n",
              "4                   365.0              True                180   \n",
              "\n",
              "   number_of_reviews_ltm  number_of_reviews_l30d  review_scores_rating  \\\n",
              "0                      9                       0                  4.57   \n",
              "1                      2                       0                  4.82   \n",
              "2                     11                       0                  4.80   \n",
              "3                      5                       0                  4.80   \n",
              "4                     25                       3                  4.62   \n",
              "\n",
              "   review_scores_accuracy  review_scores_cleanliness  review_scores_checkin  \\\n",
              "0                    4.74                       4.86                   4.71   \n",
              "1                    4.76                       4.62                   4.85   \n",
              "2                    4.72                       4.72                   4.74   \n",
              "3                    4.85                       4.88                   4.88   \n",
              "4                    4.70                       4.59                   4.63   \n",
              "\n",
              "   review_scores_communication  review_scores_location  review_scores_value  \\\n",
              "0                         4.67                    4.53                 4.68   \n",
              "1                         4.88                    4.85                 4.74   \n",
              "2                         4.82                    4.69                 4.69   \n",
              "3                         4.83                    4.93                 4.74   \n",
              "4                         4.81                    4.64                 4.67   \n",
              "\n",
              "   instant_bookable  calculated_host_listings_count  \\\n",
              "0              True                               1   \n",
              "1             False                               1   \n",
              "2             False                               2   \n",
              "3             False                               1   \n",
              "4             False                               1   \n",
              "\n",
              "   calculated_host_listings_count_entire_homes  \\\n",
              "0                                            0   \n",
              "1                                            1   \n",
              "2                                            1   \n",
              "3                                            1   \n",
              "4                                            0   \n",
              "\n",
              "   calculated_host_listings_count_private_rooms  \\\n",
              "0                                             1   \n",
              "1                                             0   \n",
              "2                                             1   \n",
              "3                                             0   \n",
              "4                                             1   \n",
              "\n",
              "   calculated_host_listings_count_shared_rooms  bathrooms_count  private_bath  \\\n",
              "0                                            0              1.5           0.0   \n",
              "1                                            0              1.0           0.0   \n",
              "2                                            0              1.0           0.0   \n",
              "3                                            0              1.0           0.0   \n",
              "4                                            0              1.0           0.0   \n",
              "\n",
              "   shared_bath  half_bath  price_estimate       delay  \n",
              "0          1.0        0.0    1.421017e+06   93.982581  \n",
              "1          0.0        0.0    5.749781e+05   15.796101  \n",
              "2          1.0        0.0    8.071072e+05  100.000000  \n",
              "3          0.0        0.0    1.075927e+06   21.604951  \n",
              "4          1.0        0.0    3.112058e+05   19.898066  "
            ],
            "text/html": [
              "\n",
              "  <div id=\"df-9105aa1b-a434-4d84-ae35-b3c1ec555f61\" class=\"colab-df-container\">\n",
              "    <div>\n",
              "<style scoped>\n",
              "    .dataframe tbody tr th:only-of-type {\n",
              "        vertical-align: middle;\n",
              "    }\n",
              "\n",
              "    .dataframe tbody tr th {\n",
              "        vertical-align: top;\n",
              "    }\n",
              "\n",
              "    .dataframe thead th {\n",
              "        text-align: right;\n",
              "    }\n",
              "</style>\n",
              "<table border=\"1\" class=\"dataframe\">\n",
              "  <thead>\n",
              "    <tr style=\"text-align: right;\">\n",
              "      <th></th>\n",
              "      <th>Unnamed: 0</th>\n",
              "      <th>host_response_time</th>\n",
              "      <th>host_response_rate</th>\n",
              "      <th>host_acceptance_rate</th>\n",
              "      <th>host_is_superhost</th>\n",
              "      <th>host_neighbourhood</th>\n",
              "      <th>host_listings_count</th>\n",
              "      <th>host_total_listings_count</th>\n",
              "      <th>host_has_profile_pic</th>\n",
              "      <th>host_identity_verified</th>\n",
              "      <th>neighbourhood_cleansed</th>\n",
              "      <th>latitude</th>\n",
              "      <th>longitude</th>\n",
              "      <th>property_type</th>\n",
              "      <th>room_type</th>\n",
              "      <th>accommodates</th>\n",
              "      <th>bedrooms</th>\n",
              "      <th>beds</th>\n",
              "      <th>amenities</th>\n",
              "      <th>price</th>\n",
              "      <th>minimum_nights</th>\n",
              "      <th>maximum_nights</th>\n",
              "      <th>minimum_minimum_nights</th>\n",
              "      <th>maximum_minimum_nights</th>\n",
              "      <th>minimum_maximum_nights</th>\n",
              "      <th>maximum_maximum_nights</th>\n",
              "      <th>minimum_nights_avg_ntm</th>\n",
              "      <th>maximum_nights_avg_ntm</th>\n",
              "      <th>has_availability</th>\n",
              "      <th>number_of_reviews</th>\n",
              "      <th>number_of_reviews_ltm</th>\n",
              "      <th>number_of_reviews_l30d</th>\n",
              "      <th>review_scores_rating</th>\n",
              "      <th>review_scores_accuracy</th>\n",
              "      <th>review_scores_cleanliness</th>\n",
              "      <th>review_scores_checkin</th>\n",
              "      <th>review_scores_communication</th>\n",
              "      <th>review_scores_location</th>\n",
              "      <th>review_scores_value</th>\n",
              "      <th>instant_bookable</th>\n",
              "      <th>calculated_host_listings_count</th>\n",
              "      <th>calculated_host_listings_count_entire_homes</th>\n",
              "      <th>calculated_host_listings_count_private_rooms</th>\n",
              "      <th>calculated_host_listings_count_shared_rooms</th>\n",
              "      <th>bathrooms_count</th>\n",
              "      <th>private_bath</th>\n",
              "      <th>shared_bath</th>\n",
              "      <th>half_bath</th>\n",
              "      <th>price_estimate</th>\n",
              "      <th>delay</th>\n",
              "    </tr>\n",
              "  </thead>\n",
              "  <tbody>\n",
              "    <tr>\n",
              "      <th>0</th>\n",
              "      <td>0</td>\n",
              "      <td>within an hour</td>\n",
              "      <td>93.454699</td>\n",
              "      <td>100.0</td>\n",
              "      <td>False</td>\n",
              "      <td>Unknown</td>\n",
              "      <td>1.0</td>\n",
              "      <td>1.0</td>\n",
              "      <td>True</td>\n",
              "      <td>True</td>\n",
              "      <td>Wandsworth</td>\n",
              "      <td>51.44201</td>\n",
              "      <td>-0.18739</td>\n",
              "      <td>Private room in rental unit</td>\n",
              "      <td>Private room</td>\n",
              "      <td>2</td>\n",
              "      <td>1.785253</td>\n",
              "      <td>2.0</td>\n",
              "      <td>[\"Heating\", \"TV with standard cable\", \"Wifi\", ...</td>\n",
              "      <td>42.0</td>\n",
              "      <td>2</td>\n",
              "      <td>730</td>\n",
              "      <td>2.0</td>\n",
              "      <td>2.0</td>\n",
              "      <td>1125.0</td>\n",
              "      <td>1125.0</td>\n",
              "      <td>2.0</td>\n",
              "      <td>1125.0</td>\n",
              "      <td>True</td>\n",
              "      <td>216</td>\n",
              "      <td>9</td>\n",
              "      <td>0</td>\n",
              "      <td>4.57</td>\n",
              "      <td>4.74</td>\n",
              "      <td>4.86</td>\n",
              "      <td>4.71</td>\n",
              "      <td>4.67</td>\n",
              "      <td>4.53</td>\n",
              "      <td>4.68</td>\n",
              "      <td>True</td>\n",
              "      <td>1</td>\n",
              "      <td>0</td>\n",
              "      <td>1</td>\n",
              "      <td>0</td>\n",
              "      <td>1.5</td>\n",
              "      <td>0.0</td>\n",
              "      <td>1.0</td>\n",
              "      <td>0.0</td>\n",
              "      <td>1.421017e+06</td>\n",
              "      <td>93.982581</td>\n",
              "    </tr>\n",
              "    <tr>\n",
              "      <th>1</th>\n",
              "      <td>1</td>\n",
              "      <td>within a few hours</td>\n",
              "      <td>100.000000</td>\n",
              "      <td>25.0</td>\n",
              "      <td>False</td>\n",
              "      <td>Hammersmith</td>\n",
              "      <td>1.0</td>\n",
              "      <td>2.0</td>\n",
              "      <td>True</td>\n",
              "      <td>True</td>\n",
              "      <td>Hammersmith and Fulham</td>\n",
              "      <td>51.49993</td>\n",
              "      <td>-0.21707</td>\n",
              "      <td>Entire rental unit</td>\n",
              "      <td>Entire home/apt</td>\n",
              "      <td>5</td>\n",
              "      <td>2.000000</td>\n",
              "      <td>3.0</td>\n",
              "      <td>[\"Window guards\", \"Bathtub\", \"Hot water kettle...</td>\n",
              "      <td>175.0</td>\n",
              "      <td>5</td>\n",
              "      <td>240</td>\n",
              "      <td>5.0</td>\n",
              "      <td>5.0</td>\n",
              "      <td>240.0</td>\n",
              "      <td>240.0</td>\n",
              "      <td>5.0</td>\n",
              "      <td>240.0</td>\n",
              "      <td>True</td>\n",
              "      <td>38</td>\n",
              "      <td>2</td>\n",
              "      <td>0</td>\n",
              "      <td>4.82</td>\n",
              "      <td>4.76</td>\n",
              "      <td>4.62</td>\n",
              "      <td>4.85</td>\n",
              "      <td>4.88</td>\n",
              "      <td>4.85</td>\n",
              "      <td>4.74</td>\n",
              "      <td>False</td>\n",
              "      <td>1</td>\n",
              "      <td>1</td>\n",
              "      <td>0</td>\n",
              "      <td>0</td>\n",
              "      <td>1.0</td>\n",
              "      <td>0.0</td>\n",
              "      <td>0.0</td>\n",
              "      <td>0.0</td>\n",
              "      <td>5.749781e+05</td>\n",
              "      <td>15.796101</td>\n",
              "    </tr>\n",
              "    <tr>\n",
              "      <th>2</th>\n",
              "      <td>2</td>\n",
              "      <td>within a few hours</td>\n",
              "      <td>100.000000</td>\n",
              "      <td>88.0</td>\n",
              "      <td>False</td>\n",
              "      <td>LB of Islington</td>\n",
              "      <td>3.0</td>\n",
              "      <td>4.0</td>\n",
              "      <td>True</td>\n",
              "      <td>True</td>\n",
              "      <td>Islington</td>\n",
              "      <td>51.56861</td>\n",
              "      <td>-0.11270</td>\n",
              "      <td>Private room in rental unit</td>\n",
              "      <td>Private room</td>\n",
              "      <td>1</td>\n",
              "      <td>1.785253</td>\n",
              "      <td>1.0</td>\n",
              "      <td>[\"Bathtub\", \"Hot water kettle\", \"Laundromat ne...</td>\n",
              "      <td>79.0</td>\n",
              "      <td>1</td>\n",
              "      <td>29</td>\n",
              "      <td>1.0</td>\n",
              "      <td>1.0</td>\n",
              "      <td>29.0</td>\n",
              "      <td>29.0</td>\n",
              "      <td>1.0</td>\n",
              "      <td>29.0</td>\n",
              "      <td>True</td>\n",
              "      <td>41</td>\n",
              "      <td>11</td>\n",
              "      <td>0</td>\n",
              "      <td>4.80</td>\n",
              "      <td>4.72</td>\n",
              "      <td>4.72</td>\n",
              "      <td>4.74</td>\n",
              "      <td>4.82</td>\n",
              "      <td>4.69</td>\n",
              "      <td>4.69</td>\n",
              "      <td>False</td>\n",
              "      <td>2</td>\n",
              "      <td>1</td>\n",
              "      <td>1</td>\n",
              "      <td>0</td>\n",
              "      <td>1.0</td>\n",
              "      <td>0.0</td>\n",
              "      <td>1.0</td>\n",
              "      <td>0.0</td>\n",
              "      <td>8.071072e+05</td>\n",
              "      <td>100.000000</td>\n",
              "    </tr>\n",
              "    <tr>\n",
              "      <th>3</th>\n",
              "      <td>3</td>\n",
              "      <td>within a day</td>\n",
              "      <td>100.000000</td>\n",
              "      <td>41.0</td>\n",
              "      <td>False</td>\n",
              "      <td>Chelsea</td>\n",
              "      <td>1.0</td>\n",
              "      <td>12.0</td>\n",
              "      <td>True</td>\n",
              "      <td>True</td>\n",
              "      <td>Kensington and Chelsea</td>\n",
              "      <td>51.48780</td>\n",
              "      <td>-0.16813</td>\n",
              "      <td>Entire rental unit</td>\n",
              "      <td>Entire home/apt</td>\n",
              "      <td>2</td>\n",
              "      <td>1.000000</td>\n",
              "      <td>1.0</td>\n",
              "      <td>[\"Shampoo\", \"Luggage dropoff allowed\", \"Dryer\"...</td>\n",
              "      <td>150.0</td>\n",
              "      <td>7</td>\n",
              "      <td>30</td>\n",
              "      <td>7.0</td>\n",
              "      <td>7.0</td>\n",
              "      <td>30.0</td>\n",
              "      <td>30.0</td>\n",
              "      <td>7.0</td>\n",
              "      <td>30.0</td>\n",
              "      <td>True</td>\n",
              "      <td>94</td>\n",
              "      <td>5</td>\n",
              "      <td>0</td>\n",
              "      <td>4.80</td>\n",
              "      <td>4.85</td>\n",
              "      <td>4.88</td>\n",
              "      <td>4.88</td>\n",
              "      <td>4.83</td>\n",
              "      <td>4.93</td>\n",
              "      <td>4.74</td>\n",
              "      <td>False</td>\n",
              "      <td>1</td>\n",
              "      <td>1</td>\n",
              "      <td>0</td>\n",
              "      <td>0</td>\n",
              "      <td>1.0</td>\n",
              "      <td>0.0</td>\n",
              "      <td>0.0</td>\n",
              "      <td>0.0</td>\n",
              "      <td>1.075927e+06</td>\n",
              "      <td>21.604951</td>\n",
              "    </tr>\n",
              "    <tr>\n",
              "      <th>4</th>\n",
              "      <td>4</td>\n",
              "      <td>within a few hours</td>\n",
              "      <td>90.000000</td>\n",
              "      <td>75.0</td>\n",
              "      <td>True</td>\n",
              "      <td>Greenwich</td>\n",
              "      <td>1.0</td>\n",
              "      <td>1.0</td>\n",
              "      <td>True</td>\n",
              "      <td>True</td>\n",
              "      <td>Greenwich</td>\n",
              "      <td>51.47618</td>\n",
              "      <td>0.01442</td>\n",
              "      <td>Private room in condo</td>\n",
              "      <td>Private room</td>\n",
              "      <td>2</td>\n",
              "      <td>1.785253</td>\n",
              "      <td>1.0</td>\n",
              "      <td>[\"Window guards\", \"Bathtub\", \"Hot water kettle...</td>\n",
              "      <td>46.0</td>\n",
              "      <td>4</td>\n",
              "      <td>365</td>\n",
              "      <td>2.0</td>\n",
              "      <td>4.0</td>\n",
              "      <td>365.0</td>\n",
              "      <td>365.0</td>\n",
              "      <td>4.0</td>\n",
              "      <td>365.0</td>\n",
              "      <td>True</td>\n",
              "      <td>180</td>\n",
              "      <td>25</td>\n",
              "      <td>3</td>\n",
              "      <td>4.62</td>\n",
              "      <td>4.70</td>\n",
              "      <td>4.59</td>\n",
              "      <td>4.63</td>\n",
              "      <td>4.81</td>\n",
              "      <td>4.64</td>\n",
              "      <td>4.67</td>\n",
              "      <td>False</td>\n",
              "      <td>1</td>\n",
              "      <td>0</td>\n",
              "      <td>1</td>\n",
              "      <td>0</td>\n",
              "      <td>1.0</td>\n",
              "      <td>0.0</td>\n",
              "      <td>1.0</td>\n",
              "      <td>0.0</td>\n",
              "      <td>3.112058e+05</td>\n",
              "      <td>19.898066</td>\n",
              "    </tr>\n",
              "  </tbody>\n",
              "</table>\n",
              "</div>\n",
              "    <div class=\"colab-df-buttons\">\n",
              "\n",
              "  <div class=\"colab-df-container\">\n",
              "    <button class=\"colab-df-convert\" onclick=\"convertToInteractive('df-9105aa1b-a434-4d84-ae35-b3c1ec555f61')\"\n",
              "            title=\"Convert this dataframe to an interactive table.\"\n",
              "            style=\"display:none;\">\n",
              "\n",
              "  <svg xmlns=\"http://www.w3.org/2000/svg\" height=\"24px\" viewBox=\"0 -960 960 960\">\n",
              "    <path d=\"M120-120v-720h720v720H120Zm60-500h600v-160H180v160Zm220 220h160v-160H400v160Zm0 220h160v-160H400v160ZM180-400h160v-160H180v160Zm440 0h160v-160H620v160ZM180-180h160v-160H180v160Zm440 0h160v-160H620v160Z\"/>\n",
              "  </svg>\n",
              "    </button>\n",
              "\n",
              "  <style>\n",
              "    .colab-df-container {\n",
              "      display:flex;\n",
              "      gap: 12px;\n",
              "    }\n",
              "\n",
              "    .colab-df-convert {\n",
              "      background-color: #E8F0FE;\n",
              "      border: none;\n",
              "      border-radius: 50%;\n",
              "      cursor: pointer;\n",
              "      display: none;\n",
              "      fill: #1967D2;\n",
              "      height: 32px;\n",
              "      padding: 0 0 0 0;\n",
              "      width: 32px;\n",
              "    }\n",
              "\n",
              "    .colab-df-convert:hover {\n",
              "      background-color: #E2EBFA;\n",
              "      box-shadow: 0px 1px 2px rgba(60, 64, 67, 0.3), 0px 1px 3px 1px rgba(60, 64, 67, 0.15);\n",
              "      fill: #174EA6;\n",
              "    }\n",
              "\n",
              "    .colab-df-buttons div {\n",
              "      margin-bottom: 4px;\n",
              "    }\n",
              "\n",
              "    [theme=dark] .colab-df-convert {\n",
              "      background-color: #3B4455;\n",
              "      fill: #D2E3FC;\n",
              "    }\n",
              "\n",
              "    [theme=dark] .colab-df-convert:hover {\n",
              "      background-color: #434B5C;\n",
              "      box-shadow: 0px 1px 3px 1px rgba(0, 0, 0, 0.15);\n",
              "      filter: drop-shadow(0px 1px 2px rgba(0, 0, 0, 0.3));\n",
              "      fill: #FFFFFF;\n",
              "    }\n",
              "  </style>\n",
              "\n",
              "    <script>\n",
              "      const buttonEl =\n",
              "        document.querySelector('#df-9105aa1b-a434-4d84-ae35-b3c1ec555f61 button.colab-df-convert');\n",
              "      buttonEl.style.display =\n",
              "        google.colab.kernel.accessAllowed ? 'block' : 'none';\n",
              "\n",
              "      async function convertToInteractive(key) {\n",
              "        const element = document.querySelector('#df-9105aa1b-a434-4d84-ae35-b3c1ec555f61');\n",
              "        const dataTable =\n",
              "          await google.colab.kernel.invokeFunction('convertToInteractive',\n",
              "                                                    [key], {});\n",
              "        if (!dataTable) return;\n",
              "\n",
              "        const docLinkHtml = 'Like what you see? Visit the ' +\n",
              "          '<a target=\"_blank\" href=https://colab.research.google.com/notebooks/data_table.ipynb>data table notebook</a>'\n",
              "          + ' to learn more about interactive tables.';\n",
              "        element.innerHTML = '';\n",
              "        dataTable['output_type'] = 'display_data';\n",
              "        await google.colab.output.renderOutput(dataTable, element);\n",
              "        const docLink = document.createElement('div');\n",
              "        docLink.innerHTML = docLinkHtml;\n",
              "        element.appendChild(docLink);\n",
              "      }\n",
              "    </script>\n",
              "  </div>\n",
              "\n",
              "\n",
              "<div id=\"df-20963d33-725d-47cc-b11c-ab1ae8cc0163\">\n",
              "  <button class=\"colab-df-quickchart\" onclick=\"quickchart('df-20963d33-725d-47cc-b11c-ab1ae8cc0163')\"\n",
              "            title=\"Suggest charts\"\n",
              "            style=\"display:none;\">\n",
              "\n",
              "<svg xmlns=\"http://www.w3.org/2000/svg\" height=\"24px\"viewBox=\"0 0 24 24\"\n",
              "     width=\"24px\">\n",
              "    <g>\n",
              "        <path d=\"M19 3H5c-1.1 0-2 .9-2 2v14c0 1.1.9 2 2 2h14c1.1 0 2-.9 2-2V5c0-1.1-.9-2-2-2zM9 17H7v-7h2v7zm4 0h-2V7h2v10zm4 0h-2v-4h2v4z\"/>\n",
              "    </g>\n",
              "</svg>\n",
              "  </button>\n",
              "\n",
              "<style>\n",
              "  .colab-df-quickchart {\n",
              "      --bg-color: #E8F0FE;\n",
              "      --fill-color: #1967D2;\n",
              "      --hover-bg-color: #E2EBFA;\n",
              "      --hover-fill-color: #174EA6;\n",
              "      --disabled-fill-color: #AAA;\n",
              "      --disabled-bg-color: #DDD;\n",
              "  }\n",
              "\n",
              "  [theme=dark] .colab-df-quickchart {\n",
              "      --bg-color: #3B4455;\n",
              "      --fill-color: #D2E3FC;\n",
              "      --hover-bg-color: #434B5C;\n",
              "      --hover-fill-color: #FFFFFF;\n",
              "      --disabled-bg-color: #3B4455;\n",
              "      --disabled-fill-color: #666;\n",
              "  }\n",
              "\n",
              "  .colab-df-quickchart {\n",
              "    background-color: var(--bg-color);\n",
              "    border: none;\n",
              "    border-radius: 50%;\n",
              "    cursor: pointer;\n",
              "    display: none;\n",
              "    fill: var(--fill-color);\n",
              "    height: 32px;\n",
              "    padding: 0;\n",
              "    width: 32px;\n",
              "  }\n",
              "\n",
              "  .colab-df-quickchart:hover {\n",
              "    background-color: var(--hover-bg-color);\n",
              "    box-shadow: 0 1px 2px rgba(60, 64, 67, 0.3), 0 1px 3px 1px rgba(60, 64, 67, 0.15);\n",
              "    fill: var(--button-hover-fill-color);\n",
              "  }\n",
              "\n",
              "  .colab-df-quickchart-complete:disabled,\n",
              "  .colab-df-quickchart-complete:disabled:hover {\n",
              "    background-color: var(--disabled-bg-color);\n",
              "    fill: var(--disabled-fill-color);\n",
              "    box-shadow: none;\n",
              "  }\n",
              "\n",
              "  .colab-df-spinner {\n",
              "    border: 2px solid var(--fill-color);\n",
              "    border-color: transparent;\n",
              "    border-bottom-color: var(--fill-color);\n",
              "    animation:\n",
              "      spin 1s steps(1) infinite;\n",
              "  }\n",
              "\n",
              "  @keyframes spin {\n",
              "    0% {\n",
              "      border-color: transparent;\n",
              "      border-bottom-color: var(--fill-color);\n",
              "      border-left-color: var(--fill-color);\n",
              "    }\n",
              "    20% {\n",
              "      border-color: transparent;\n",
              "      border-left-color: var(--fill-color);\n",
              "      border-top-color: var(--fill-color);\n",
              "    }\n",
              "    30% {\n",
              "      border-color: transparent;\n",
              "      border-left-color: var(--fill-color);\n",
              "      border-top-color: var(--fill-color);\n",
              "      border-right-color: var(--fill-color);\n",
              "    }\n",
              "    40% {\n",
              "      border-color: transparent;\n",
              "      border-right-color: var(--fill-color);\n",
              "      border-top-color: var(--fill-color);\n",
              "    }\n",
              "    60% {\n",
              "      border-color: transparent;\n",
              "      border-right-color: var(--fill-color);\n",
              "    }\n",
              "    80% {\n",
              "      border-color: transparent;\n",
              "      border-right-color: var(--fill-color);\n",
              "      border-bottom-color: var(--fill-color);\n",
              "    }\n",
              "    90% {\n",
              "      border-color: transparent;\n",
              "      border-bottom-color: var(--fill-color);\n",
              "    }\n",
              "  }\n",
              "</style>\n",
              "\n",
              "  <script>\n",
              "    async function quickchart(key) {\n",
              "      const quickchartButtonEl =\n",
              "        document.querySelector('#' + key + ' button');\n",
              "      quickchartButtonEl.disabled = true;  // To prevent multiple clicks.\n",
              "      quickchartButtonEl.classList.add('colab-df-spinner');\n",
              "      try {\n",
              "        const charts = await google.colab.kernel.invokeFunction(\n",
              "            'suggestCharts', [key], {});\n",
              "      } catch (error) {\n",
              "        console.error('Error during call to suggestCharts:', error);\n",
              "      }\n",
              "      quickchartButtonEl.classList.remove('colab-df-spinner');\n",
              "      quickchartButtonEl.classList.add('colab-df-quickchart-complete');\n",
              "    }\n",
              "    (() => {\n",
              "      let quickchartButtonEl =\n",
              "        document.querySelector('#df-20963d33-725d-47cc-b11c-ab1ae8cc0163 button');\n",
              "      quickchartButtonEl.style.display =\n",
              "        google.colab.kernel.accessAllowed ? 'block' : 'none';\n",
              "    })();\n",
              "  </script>\n",
              "</div>\n",
              "    </div>\n",
              "  </div>\n"
            ],
            "application/vnd.google.colaboratory.intrinsic+json": {
              "type": "dataframe",
              "variable_name": "df"
            }
          },
          "metadata": {},
          "execution_count": 10
        }
      ],
      "source": [
        "df.head()"
      ]
    },
    {
      "cell_type": "markdown",
      "source": [
        "Frequency of eaach unique value in the \"host_response_time\" column of the dataset"
      ],
      "metadata": {
        "id": "Uk6xKJJcOSq1"
      }
    },
    {
      "cell_type": "code",
      "execution_count": null,
      "metadata": {
        "colab": {
          "base_uri": "https://localhost:8080/"
        },
        "id": "fBDoRDoyGfU1",
        "outputId": "f4d8eccd-47bd-43fe-c8fa-2a2570f933c8"
      },
      "outputs": [
        {
          "output_type": "execute_result",
          "data": {
            "text/plain": [
              "within an hour        68007\n",
              "within a few hours    11369\n",
              "within a day           6591\n",
              "a few days or more     1979\n",
              "Name: host_response_time, dtype: int64"
            ]
          },
          "metadata": {},
          "execution_count": 11
        }
      ],
      "source": [
        "df[\"host_response_time\"].value_counts()"
      ]
    },
    {
      "cell_type": "code",
      "source": [
        "df[\"delay\"].hist()\n",
        "\n"
      ],
      "metadata": {
        "colab": {
          "base_uri": "https://localhost:8080/",
          "height": 447
        },
        "id": "ROQht53DP_ul",
        "outputId": "2c9c9706-c067-47b0-a43c-5a89e07abd9d"
      },
      "execution_count": null,
      "outputs": [
        {
          "output_type": "execute_result",
          "data": {
            "text/plain": [
              "<Axes: >"
            ]
          },
          "metadata": {},
          "execution_count": 12
        },
        {
          "output_type": "display_data",
          "data": {
            "text/plain": [
              "<Figure size 640x480 with 1 Axes>"
            ],
            "image/png": "[encoded data removed]"
          },
          "metadata": {}
        }
      ]
    },
    {
      "cell_type": "markdown",
      "source": [
        "Filter the dataframe to include only rows where the value in the \"delay\" columns is less than 90"
      ],
      "metadata": {
        "id": "U_ykl7BgOsc1"
      }
    },
    {
      "cell_type": "code",
      "execution_count": null,
      "metadata": {
        "id": "T6XeOJg0B9Kv"
      },
      "outputs": [],
      "source": [
        "df = df[df[\"delay\"]<90]"
      ]
    },
    {
      "cell_type": "code",
      "execution_count": null,
      "metadata": {
        "colab": {
          "base_uri": "https://localhost:8080/"
        },
        "id": "aPA98rWhz0jA",
        "outputId": "929a4bb2-61bf-4bdc-8bcd-1a573637ae59"
      },
      "outputs": [
        {
          "name": "stderr",
          "output_type": "stream",
          "text": [
            "<ipython-input-104-467a2d66da1f>:1: SettingWithCopyWarning: \n",
            "A value is trying to be set on a copy of a slice from a DataFrame\n",
            "\n",
            "See the caveats in the documentation: https://pandas.pydata.org/pandas-docs/stable/user_guide/indexing.html#returning-a-view-versus-a-copy\n",
            "  df.drop(columns = [\"Unnamed: 0\"], inplace = True)\n"
          ]
        }
      ],
      "source": [
        "df.drop(columns = [\"Unnamed: 0\"], inplace = True)"
      ]
    },
    {
      "cell_type": "code",
      "execution_count": null,
      "metadata": {
        "colab": {
          "base_uri": "https://localhost:8080/",
          "height": 556
        },
        "id": "uVaRhhmhz3wM",
        "outputId": "05cd01a4-52d8-4c24-ed33-fcc286d1e8db"
      },
      "outputs": [
        {
          "data": {
            "application/vnd.google.colaboratory.intrinsic+json": {
              "type": "dataframe",
              "variable_name": "df"
            },
            "text/html": [
              "\n",
              "  <div id=\"df-c1f66299-acd5-423b-80a0-96ee6266a8f2\" class=\"colab-df-container\">\n",
              "    <div>\n",
              "<style scoped>\n",
              "    .dataframe tbody tr th:only-of-type {\n",
              "        vertical-align: middle;\n",
              "    }\n",
              "\n",
              "    .dataframe tbody tr th {\n",
              "        vertical-align: top;\n",
              "    }\n",
              "\n",
              "    .dataframe thead th {\n",
              "        text-align: right;\n",
              "    }\n",
              "</style>\n",
              "<table border=\"1\" class=\"dataframe\">\n",
              "  <thead>\n",
              "    <tr style=\"text-align: right;\">\n",
              "      <th></th>\n",
              "      <th>host_response_time</th>\n",
              "      <th>host_response_rate</th>\n",
              "      <th>host_acceptance_rate</th>\n",
              "      <th>host_is_superhost</th>\n",
              "      <th>host_neighbourhood</th>\n",
              "      <th>host_listings_count</th>\n",
              "      <th>host_total_listings_count</th>\n",
              "      <th>host_has_profile_pic</th>\n",
              "      <th>host_identity_verified</th>\n",
              "      <th>neighbourhood_cleansed</th>\n",
              "      <th>latitude</th>\n",
              "      <th>longitude</th>\n",
              "      <th>property_type</th>\n",
              "      <th>room_type</th>\n",
              "      <th>accommodates</th>\n",
              "      <th>bedrooms</th>\n",
              "      <th>beds</th>\n",
              "      <th>amenities</th>\n",
              "      <th>price</th>\n",
              "      <th>minimum_nights</th>\n",
              "      <th>maximum_nights</th>\n",
              "      <th>minimum_minimum_nights</th>\n",
              "      <th>maximum_minimum_nights</th>\n",
              "      <th>minimum_maximum_nights</th>\n",
              "      <th>maximum_maximum_nights</th>\n",
              "      <th>minimum_nights_avg_ntm</th>\n",
              "      <th>maximum_nights_avg_ntm</th>\n",
              "      <th>has_availability</th>\n",
              "      <th>number_of_reviews</th>\n",
              "      <th>number_of_reviews_ltm</th>\n",
              "      <th>number_of_reviews_l30d</th>\n",
              "      <th>review_scores_rating</th>\n",
              "      <th>review_scores_accuracy</th>\n",
              "      <th>review_scores_cleanliness</th>\n",
              "      <th>review_scores_checkin</th>\n",
              "      <th>review_scores_communication</th>\n",
              "      <th>review_scores_location</th>\n",
              "      <th>review_scores_value</th>\n",
              "      <th>instant_bookable</th>\n",
              "      <th>calculated_host_listings_count</th>\n",
              "      <th>calculated_host_listings_count_entire_homes</th>\n",
              "      <th>calculated_host_listings_count_private_rooms</th>\n",
              "      <th>calculated_host_listings_count_shared_rooms</th>\n",
              "      <th>bathrooms_count</th>\n",
              "      <th>private_bath</th>\n",
              "      <th>shared_bath</th>\n",
              "      <th>half_bath</th>\n",
              "      <th>price_estimate</th>\n",
              "      <th>delay</th>\n",
              "    </tr>\n",
              "  </thead>\n",
              "  <tbody>\n",
              "    <tr>\n",
              "      <th>1</th>\n",
              "      <td>within a few hours</td>\n",
              "      <td>100.000000</td>\n",
              "      <td>25.0</td>\n",
              "      <td>False</td>\n",
              "      <td>Hammersmith</td>\n",
              "      <td>1.0</td>\n",
              "      <td>2.0</td>\n",
              "      <td>True</td>\n",
              "      <td>True</td>\n",
              "      <td>Hammersmith and Fulham</td>\n",
              "      <td>51.49993</td>\n",
              "      <td>-0.21707</td>\n",
              "      <td>Entire rental unit</td>\n",
              "      <td>Entire home/apt</td>\n",
              "      <td>5</td>\n",
              "      <td>2.000000</td>\n",
              "      <td>3.0</td>\n",
              "      <td>[\"Window guards\", \"Bathtub\", \"Hot water kettle...</td>\n",
              "      <td>175.0</td>\n",
              "      <td>5</td>\n",
              "      <td>240</td>\n",
              "      <td>5.0</td>\n",
              "      <td>5.0</td>\n",
              "      <td>240.0</td>\n",
              "      <td>240.0</td>\n",
              "      <td>5.0</td>\n",
              "      <td>240.0</td>\n",
              "      <td>True</td>\n",
              "      <td>38</td>\n",
              "      <td>2</td>\n",
              "      <td>0</td>\n",
              "      <td>4.82</td>\n",
              "      <td>4.76</td>\n",
              "      <td>4.62</td>\n",
              "      <td>4.85</td>\n",
              "      <td>4.88</td>\n",
              "      <td>4.85</td>\n",
              "      <td>4.74</td>\n",
              "      <td>False</td>\n",
              "      <td>1</td>\n",
              "      <td>1</td>\n",
              "      <td>0</td>\n",
              "      <td>0</td>\n",
              "      <td>1.0</td>\n",
              "      <td>0.0</td>\n",
              "      <td>0.0</td>\n",
              "      <td>0.0</td>\n",
              "      <td>5.749781e+05</td>\n",
              "      <td>15.796101</td>\n",
              "    </tr>\n",
              "    <tr>\n",
              "      <th>3</th>\n",
              "      <td>within a day</td>\n",
              "      <td>100.000000</td>\n",
              "      <td>41.0</td>\n",
              "      <td>False</td>\n",
              "      <td>Chelsea</td>\n",
              "      <td>1.0</td>\n",
              "      <td>12.0</td>\n",
              "      <td>True</td>\n",
              "      <td>True</td>\n",
              "      <td>Kensington and Chelsea</td>\n",
              "      <td>51.48780</td>\n",
              "      <td>-0.16813</td>\n",
              "      <td>Entire rental unit</td>\n",
              "      <td>Entire home/apt</td>\n",
              "      <td>2</td>\n",
              "      <td>1.000000</td>\n",
              "      <td>1.0</td>\n",
              "      <td>[\"Shampoo\", \"Luggage dropoff allowed\", \"Dryer\"...</td>\n",
              "      <td>150.0</td>\n",
              "      <td>7</td>\n",
              "      <td>30</td>\n",
              "      <td>7.0</td>\n",
              "      <td>7.0</td>\n",
              "      <td>30.0</td>\n",
              "      <td>30.0</td>\n",
              "      <td>7.0</td>\n",
              "      <td>30.0</td>\n",
              "      <td>True</td>\n",
              "      <td>94</td>\n",
              "      <td>5</td>\n",
              "      <td>0</td>\n",
              "      <td>4.80</td>\n",
              "      <td>4.85</td>\n",
              "      <td>4.88</td>\n",
              "      <td>4.88</td>\n",
              "      <td>4.83</td>\n",
              "      <td>4.93</td>\n",
              "      <td>4.74</td>\n",
              "      <td>False</td>\n",
              "      <td>1</td>\n",
              "      <td>1</td>\n",
              "      <td>0</td>\n",
              "      <td>0</td>\n",
              "      <td>1.0</td>\n",
              "      <td>0.0</td>\n",
              "      <td>0.0</td>\n",
              "      <td>0.0</td>\n",
              "      <td>1.075927e+06</td>\n",
              "      <td>21.604951</td>\n",
              "    </tr>\n",
              "    <tr>\n",
              "      <th>4</th>\n",
              "      <td>within a few hours</td>\n",
              "      <td>90.000000</td>\n",
              "      <td>75.0</td>\n",
              "      <td>True</td>\n",
              "      <td>Greenwich</td>\n",
              "      <td>1.0</td>\n",
              "      <td>1.0</td>\n",
              "      <td>True</td>\n",
              "      <td>True</td>\n",
              "      <td>Greenwich</td>\n",
              "      <td>51.47618</td>\n",
              "      <td>0.01442</td>\n",
              "      <td>Private room in condo</td>\n",
              "      <td>Private room</td>\n",
              "      <td>2</td>\n",
              "      <td>1.785253</td>\n",
              "      <td>1.0</td>\n",
              "      <td>[\"Window guards\", \"Bathtub\", \"Hot water kettle...</td>\n",
              "      <td>46.0</td>\n",
              "      <td>4</td>\n",
              "      <td>365</td>\n",
              "      <td>2.0</td>\n",
              "      <td>4.0</td>\n",
              "      <td>365.0</td>\n",
              "      <td>365.0</td>\n",
              "      <td>4.0</td>\n",
              "      <td>365.0</td>\n",
              "      <td>True</td>\n",
              "      <td>180</td>\n",
              "      <td>25</td>\n",
              "      <td>3</td>\n",
              "      <td>4.62</td>\n",
              "      <td>4.70</td>\n",
              "      <td>4.59</td>\n",
              "      <td>4.63</td>\n",
              "      <td>4.81</td>\n",
              "      <td>4.64</td>\n",
              "      <td>4.67</td>\n",
              "      <td>False</td>\n",
              "      <td>1</td>\n",
              "      <td>0</td>\n",
              "      <td>1</td>\n",
              "      <td>0</td>\n",
              "      <td>1.0</td>\n",
              "      <td>0.0</td>\n",
              "      <td>1.0</td>\n",
              "      <td>0.0</td>\n",
              "      <td>3.112058e+05</td>\n",
              "      <td>19.898066</td>\n",
              "    </tr>\n",
              "    <tr>\n",
              "      <th>5</th>\n",
              "      <td>within an hour</td>\n",
              "      <td>100.000000</td>\n",
              "      <td>100.0</td>\n",
              "      <td>True</td>\n",
              "      <td>Fitzrovia</td>\n",
              "      <td>10.0</td>\n",
              "      <td>32.0</td>\n",
              "      <td>True</td>\n",
              "      <td>True</td>\n",
              "      <td>Westminster</td>\n",
              "      <td>51.52195</td>\n",
              "      <td>-0.14094</td>\n",
              "      <td>Entire rental unit</td>\n",
              "      <td>Entire home/apt</td>\n",
              "      <td>6</td>\n",
              "      <td>3.000000</td>\n",
              "      <td>3.0</td>\n",
              "      <td>[\"Single level home\", \"Bathtub\", \"Hot water ke...</td>\n",
              "      <td>476.0</td>\n",
              "      <td>3</td>\n",
              "      <td>365</td>\n",
              "      <td>3.0</td>\n",
              "      <td>3.0</td>\n",
              "      <td>365.0</td>\n",
              "      <td>365.0</td>\n",
              "      <td>3.0</td>\n",
              "      <td>365.0</td>\n",
              "      <td>True</td>\n",
              "      <td>54</td>\n",
              "      <td>4</td>\n",
              "      <td>0</td>\n",
              "      <td>4.76</td>\n",
              "      <td>4.83</td>\n",
              "      <td>4.71</td>\n",
              "      <td>4.71</td>\n",
              "      <td>4.71</td>\n",
              "      <td>4.88</td>\n",
              "      <td>4.60</td>\n",
              "      <td>False</td>\n",
              "      <td>9</td>\n",
              "      <td>9</td>\n",
              "      <td>0</td>\n",
              "      <td>0</td>\n",
              "      <td>2.0</td>\n",
              "      <td>0.0</td>\n",
              "      <td>0.0</td>\n",
              "      <td>0.0</td>\n",
              "      <td>1.600000e+06</td>\n",
              "      <td>21.008403</td>\n",
              "    </tr>\n",
              "    <tr>\n",
              "      <th>7</th>\n",
              "      <td>within an hour</td>\n",
              "      <td>93.454699</td>\n",
              "      <td>0.0</td>\n",
              "      <td>False</td>\n",
              "      <td>Battersea</td>\n",
              "      <td>1.0</td>\n",
              "      <td>3.0</td>\n",
              "      <td>True</td>\n",
              "      <td>True</td>\n",
              "      <td>Wandsworth</td>\n",
              "      <td>51.47072</td>\n",
              "      <td>-0.16266</td>\n",
              "      <td>Entire townhouse</td>\n",
              "      <td>Entire home/apt</td>\n",
              "      <td>3</td>\n",
              "      <td>1.000000</td>\n",
              "      <td>1.0</td>\n",
              "      <td>[\"Bathtub\", \"Free dryer \\u2013 In unit\", \"Hot ...</td>\n",
              "      <td>250.0</td>\n",
              "      <td>2</td>\n",
              "      <td>1125</td>\n",
              "      <td>2.0</td>\n",
              "      <td>2.0</td>\n",
              "      <td>1125.0</td>\n",
              "      <td>1125.0</td>\n",
              "      <td>2.0</td>\n",
              "      <td>1125.0</td>\n",
              "      <td>True</td>\n",
              "      <td>96</td>\n",
              "      <td>0</td>\n",
              "      <td>0</td>\n",
              "      <td>4.90</td>\n",
              "      <td>4.89</td>\n",
              "      <td>4.91</td>\n",
              "      <td>4.90</td>\n",
              "      <td>4.93</td>\n",
              "      <td>4.59</td>\n",
              "      <td>4.65</td>\n",
              "      <td>False</td>\n",
              "      <td>1</td>\n",
              "      <td>1</td>\n",
              "      <td>0</td>\n",
              "      <td>0</td>\n",
              "      <td>1.5</td>\n",
              "      <td>0.0</td>\n",
              "      <td>0.0</td>\n",
              "      <td>0.0</td>\n",
              "      <td>1.128839e+06</td>\n",
              "      <td>12.542650</td>\n",
              "    </tr>\n",
              "  </tbody>\n",
              "</table>\n",
              "</div>\n",
              "    <div class=\"colab-df-buttons\">\n",
              "\n",
              "  <div class=\"colab-df-container\">\n",
              "    <button class=\"colab-df-convert\" onclick=\"convertToInteractive('df-c1f66299-acd5-423b-80a0-96ee6266a8f2')\"\n",
              "            title=\"Convert this dataframe to an interactive table.\"\n",
              "            style=\"display:none;\">\n",
              "\n",
              "  <svg xmlns=\"http://www.w3.org/2000/svg\" height=\"24px\" viewBox=\"0 -960 960 960\">\n",
              "    <path d=\"M120-120v-720h720v720H120Zm60-500h600v-160H180v160Zm220 220h160v-160H400v160Zm0 220h160v-160H400v160ZM180-400h160v-160H180v160Zm440 0h160v-160H620v160ZM180-180h160v-160H180v160Zm440 0h160v-160H620v160Z\"/>\n",
              "  </svg>\n",
              "    </button>\n",
              "\n",
              "  <style>\n",
              "    .colab-df-container {\n",
              "      display:flex;\n",
              "      gap: 12px;\n",
              "    }\n",
              "\n",
              "    .colab-df-convert {\n",
              "      background-color: #E8F0FE;\n",
              "      border: none;\n",
              "      border-radius: 50%;\n",
              "      cursor: pointer;\n",
              "      display: none;\n",
              "      fill: #1967D2;\n",
              "      height: 32px;\n",
              "      padding: 0 0 0 0;\n",
              "      width: 32px;\n",
              "    }\n",
              "\n",
              "    .colab-df-convert:hover {\n",
              "      background-color: #E2EBFA;\n",
              "      box-shadow: 0px 1px 2px rgba(60, 64, 67, 0.3), 0px 1px 3px 1px rgba(60, 64, 67, 0.15);\n",
              "      fill: #174EA6;\n",
              "    }\n",
              "\n",
              "    .colab-df-buttons div {\n",
              "      margin-bottom: 4px;\n",
              "    }\n",
              "\n",
              "    [theme=dark] .colab-df-convert {\n",
              "      background-color: #3B4455;\n",
              "      fill: #D2E3FC;\n",
              "    }\n",
              "\n",
              "    [theme=dark] .colab-df-convert:hover {\n",
              "      background-color: #434B5C;\n",
              "      box-shadow: 0px 1px 3px 1px rgba(0, 0, 0, 0.15);\n",
              "      filter: drop-shadow(0px 1px 2px rgba(0, 0, 0, 0.3));\n",
              "      fill: #FFFFFF;\n",
              "    }\n",
              "  </style>\n",
              "\n",
              "    <script>\n",
              "      const buttonEl =\n",
              "        document.querySelector('#df-c1f66299-acd5-423b-80a0-96ee6266a8f2 button.colab-df-convert');\n",
              "      buttonEl.style.display =\n",
              "        google.colab.kernel.accessAllowed ? 'block' : 'none';\n",
              "\n",
              "      async function convertToInteractive(key) {\n",
              "        const element = document.querySelector('#df-c1f66299-acd5-423b-80a0-96ee6266a8f2');\n",
              "        const dataTable =\n",
              "          await google.colab.kernel.invokeFunction('convertToInteractive',\n",
              "                                                    [key], {});\n",
              "        if (!dataTable) return;\n",
              "\n",
              "        const docLinkHtml = 'Like what you see? Visit the ' +\n",
              "          '<a target=\"_blank\" href=https://colab.research.google.com/notebooks/data_table.ipynb>data table notebook</a>'\n",
              "          + ' to learn more about interactive tables.';\n",
              "        element.innerHTML = '';\n",
              "        dataTable['output_type'] = 'display_data';\n",
              "        await google.colab.output.renderOutput(dataTable, element);\n",
              "        const docLink = document.createElement('div');\n",
              "        docLink.innerHTML = docLinkHtml;\n",
              "        element.appendChild(docLink);\n",
              "      }\n",
              "    </script>\n",
              "  </div>\n",
              "\n",
              "\n",
              "<div id=\"df-1d042f14-c295-487c-b85f-c6d523413dcf\">\n",
              "  <button class=\"colab-df-quickchart\" onclick=\"quickchart('df-1d042f14-c295-487c-b85f-c6d523413dcf')\"\n",
              "            title=\"Suggest charts\"\n",
              "            style=\"display:none;\">\n",
              "\n",
              "<svg xmlns=\"http://www.w3.org/2000/svg\" height=\"24px\"viewBox=\"0 0 24 24\"\n",
              "     width=\"24px\">\n",
              "    <g>\n",
              "        <path d=\"M19 3H5c-1.1 0-2 .9-2 2v14c0 1.1.9 2 2 2h14c1.1 0 2-.9 2-2V5c0-1.1-.9-2-2-2zM9 17H7v-7h2v7zm4 0h-2V7h2v10zm4 0h-2v-4h2v4z\"/>\n",
              "    </g>\n",
              "</svg>\n",
              "  </button>\n",
              "\n",
              "<style>\n",
              "  .colab-df-quickchart {\n",
              "      --bg-color: #E8F0FE;\n",
              "      --fill-color: #1967D2;\n",
              "      --hover-bg-color: #E2EBFA;\n",
              "      --hover-fill-color: #174EA6;\n",
              "      --disabled-fill-color: #AAA;\n",
              "      --disabled-bg-color: #DDD;\n",
              "  }\n",
              "\n",
              "  [theme=dark] .colab-df-quickchart {\n",
              "      --bg-color: #3B4455;\n",
              "      --fill-color: #D2E3FC;\n",
              "      --hover-bg-color: #434B5C;\n",
              "      --hover-fill-color: #FFFFFF;\n",
              "      --disabled-bg-color: #3B4455;\n",
              "      --disabled-fill-color: #666;\n",
              "  }\n",
              "\n",
              "  .colab-df-quickchart {\n",
              "    background-color: var(--bg-color);\n",
              "    border: none;\n",
              "    border-radius: 50%;\n",
              "    cursor: pointer;\n",
              "    display: none;\n",
              "    fill: var(--fill-color);\n",
              "    height: 32px;\n",
              "    padding: 0;\n",
              "    width: 32px;\n",
              "  }\n",
              "\n",
              "  .colab-df-quickchart:hover {\n",
              "    background-color: var(--hover-bg-color);\n",
              "    box-shadow: 0 1px 2px rgba(60, 64, 67, 0.3), 0 1px 3px 1px rgba(60, 64, 67, 0.15);\n",
              "    fill: var(--button-hover-fill-color);\n",
              "  }\n",
              "\n",
              "  .colab-df-quickchart-complete:disabled,\n",
              "  .colab-df-quickchart-complete:disabled:hover {\n",
              "    background-color: var(--disabled-bg-color);\n",
              "    fill: var(--disabled-fill-color);\n",
              "    box-shadow: none;\n",
              "  }\n",
              "\n",
              "  .colab-df-spinner {\n",
              "    border: 2px solid var(--fill-color);\n",
              "    border-color: transparent;\n",
              "    border-bottom-color: var(--fill-color);\n",
              "    animation:\n",
              "      spin 1s steps(1) infinite;\n",
              "  }\n",
              "\n",
              "  @keyframes spin {\n",
              "    0% {\n",
              "      border-color: transparent;\n",
              "      border-bottom-color: var(--fill-color);\n",
              "      border-left-color: var(--fill-color);\n",
              "    }\n",
              "    20% {\n",
              "      border-color: transparent;\n",
              "      border-left-color: var(--fill-color);\n",
              "      border-top-color: var(--fill-color);\n",
              "    }\n",
              "    30% {\n",
              "      border-color: transparent;\n",
              "      border-left-color: var(--fill-color);\n",
              "      border-top-color: var(--fill-color);\n",
              "      border-right-color: var(--fill-color);\n",
              "    }\n",
              "    40% {\n",
              "      border-color: transparent;\n",
              "      border-right-color: var(--fill-color);\n",
              "      border-top-color: var(--fill-color);\n",
              "    }\n",
              "    60% {\n",
              "      border-color: transparent;\n",
              "      border-right-color: var(--fill-color);\n",
              "    }\n",
              "    80% {\n",
              "      border-color: transparent;\n",
              "      border-right-color: var(--fill-color);\n",
              "      border-bottom-color: var(--fill-color);\n",
              "    }\n",
              "    90% {\n",
              "      border-color: transparent;\n",
              "      border-bottom-color: var(--fill-color);\n",
              "    }\n",
              "  }\n",
              "</style>\n",
              "\n",
              "  <script>\n",
              "    async function quickchart(key) {\n",
              "      const quickchartButtonEl =\n",
              "        document.querySelector('#' + key + ' button');\n",
              "      quickchartButtonEl.disabled = true;  // To prevent multiple clicks.\n",
              "      quickchartButtonEl.classList.add('colab-df-spinner');\n",
              "      try {\n",
              "        const charts = await google.colab.kernel.invokeFunction(\n",
              "            'suggestCharts', [key], {});\n",
              "      } catch (error) {\n",
              "        console.error('Error during call to suggestCharts:', error);\n",
              "      }\n",
              "      quickchartButtonEl.classList.remove('colab-df-spinner');\n",
              "      quickchartButtonEl.classList.add('colab-df-quickchart-complete');\n",
              "    }\n",
              "    (() => {\n",
              "      let quickchartButtonEl =\n",
              "        document.querySelector('#df-1d042f14-c295-487c-b85f-c6d523413dcf button');\n",
              "      quickchartButtonEl.style.display =\n",
              "        google.colab.kernel.accessAllowed ? 'block' : 'none';\n",
              "    })();\n",
              "  </script>\n",
              "</div>\n",
              "    </div>\n",
              "  </div>\n"
            ],
            "text/plain": [
              "   host_response_time  host_response_rate  host_acceptance_rate  \\\n",
              "1  within a few hours          100.000000                  25.0   \n",
              "3        within a day          100.000000                  41.0   \n",
              "4  within a few hours           90.000000                  75.0   \n",
              "5      within an hour          100.000000                 100.0   \n",
              "7      within an hour           93.454699                   0.0   \n",
              "\n",
              "   host_is_superhost host_neighbourhood  host_listings_count  \\\n",
              "1              False        Hammersmith                  1.0   \n",
              "3              False            Chelsea                  1.0   \n",
              "4               True          Greenwich                  1.0   \n",
              "5               True          Fitzrovia                 10.0   \n",
              "7              False          Battersea                  1.0   \n",
              "\n",
              "   host_total_listings_count  host_has_profile_pic  host_identity_verified  \\\n",
              "1                        2.0                  True                    True   \n",
              "3                       12.0                  True                    True   \n",
              "4                        1.0                  True                    True   \n",
              "5                       32.0                  True                    True   \n",
              "7                        3.0                  True                    True   \n",
              "\n",
              "   neighbourhood_cleansed  latitude  longitude          property_type  \\\n",
              "1  Hammersmith and Fulham  51.49993   -0.21707     Entire rental unit   \n",
              "3  Kensington and Chelsea  51.48780   -0.16813     Entire rental unit   \n",
              "4               Greenwich  51.47618    0.01442  Private room in condo   \n",
              "5             Westminster  51.52195   -0.14094     Entire rental unit   \n",
              "7              Wandsworth  51.47072   -0.16266       Entire townhouse   \n",
              "\n",
              "         room_type  accommodates  bedrooms  beds  \\\n",
              "1  Entire home/apt             5  2.000000   3.0   \n",
              "3  Entire home/apt             2  1.000000   1.0   \n",
              "4     Private room             2  1.785253   1.0   \n",
              "5  Entire home/apt             6  3.000000   3.0   \n",
              "7  Entire home/apt             3  1.000000   1.0   \n",
              "\n",
              "                                           amenities  price  minimum_nights  \\\n",
              "1  [\"Window guards\", \"Bathtub\", \"Hot water kettle...  175.0               5   \n",
              "3  [\"Shampoo\", \"Luggage dropoff allowed\", \"Dryer\"...  150.0               7   \n",
              "4  [\"Window guards\", \"Bathtub\", \"Hot water kettle...   46.0               4   \n",
              "5  [\"Single level home\", \"Bathtub\", \"Hot water ke...  476.0               3   \n",
              "7  [\"Bathtub\", \"Free dryer \\u2013 In unit\", \"Hot ...  250.0               2   \n",
              "\n",
              "   maximum_nights  minimum_minimum_nights  maximum_minimum_nights  \\\n",
              "1             240                     5.0                     5.0   \n",
              "3              30                     7.0                     7.0   \n",
              "4             365                     2.0                     4.0   \n",
              "5             365                     3.0                     3.0   \n",
              "7            1125                     2.0                     2.0   \n",
              "\n",
              "   minimum_maximum_nights  maximum_maximum_nights  minimum_nights_avg_ntm  \\\n",
              "1                   240.0                   240.0                     5.0   \n",
              "3                    30.0                    30.0                     7.0   \n",
              "4                   365.0                   365.0                     4.0   \n",
              "5                   365.0                   365.0                     3.0   \n",
              "7                  1125.0                  1125.0                     2.0   \n",
              "\n",
              "   maximum_nights_avg_ntm  has_availability  number_of_reviews  \\\n",
              "1                   240.0              True                 38   \n",
              "3                    30.0              True                 94   \n",
              "4                   365.0              True                180   \n",
              "5                   365.0              True                 54   \n",
              "7                  1125.0              True                 96   \n",
              "\n",
              "   number_of_reviews_ltm  number_of_reviews_l30d  review_scores_rating  \\\n",
              "1                      2                       0                  4.82   \n",
              "3                      5                       0                  4.80   \n",
              "4                     25                       3                  4.62   \n",
              "5                      4                       0                  4.76   \n",
              "7                      0                       0                  4.90   \n",
              "\n",
              "   review_scores_accuracy  review_scores_cleanliness  review_scores_checkin  \\\n",
              "1                    4.76                       4.62                   4.85   \n",
              "3                    4.85                       4.88                   4.88   \n",
              "4                    4.70                       4.59                   4.63   \n",
              "5                    4.83                       4.71                   4.71   \n",
              "7                    4.89                       4.91                   4.90   \n",
              "\n",
              "   review_scores_communication  review_scores_location  review_scores_value  \\\n",
              "1                         4.88                    4.85                 4.74   \n",
              "3                         4.83                    4.93                 4.74   \n",
              "4                         4.81                    4.64                 4.67   \n",
              "5                         4.71                    4.88                 4.60   \n",
              "7                         4.93                    4.59                 4.65   \n",
              "\n",
              "   instant_bookable  calculated_host_listings_count  \\\n",
              "1             False                               1   \n",
              "3             False                               1   \n",
              "4             False                               1   \n",
              "5             False                               9   \n",
              "7             False                               1   \n",
              "\n",
              "   calculated_host_listings_count_entire_homes  \\\n",
              "1                                            1   \n",
              "3                                            1   \n",
              "4                                            0   \n",
              "5                                            9   \n",
              "7                                            1   \n",
              "\n",
              "   calculated_host_listings_count_private_rooms  \\\n",
              "1                                             0   \n",
              "3                                             0   \n",
              "4                                             1   \n",
              "5                                             0   \n",
              "7                                             0   \n",
              "\n",
              "   calculated_host_listings_count_shared_rooms  bathrooms_count  private_bath  \\\n",
              "1                                            0              1.0           0.0   \n",
              "3                                            0              1.0           0.0   \n",
              "4                                            0              1.0           0.0   \n",
              "5                                            0              2.0           0.0   \n",
              "7                                            0              1.5           0.0   \n",
              "\n",
              "   shared_bath  half_bath  price_estimate      delay  \n",
              "1          0.0        0.0    5.749781e+05  15.796101  \n",
              "3          0.0        0.0    1.075927e+06  21.604951  \n",
              "4          1.0        0.0    3.112058e+05  19.898066  \n",
              "5          0.0        0.0    1.600000e+06  21.008403  \n",
              "7          0.0        0.0    1.128839e+06  12.542650  "
            ]
          },
          "execution_count": 105,
          "metadata": {},
          "output_type": "execute_result"
        }
      ],
      "source": [
        "df.head()"
      ]
    },
    {
      "cell_type": "markdown",
      "source": [
        "Calculate the percentage of properties with less than 5 listings, between 5 and 100 listing"
      ],
      "metadata": {
        "id": "kqFV-YezEYTU"
      }
    },
    {
      "cell_type": "code",
      "execution_count": null,
      "metadata": {
        "colab": {
          "base_uri": "https://localhost:8080/"
        },
        "id": "JItXz3UD4ggZ",
        "outputId": "81c919f6-b210-4a16-b777-bbbbc2f6d949"
      },
      "outputs": [
        {
          "name": "stdout",
          "output_type": "stream",
          "text": [
            "Percentage of properties owned by hosts with 5 or fewer listings: 74.43%\n",
            "Percentage of properties owned by hosts with more than 5 and up to 100 listings: 20.37%\n"
          ]
        },
        {
          "name": "stderr",
          "output_type": "stream",
          "text": [
            "<ipython-input-106-2ba41c92a0e5>:14: SettingWithCopyWarning: \n",
            "A value is trying to be set on a copy of a slice from a DataFrame.\n",
            "Try using .loc[row_indexer,col_indexer] = value instead\n",
            "\n",
            "See the caveats in the documentation: https://pandas.pydata.org/pandas-docs/stable/user_guide/indexing.html#returning-a-view-versus-a-copy\n",
            "  df['bin_<=5'] = df['host_listings_count'] <= 5\n",
            "<ipython-input-106-2ba41c92a0e5>:15: SettingWithCopyWarning: \n",
            "A value is trying to be set on a copy of a slice from a DataFrame.\n",
            "Try using .loc[row_indexer,col_indexer] = value instead\n",
            "\n",
            "See the caveats in the documentation: https://pandas.pydata.org/pandas-docs/stable/user_guide/indexing.html#returning-a-view-versus-a-copy\n",
            "  df['bin_6-100'] = (df['host_listings_count'] > 5) & (df['host_listings_count'] <= 100)\n",
            "<ipython-input-106-2ba41c92a0e5>:16: SettingWithCopyWarning: \n",
            "A value is trying to be set on a copy of a slice from a DataFrame.\n",
            "Try using .loc[row_indexer,col_indexer] = value instead\n",
            "\n",
            "See the caveats in the documentation: https://pandas.pydata.org/pandas-docs/stable/user_guide/indexing.html#returning-a-view-versus-a-copy\n",
            "  df['bin_>100'] = df['host_listings_count'] > 100\n"
          ]
        }
      ],
      "source": [
        "# Calculate the percentage of properties with <= 5 listings\n",
        "percent_less_equal_5 = (df['host_listings_count'] <= 5).mean() * 100\n",
        "\n",
        "# Calculate the percentage of properties with > 5 and <= 100 listings\n",
        "percent_less_equal_100 = (df['host_listings_count'] > 5) & (df['host_listings_count'] <= 100)\n",
        "percent_less_equal_100 = percent_less_equal_100.mean() * 100\n",
        "\n",
        "# Print the results\n",
        "print(f\"Percentage of properties owned by hosts with 5 or fewer listings: {percent_less_equal_5:.2f}%\")\n",
        "print(f\"Percentage of properties owned by hosts with more than 5 and up to 100 listings: {percent_less_equal_100:.2f}%\")\n",
        "\n",
        "# Binning the data\n",
        "# Creating boolean features based on the host_listing_count\n",
        "df['bin_<=5'] = df['host_listings_count'] <= 5\n",
        "df['bin_6-100'] = (df['host_listings_count'] > 5) & (df['host_listings_count'] <= 100)\n",
        "df['bin_>100'] = df['host_listings_count'] > 100\n",
        "\n",
        "# Now df includes the binned variables as new columns\n"
      ]
    },
    {
      "cell_type": "markdown",
      "source": [
        "Analysing the distribuition of the host listings count"
      ],
      "metadata": {
        "id": "MdnQBs9KEgi8"
      }
    },
    {
      "cell_type": "code",
      "execution_count": null,
      "metadata": {
        "colab": {
          "base_uri": "https://localhost:8080/"
        },
        "id": "NPeCDUpU5LIg",
        "outputId": "c9a6d9f4-ac45-4e7e-c8ce-afc3b56b10f1"
      },
      "outputs": [
        {
          "name": "stdout",
          "output_type": "stream",
          "text": [
            "Percentage of properties owned by hosts with 5 or less properties: 74.42937044555106%\n",
            "Percentage of properties owned by hosts with more than 100 properties: 5.197365538794048%\n"
          ]
        }
      ],
      "source": [
        "# Analysing the distribution\n",
        "total_properties = df.shape[0]\n",
        "properties_5_or_less = df[df['host_listings_count'] <= 5].shape[0]\n",
        "properties_more_than_100 = df[df['host_listings_count'] > 100].shape[0]\n",
        "\n",
        "percentage_5_or_less = (properties_5_or_less / total_properties) * 100\n",
        "percentage_more_than_100 = (properties_more_than_100 / total_properties) * 100\n",
        "\n",
        "print(f\"Percentage of properties owned by hosts with 5 or less properties: {percentage_5_or_less}%\")\n",
        "print(f\"Percentage of properties owned by hosts with more than 100 properties: {percentage_more_than_100}%\")\n",
        "\n"
      ]
    },
    {
      "cell_type": "markdown",
      "source": [
        "Calculate percentage of properties with less than 6 beds, 6 bedrooms and 6 bathrooms"
      ],
      "metadata": {
        "id": "8vSptQyXEq6D"
      }
    },
    {
      "cell_type": "code",
      "execution_count": null,
      "metadata": {
        "colab": {
          "base_uri": "https://localhost:8080/"
        },
        "id": "OPSjkpzs7vLc",
        "outputId": "079ff266-d057-44e7-dccc-d776b3f175d7"
      },
      "outputs": [
        {
          "name": "stdout",
          "output_type": "stream",
          "text": [
            "Percentage of properties with less than 6 beds: 98.38%\n",
            "Percentage of properties with less than 6 bedrooms: 99.73%\n",
            "Percentage of properties with less than 6 bathrooms: 99.95%\n"
          ]
        }
      ],
      "source": [
        "# Define the thresholds\n",
        "beds_threshold = 6\n",
        "bedrooms_threshold = 6\n",
        "bathrooms_threshold = 6\n",
        "\n",
        "# Calculate the percentages\n",
        "total_properties = df.shape[0]\n",
        "percent_beds_less_than_threshold = (df[df['beds'] < beds_threshold].shape[0] / total_properties) * 100\n",
        "percent_bedrooms_less_than_threshold = (df[df['bedrooms'] < bedrooms_threshold].shape[0] / total_properties) * 100\n",
        "percent_bathrooms_less_than_threshold = (df[df['bathrooms_count'] < bathrooms_threshold].shape[0] / total_properties) * 100\n",
        "\n",
        "print(f\"Percentage of properties with less than {beds_threshold} beds: {percent_beds_less_than_threshold:.2f}%\")\n",
        "print(f\"Percentage of properties with less than {bedrooms_threshold} bedrooms: {percent_bedrooms_less_than_threshold:.2f}%\")\n",
        "print(f\"Percentage of properties with less than {bathrooms_threshold} bathrooms: {percent_bathrooms_less_than_threshold:.2f}%\")\n",
        "\n"
      ]
    },
    {
      "cell_type": "markdown",
      "source": [
        "Check how many different property types there are in the dataset"
      ],
      "metadata": {
        "id": "CLldApC7E1jI"
      }
    },
    {
      "cell_type": "code",
      "execution_count": null,
      "metadata": {
        "colab": {
          "base_uri": "https://localhost:8080/"
        },
        "id": "UvJs8kDMELB_",
        "outputId": "112c95cb-2f87-4763-ec8d-9689cc223fad"
      },
      "outputs": [
        {
          "name": "stdout",
          "output_type": "stream",
          "text": [
            "There are 85 different property types in the dataset.\n"
          ]
        }
      ],
      "source": [
        "unique_property_types = df['property_type'].nunique()\n",
        "print(f\"There are {unique_property_types} different property types in the dataset.\")\n"
      ]
    },
    {
      "cell_type": "markdown",
      "source": [
        "Check how many properties types appear less than 10 times in the dataset"
      ],
      "metadata": {
        "id": "rf5Xj2LnE6E4"
      }
    },
    {
      "cell_type": "code",
      "execution_count": null,
      "metadata": {
        "colab": {
          "base_uri": "https://localhost:8080/"
        },
        "id": "ibL7E8KZEmoE",
        "outputId": "940521e1-871f-4041-b9b3-475f84b9b6dd"
      },
      "outputs": [
        {
          "name": "stdout",
          "output_type": "stream",
          "text": [
            "There are 41 property types that appear less than 10 times in the dataset.\n"
          ]
        }
      ],
      "source": [
        "less_than_10 = (df['property_type'].value_counts() < 10).sum()\n",
        "print(f\"There are {less_than_10} property types that appear less than 10 times in the dataset.\")\n"
      ]
    },
    {
      "cell_type": "markdown",
      "source": [
        "\n",
        "\n",
        "*   Calculate the percentage of properties owned by superhosts\n",
        "*   Calculate the percentage of hosts response time\n",
        "*   Calculate the percentage of properties in Westminster\n",
        "*   Calculate distribution of homes between the London boroughs\n",
        "*   Calculate the percentage of hosts with proper identity verification and a set profile picture\n",
        "*   Calculate the percentage of properties with host_neighbourhood set to “Unknown”\n",
        "\n"
      ],
      "metadata": {
        "id": "NMjdDX7HFAKn"
      }
    },
    {
      "cell_type": "code",
      "execution_count": null,
      "metadata": {
        "colab": {
          "base_uri": "https://localhost:8080/"
        },
        "id": "lnyqRpeV-b73",
        "outputId": "37882355-d312-4ab8-b979-5bde561792b0"
      },
      "outputs": [
        {
          "name": "stdout",
          "output_type": "stream",
          "text": [
            "Superhost Properties: False    84.664924\n",
            "True     15.335076\n",
            "Name: host_is_superhost, dtype: float64% of all Airbnb properties are owned by superhosts.\n",
            "Host Response Times:\n",
            "  - Within an hour: 80.11%\n",
            "  - Within a few hours: 11.97%\n",
            "  - Within a day: 6.68%\n",
            "Westminster Properties: 11.47% of all properties are located in Westminster.\n",
            "London Borough Distribution:\n",
            "  - Top 8 boroughs represent: 58.39% of the market\n",
            "  - Bottom 12 boroughs represent: 8.22% of the market\n",
            "Verified Hosts with Profile Pictures: 84.74% of all hosts have verified identities and profile pictures.\n",
            "'Unknown' Neighbourhoods: 46.90% of properties have their host_neighbourhood set to 'Unknown'.\n"
          ]
        }
      ],
      "source": [
        "\n",
        "# Calculating the percentage of properties owned by superhosts\n",
        "superhost_count = df['host_is_superhost'].value_counts(normalize=True) * 100\n",
        "\n",
        "# Calculating the percentage of hosts response time\n",
        "response_time_stats = df['host_response_time'].value_counts(normalize=True) * 100\n",
        "\n",
        "# Calculating the percentage of properties in Westminster\n",
        "westminster_count = (df['neighbourhood_cleansed'] == 'Westminster').sum() / len(df) * 100\n",
        "\n",
        "# Distribution of homes between the London boroughs\n",
        "borough_market_share = df['neighbourhood_cleansed'].value_counts(normalize=True) * 100\n",
        "top_8_boroughs_share = borough_market_share.head(8).sum()\n",
        "bottom_12_boroughs_share = borough_market_share.tail(12).sum()\n",
        "\n",
        "# Calculating the percentage of hosts with proper identity verification and a set profile picture\n",
        "verified_and_picture_count = df[(df['host_has_profile_pic'] == True) & (df['host_identity_verified'] == True)].shape[0] / len(df) * 100\n",
        "\n",
        "# Calculating the percentage of properties with host_neighbourhood set to “Unknown”\n",
        "unknown_neighbourhood_count = (df['host_neighbourhood'] == 'Unknown').sum() / len(df) * 100\n",
        "\n",
        "print(f\"Superhost Properties: {superhost_count}% of all Airbnb properties are owned by superhosts.\")\n",
        "print(\"Host Response Times:\")\n",
        "print(f\"  - Within an hour: {response_time_stats['within an hour']:.2f}%\")\n",
        "print(f\"  - Within a few hours: {response_time_stats['within a few hours']:.2f}%\")\n",
        "print(f\"  - Within a day: {response_time_stats['within a day']:.2f}%\")\n",
        "print(f\"Westminster Properties: {westminster_count:.2f}% of all properties are located in Westminster.\")\n",
        "print(f\"London Borough Distribution:\")\n",
        "print(f\"  - Top 8 boroughs represent: {top_8_boroughs_share:.2f}% of the market\")\n",
        "print(f\"  - Bottom 12 boroughs represent: {bottom_12_boroughs_share:.2f}% of the market\")\n",
        "print(f\"Verified Hosts with Profile Pictures: {verified_and_picture_count:.2f}% of all hosts have verified identities and profile pictures.\")\n",
        "print(f\"'Unknown' Neighbourhoods: {unknown_neighbourhood_count:.2f}% of properties have their host_neighbourhood set to 'Unknown'.\")\n",
        "\n"
      ]
    },
    {
      "cell_type": "markdown",
      "source": [
        "Perform type conversion"
      ],
      "metadata": {
        "id": "CbXR9r53F_Xj"
      }
    },
    {
      "cell_type": "code",
      "execution_count": null,
      "metadata": {
        "id": "p_SuxhnxMpLL"
      },
      "outputs": [],
      "source": [
        "df[\"instant_bookable\"] = df[\"instant_bookable\"].astype(\"bool\")\n",
        "df[\"has_availability\"] = df[\"has_availability\"].astype(\"bool\")"
      ]
    },
    {
      "cell_type": "markdown",
      "source": [
        "Plot the accomodates column"
      ],
      "metadata": {
        "id": "01B8ZaMGGB0u"
      }
    },
    {
      "cell_type": "code",
      "execution_count": null,
      "metadata": {
        "colab": {
          "base_uri": "https://localhost:8080/",
          "height": 447
        },
        "id": "MepSZ7w0xzW-",
        "outputId": "747eb885-b37f-4ddf-92ec-68243ed46477"
      },
      "outputs": [
        {
          "data": {
            "text/plain": [
              "<Axes: >"
            ]
          },
          "execution_count": 113,
          "metadata": {},
          "output_type": "execute_result"
        },
        {
          "data": {
            "image/png": "[encoded data removed]",
            "text/plain": [
              "<Figure size 640x480 with 1 Axes>"
            ]
          },
          "metadata": {},
          "output_type": "display_data"
        }
      ],
      "source": [
        "df[\"accommodates\"].hist()"
      ]
    },
    {
      "cell_type": "markdown",
      "source": [
        "Count each unique value of the neighbourhood inclusing only those where the count is less than 1000"
      ],
      "metadata": {
        "id": "-Oi7oluFGKTF"
      }
    },
    {
      "cell_type": "code",
      "execution_count": null,
      "metadata": {
        "colab": {
          "base_uri": "https://localhost:8080/"
        },
        "id": "EmGNfK8LCEKB",
        "outputId": "e36e29b5-081a-4c8c-95c5-1ec2cae0b926"
      },
      "outputs": [
        {
          "data": {
            "text/plain": [
              "Hounslow                919\n",
              "Redbridge               582\n",
              "Kingston upon Thames    572\n",
              "Bromley                 548\n",
              "Hillingdon              530\n",
              "City of London          493\n",
              "Enfield                 465\n",
              "Harrow                  365\n",
              "Barking and Dagenham    360\n",
              "Bexley                  289\n",
              "Sutton                  272\n",
              "Havering                233\n",
              "Name: neighbourhood_cleansed, dtype: int64"
            ]
          },
          "execution_count": 114,
          "metadata": {},
          "output_type": "execute_result"
        }
      ],
      "source": [
        "df[\"neighbourhood_cleansed\"].value_counts()[df[\"neighbourhood_cleansed\"].value_counts()<1000]"
      ]
    },
    {
      "cell_type": "markdown",
      "source": [
        "Find out what fraction of the dataset is represented by neighborhoods that are more prevalent (more than 5% of entries) in the \"neighbourhood_cleansed\" column"
      ],
      "metadata": {
        "id": "XY1c6jBoGWn7"
      }
    },
    {
      "cell_type": "code",
      "execution_count": null,
      "metadata": {
        "colab": {
          "base_uri": "https://localhost:8080/"
        },
        "id": "KVloz5XF6jEU",
        "outputId": "cf9196c1-e3a6-4541-e6ee-c8df373098c5"
      },
      "outputs": [
        {
          "data": {
            "text/plain": [
              "0.5838602742526687"
            ]
          },
          "execution_count": 115,
          "metadata": {},
          "output_type": "execute_result"
        }
      ],
      "source": [
        "df[\"neighbourhood_cleansed\"].value_counts()[(df[\"neighbourhood_cleansed\"].value_counts()/len(df))>.05].sum()/len(df)"
      ]
    },
    {
      "cell_type": "markdown",
      "source": [
        "Calculate the total number of different property types"
      ],
      "metadata": {
        "id": "Vtcl-TqzX3Rk"
      }
    },
    {
      "cell_type": "code",
      "execution_count": null,
      "metadata": {
        "colab": {
          "base_uri": "https://localhost:8080/"
        },
        "id": "eAEuuPhy5Tg9",
        "outputId": "932099ed-9f43-4e68-ba6b-37c9d785a883"
      },
      "outputs": [
        {
          "data": {
            "text/plain": [
              "85"
            ]
          },
          "execution_count": 116,
          "metadata": {},
          "output_type": "execute_result"
        }
      ],
      "source": [
        "len(df[\"property_type\"].unique())"
      ]
    },
    {
      "cell_type": "markdown",
      "source": [
        "Caculate the total number of different property types in the dataset that appear more than 10 times"
      ],
      "metadata": {
        "id": "0ynN2cbGYABF"
      }
    },
    {
      "cell_type": "code",
      "execution_count": null,
      "metadata": {
        "colab": {
          "base_uri": "https://localhost:8080/"
        },
        "id": "HhAVOU-5418l",
        "outputId": "27ed2a0d-0a9d-4288-bb54-42437c42b41b"
      },
      "outputs": [
        {
          "data": {
            "text/plain": [
              "44"
            ]
          },
          "execution_count": 117,
          "metadata": {},
          "output_type": "execute_result"
        }
      ],
      "source": [
        "len(df[\"property_type\"].value_counts()[df[\"property_type\"].value_counts()>10])"
      ]
    },
    {
      "cell_type": "markdown",
      "source": [
        "Identify and list the property types in the dataset that are more common (occur more than 1000 times)"
      ],
      "metadata": {
        "id": "zyDzOuWexTiB"
      }
    },
    {
      "cell_type": "code",
      "execution_count": null,
      "metadata": {
        "colab": {
          "base_uri": "https://localhost:8080/"
        },
        "id": "lJtq0sh88dNm",
        "outputId": "8b785d9d-6871-4ce5-a5eb-d2f0a43836c3"
      },
      "outputs": [
        {
          "data": {
            "text/plain": [
              "Entire rental unit             28620\n",
              "Private room in rental unit    10432\n",
              "Entire condo                    7162\n",
              "Private room in home            6827\n",
              "Entire home                     6336\n",
              "Private room in condo           2159\n",
              "Entire serviced apartment       1602\n",
              "Entire townhouse                1001\n",
              "Name: property_type, dtype: int64"
            ]
          },
          "execution_count": 118,
          "metadata": {},
          "output_type": "execute_result"
        }
      ],
      "source": [
        "filtered = df[\"property_type\"].value_counts()[df[\"property_type\"].value_counts()>1000]\n",
        "filtered"
      ]
    },
    {
      "cell_type": "markdown",
      "source": [
        "Relative frequency of each room type in the dataset"
      ],
      "metadata": {
        "id": "jG0UtSL8xtgs"
      }
    },
    {
      "cell_type": "code",
      "execution_count": null,
      "metadata": {
        "colab": {
          "base_uri": "https://localhost:8080/",
          "height": 549
        },
        "id": "4mVgu1L9mk9B",
        "outputId": "d5e99045-547a-4ade-ba5b-721ecc3c1dcd"
      },
      "outputs": [
        {
          "data": {
            "text/plain": [
              "<Axes: >"
            ]
          },
          "execution_count": 119,
          "metadata": {},
          "output_type": "execute_result"
        },
        {
          "data": {
            "image/png": "[encoded data removed]",
            "text/plain": [
              "<Figure size 640x480 with 1 Axes>"
            ]
          },
          "metadata": {},
          "output_type": "display_data"
        }
      ],
      "source": [
        "(df[\"room_type\"].value_counts()/len(df)).plot(kind = \"bar\")"
      ]
    },
    {
      "cell_type": "markdown",
      "metadata": {
        "id": "PV1Fl_tYx-av"
      },
      "source": [
        "The majority of houses make their value dack in less than 400 months (33 years). It is the case that some go way beyond that to 1400 months. This can be attributed to how people set their renting prices, some set them too high, some set them too low. However, the majority of delays should reflect the reality of the expected delays as people will adapt their pricing to match the market."
      ]
    },
    {
      "cell_type": "markdown",
      "metadata": {
        "id": "rEH2JNsJzqR-"
      },
      "source": [
        "Let's start by replacing amenities with the number of amenities. The initial feature would require NLP to properly evaluate all the ameties and their contribution. However, getting the  number of amenities as an estimate gives information on how much added comfort the landlord is trying to give to the tenant."
      ]
    },
    {
      "cell_type": "code",
      "execution_count": null,
      "metadata": {
        "colab": {
          "base_uri": "https://localhost:8080/"
        },
        "id": "IbveDDpJqODh",
        "outputId": "a85409da-18ea-4278-d85b-e46231465ff8"
      },
      "outputs": [
        {
          "data": {
            "text/plain": [
              "0.0"
            ]
          },
          "execution_count": 120,
          "metadata": {},
          "output_type": "execute_result"
        }
      ],
      "source": [
        "len(df[df[\"delay\"]>400])/len(df)*100"
      ]
    },
    {
      "cell_type": "code",
      "execution_count": null,
      "metadata": {
        "colab": {
          "base_uri": "https://localhost:8080/",
          "height": 465
        },
        "id": "h2pyjwv_qFHH",
        "outputId": "ca5371c2-ee75-4528-e4d9-d5f7df2bd0d7"
      },
      "outputs": [
        {
          "data": {
            "text/plain": [
              "<Axes: >"
            ]
          },
          "execution_count": 121,
          "metadata": {},
          "output_type": "execute_result"
        },
        {
          "data": {
            "image/png": "[encoded data removed]",
            "text/plain": [
              "<Figure size 640x480 with 1 Axes>"
            ]
          },
          "metadata": {},
          "output_type": "display_data"
        }
      ],
      "source": [
        "df[\"price_estimate\"].hist()"
      ]
    },
    {
      "cell_type": "markdown",
      "source": [
        "How many listings in the dataset adhere to a maximum or a minimum duration of 30 days or less"
      ],
      "metadata": {
        "id": "4y8MhwicygAH"
      }
    },
    {
      "cell_type": "code",
      "execution_count": null,
      "metadata": {
        "colab": {
          "base_uri": "https://localhost:8080/"
        },
        "id": "TUc074hLdEam",
        "outputId": "740d4f4b-9df8-4f92-a76c-54ecbc647c60"
      },
      "outputs": [
        {
          "name": "stdout",
          "output_type": "stream",
          "text": [
            "minimum_nights: 98.72% of entries are at most 30 days.\n",
            "maximum_nights: 23.05% of entries are at most 30 days.\n",
            "minimum_maximum_nights: 19.29% of entries are at most 30 days.\n",
            "maximum_minimum_nights: 95.89% of entries are at most 30 days.\n",
            "maximum_maximum_nights: 17.97% of entries are at most 30 days.\n",
            "minimum_minimum_nights: 98.67% of entries are at most 30 days.\n"
          ]
        }
      ],
      "source": [
        "\n",
        "\n",
        "# Define the features related to the number of nights\n",
        "nights_features = [\n",
        "    'minimum_nights', 'maximum_nights', 'minimum_maximum_nights',\n",
        "    'maximum_minimum_nights', 'maximum_maximum_nights', 'minimum_minimum_nights'\n",
        "]\n",
        "\n",
        "# Define the threshold\n",
        "threshold = 30\n",
        "\n",
        "# Initialize a dictionary to store the percentages\n",
        "percentages = {}\n",
        "\n",
        "# Calculate the percentage of entries that have a value of at most 30 days for each feature\n",
        "for feature in nights_features:\n",
        "    count_at_most_threshold = df[df[feature] <= threshold].shape[0]\n",
        "    total_count = df.shape[0]\n",
        "    percentages[feature] = (count_at_most_threshold / total_count) * 100\n",
        "\n",
        "# Output the percentages for each feature\n",
        "for feature, percent in percentages.items():\n",
        "    print(f\"{feature}: {percent:.2f}% of entries are at most {threshold} days.\")\n",
        "\n"
      ]
    },
    {
      "cell_type": "markdown",
      "source": [
        "Deal with amenities text and convert into meaningful numbers information:\n",
        "\n",
        "*   Remove leading and trailing character though [1:-1] slice, thus getting rid of the list brackets '[' and ']'\n",
        "*   Splitting by space, as that character is used to separate the amenities\n",
        "*   Computing the length of the result, resulting in the number of amenities"
      ],
      "metadata": {
        "id": "04DkepDpy3bG"
      }
    },
    {
      "cell_type": "code",
      "execution_count": null,
      "metadata": {
        "id": "wQ-TwqGx0mS7"
      },
      "outputs": [],
      "source": [
        "def count_amenities(amenities):\n",
        "  return len(amenities[1:-1].split(\",\"))"
      ]
    },
    {
      "cell_type": "code",
      "execution_count": null,
      "metadata": {
        "id": "YtrFlb-L2L_v"
      },
      "outputs": [],
      "source": [
        "sett = set()\n",
        "for amen in df[\"amenities\"]:\n",
        "  for elem in amen[1:-1].split(\",\"):\n",
        "    sett.add(elem)"
      ]
    },
    {
      "cell_type": "code",
      "execution_count": null,
      "metadata": {
        "colab": {
          "base_uri": "https://localhost:8080/"
        },
        "id": "L3LE5h_J2ats",
        "outputId": "5cd2721b-24e6-4db7-ac9b-47b4489458e4"
      },
      "outputs": [
        {
          "data": {
            "text/plain": [
              "[' \"Not sure body soap\"',\n",
              " ' \"Not sure shampoo\"',\n",
              " ' \"Leisure stainless steel double oven\"',\n",
              " ' \"Not sure yet  shampoo\"',\n",
              " ' \"Unsure  refrigerator\"',\n",
              " ' \"Please make sure you close the fridge door \\\\u263a\\\\ufe0f refrigerator\"',\n",
              " '\"Not sure! conditioner\"',\n",
              " ' \"Not sure refrigerator\"',\n",
              " ' \"Unsure body soap\"',\n",
              " ' \"Not sure conditioner\"']"
            ]
          },
          "execution_count": 125,
          "metadata": {},
          "output_type": "execute_result"
        }
      ],
      "source": [
        "[x for x in sett if \"sure\" in x][:10]"
      ]
    },
    {
      "cell_type": "code",
      "execution_count": null,
      "metadata": {
        "id": "fLnUn8_Ox1s9"
      },
      "outputs": [],
      "source": [
        "df[\"amenity_count\"] = df[\"amenities\"].apply(count_amenities)"
      ]
    },
    {
      "cell_type": "code",
      "execution_count": null,
      "metadata": {
        "id": "QOCV_j_S0Jy0"
      },
      "outputs": [],
      "source": [
        "df.drop(columns = [\"amenities\"], inplace = True)"
      ]
    },
    {
      "cell_type": "code",
      "execution_count": null,
      "metadata": {
        "id": "wV_BtxUDcLRe"
      },
      "outputs": [],
      "source": [
        "categorical_features = [\"host_response_time\", \"host_is_superhost\", \"host_neighbourhood\", \"host_has_profile_pic\", \"host_identity_verified\", \"neighbourhood_cleansed\",\"room_type\", \"property_type\"]\n",
        "numerical_features = [x for x in df.columns if not(x in categorical_features)]\n",
        "numerical_features.remove(\"delay\")"
      ]
    },
    {
      "cell_type": "markdown",
      "metadata": {
        "id": "jYAkdo9YbzhK"
      },
      "source": [
        "# Exploration"
      ]
    },
    {
      "cell_type": "markdown",
      "source": [
        "Correlation of the target feature (delay) and each of the numerical features"
      ],
      "metadata": {
        "id": "PHWOwA4szO10"
      }
    },
    {
      "cell_type": "code",
      "execution_count": null,
      "metadata": {
        "colab": {
          "base_uri": "https://localhost:8080/"
        },
        "id": "u5dTthFwbzM7",
        "outputId": "aa23750e-0f41-4362-e5fd-fe0f6dbf0da9"
      },
      "outputs": [
        {
          "name": "stdout",
          "output_type": "stream",
          "text": [
            "The correlation between delay and host_response_rate is -1.0%\n",
            "The correlation between delay and host_acceptance_rate is -1.0%\n",
            "The correlation between delay and host_listings_count is -11.0%\n",
            "The correlation between delay and host_total_listings_count is -10.0%\n",
            "The correlation between delay and latitude is 3.0%\n",
            "The correlation between delay and longitude is -2.0%\n",
            "The correlation between delay and accommodates is -20.0%\n",
            "The correlation between delay and bedrooms is 3.0%\n",
            "The correlation between delay and beds is -15.0%\n",
            "The correlation between delay and price is -12.0%\n",
            "The correlation between delay and minimum_nights is -1.0%\n",
            "The correlation between delay and maximum_nights is 0.0%\n",
            "The correlation between delay and minimum_minimum_nights is -2.0%\n",
            "The correlation between delay and maximum_minimum_nights is -2.0%\n",
            "The correlation between delay and minimum_maximum_nights is 1.0%\n",
            "The correlation between delay and maximum_maximum_nights is 1.0%\n",
            "The correlation between delay and minimum_nights_avg_ntm is -2.0%\n",
            "The correlation between delay and maximum_nights_avg_ntm is 1.0%\n",
            "The correlation between delay and has_availability is -1.0%\n",
            "The correlation between delay and number_of_reviews is 7.000000000000001%\n",
            "The correlation between delay and number_of_reviews_ltm is 8.0%\n",
            "The correlation between delay and number_of_reviews_l30d is 6.0%\n",
            "The correlation between delay and review_scores_rating is -4.0%\n",
            "The correlation between delay and review_scores_accuracy is -3.0%\n",
            "The correlation between delay and review_scores_cleanliness is -5.0%\n",
            "The correlation between delay and review_scores_checkin is -1.0%\n",
            "The correlation between delay and review_scores_communication is -2.0%\n",
            "The correlation between delay and review_scores_location is -3.0%\n",
            "The correlation between delay and review_scores_value is -1.0%\n",
            "The correlation between delay and instant_bookable is 2.0%\n",
            "The correlation between delay and calculated_host_listings_count is -11.0%\n",
            "The correlation between delay and calculated_host_listings_count_entire_homes is -12.0%\n",
            "The correlation between delay and calculated_host_listings_count_private_rooms is -6.0%\n",
            "The correlation between delay and calculated_host_listings_count_shared_rooms is 2.0%\n",
            "The correlation between delay and bathrooms_count is -2.0%\n",
            "The correlation between delay and private_bath is 5.0%\n",
            "The correlation between delay and shared_bath is 33.0%\n",
            "The correlation between delay and half_bath is 3.0%\n",
            "The correlation between delay and price_estimate is 14.000000000000002%\n",
            "The correlation between delay and bin_<=5 is 2.0%\n",
            "The correlation between delay and bin_6-100 is 4.0%\n",
            "The correlation between delay and bin_>100 is -12.0%\n",
            "The correlation between delay and amenity_count is -9.0%\n"
          ]
        }
      ],
      "source": [
        "good_num = []\n",
        "for feature in numerical_features:\n",
        "    # Ensure the feature is numeric by trying to convert it to a float\n",
        "    try:\n",
        "        df[feature] = df[feature].astype(float)\n",
        "        correlation = df[\"delay\"].corr(df[feature]).round(2)\n",
        "        print(\"The correlation between delay and {} is {}%\".format(feature, correlation * 100))\n",
        "        if correlation > 0.01:\n",
        "            good_num.append(feature)\n",
        "    except ValueError:\n",
        "        # If the conversion fails, the feature is not numeric and will be skipped\n",
        "        print(\"Skipping non-numeric feature:\", feature)\n",
        "\n",
        "\n"
      ]
    },
    {
      "cell_type": "markdown",
      "metadata": {
        "id": "8nD8LriNiNjN"
      },
      "source": [
        "Interestingly, only the shared_bath feature exhibits a correlation greater than 20% with the delay. It's important to note that a negative correlation indicates a positive impact on the property's investment potential. This means that higher values of the variable are beneficial, as a lower delay is preferable for quicker return on investment.\n"
      ]
    },
    {
      "cell_type": "markdown",
      "source": [
        "Histograms with each subplot presenting the distribuition of delay for a different property type, focusing on the 9 mmost common property types"
      ],
      "metadata": {
        "id": "1jW_gIbB0A0H"
      }
    },
    {
      "cell_type": "code",
      "execution_count": null,
      "metadata": {
        "colab": {
          "base_uri": "https://localhost:8080/",
          "height": 461
        },
        "id": "4m5MIxTzSFjy",
        "outputId": "d6abdab2-db69-4f2c-8364-acee7e6b56c1"
      },
      "outputs": [
        {
          "data": {
            "image/png": "[encoded data removed]",
            "text/plain": [
              "<Figure size 640x480 with 9 Axes>"
            ]
          },
          "metadata": {},
          "output_type": "display_data"
        }
      ],
      "source": [
        "\n",
        "vals = list(df[\"property_type\"].value_counts()[:9].index.values)\n",
        "\n",
        "fig, axs = plt.subplots(3, 3)\n",
        "i = 0\n",
        "for rtype in vals:\n",
        "  axs[i//3,i%3].hist(df[df[\"property_type\"] == rtype][\"delay\"])\n",
        "  axs[i//3,i%3].set_title (\"{}\".format(rtype))\n",
        "  i+=1\n",
        "fig.tight_layout(pad=2.0)\n",
        "fig.show()"
      ]
    },
    {
      "cell_type": "markdown",
      "source": [
        "Couting the 9 most common property types"
      ],
      "metadata": {
        "id": "oa3w8nBg0RwY"
      }
    },
    {
      "cell_type": "code",
      "execution_count": null,
      "metadata": {
        "colab": {
          "base_uri": "https://localhost:8080/"
        },
        "id": "qosSX3lbRc4-",
        "outputId": "49649941-5637-43f9-ce36-9ff39880fbc9"
      },
      "outputs": [
        {
          "data": {
            "text/plain": [
              "Entire rental unit             28620\n",
              "Private room in rental unit    10432\n",
              "Entire condo                    7162\n",
              "Private room in home            6827\n",
              "Entire home                     6336\n",
              "Private room in condo           2159\n",
              "Entire serviced apartment       1602\n",
              "Entire townhouse                1001\n",
              "Private room in townhouse        925\n",
              "Name: property_type, dtype: int64"
            ]
          },
          "execution_count": 131,
          "metadata": {},
          "output_type": "execute_result"
        }
      ],
      "source": [
        "df[\"property_type\"].value_counts()[:9]\n"
      ]
    },
    {
      "cell_type": "markdown",
      "source": [
        "Histogram of the \"delay\" values for properties in the dataset that are marked as available"
      ],
      "metadata": {
        "id": "_qNsdKol0fGS"
      }
    },
    {
      "cell_type": "code",
      "execution_count": null,
      "metadata": {
        "colab": {
          "base_uri": "https://localhost:8080/",
          "height": 447
        },
        "id": "XoEmXdn1JoMS",
        "outputId": "370dc357-e12d-437c-8e76-92d58d5a9649"
      },
      "outputs": [
        {
          "data": {
            "text/plain": [
              "<Axes: >"
            ]
          },
          "execution_count": 132,
          "metadata": {},
          "output_type": "execute_result"
        },
        {
          "data": {
            "image/png": "[encoded data removed]",
            "text/plain": [
              "<Figure size 640x480 with 1 Axes>"
            ]
          },
          "metadata": {},
          "output_type": "display_data"
        }
      ],
      "source": [
        "df[df[\"has_availability\"] == True][\"delay\"].hist()"
      ]
    },
    {
      "cell_type": "markdown",
      "source": [
        "2x2 grid of histograms, with each subplot showing the distribution of \"delay\" for a different room type in the dataset"
      ],
      "metadata": {
        "id": "uVu4yobf054K"
      }
    },
    {
      "cell_type": "code",
      "execution_count": null,
      "metadata": {
        "colab": {
          "base_uri": "https://localhost:8080/",
          "height": 486
        },
        "id": "VXNdDpVeLC9S",
        "outputId": "90031d05-ddee-4486-8da2-a9e5f0629e9a"
      },
      "outputs": [
        {
          "data": {
            "image/png": "[encoded data removed]",
            "text/plain": [
              "<Figure size 640x480 with 4 Axes>"
            ]
          },
          "metadata": {},
          "output_type": "display_data"
        }
      ],
      "source": [
        "fig, axs = plt.subplots(2, 2)\n",
        "i = 0\n",
        "for rtype in df[\"room_type\"].unique():\n",
        "  axs[i//2,i%2].hist(df[df[\"room_type\"] == rtype][\"delay\"])\n",
        "  axs[i//2,i%2].set_title (\"Delays for {}\".format(rtype))\n",
        "  i+=1\n",
        "fig.tight_layout()\n",
        "fig.show()"
      ]
    },
    {
      "cell_type": "markdown",
      "source": [
        "Scatter plot displays individual points, each representing a property, with its position determined by how many people it accommodates and its associated delay value."
      ],
      "metadata": {
        "id": "RLJ1yR0r1FgS"
      }
    },
    {
      "cell_type": "code",
      "execution_count": null,
      "metadata": {
        "colab": {
          "base_uri": "https://localhost:8080/",
          "height": 447
        },
        "id": "lodioO-BKD9N",
        "outputId": "68e8ed24-746c-473f-eb37-da0edc412777"
      },
      "outputs": [
        {
          "data": {
            "text/plain": [
              "<matplotlib.collections.PathCollection at 0x7c516e7eda20>"
            ]
          },
          "execution_count": 134,
          "metadata": {},
          "output_type": "execute_result"
        },
        {
          "data": {
            "image/png": "[encoded data removed]",
            "text/plain": [
              "<Figure size 640x480 with 1 Axes>"
            ]
          },
          "metadata": {},
          "output_type": "display_data"
        }
      ],
      "source": [
        "plt.scatter(df[\"accommodates\"],df[\"delay\"])"
      ]
    },
    {
      "cell_type": "markdown",
      "source": [
        "Histogram of \"delay\" values for properties in the dataset that are not available for instant booking."
      ],
      "metadata": {
        "id": "LpFgAtZ61qKE"
      }
    },
    {
      "cell_type": "code",
      "execution_count": null,
      "metadata": {
        "colab": {
          "base_uri": "https://localhost:8080/",
          "height": 447
        },
        "id": "i9vkquT9JunO",
        "outputId": "76750df1-da32-401e-f00c-4400e7993b67"
      },
      "outputs": [
        {
          "data": {
            "text/plain": [
              "<Axes: >"
            ]
          },
          "execution_count": 135,
          "metadata": {},
          "output_type": "execute_result"
        },
        {
          "data": {
            "image/png": "[encoded data removed]",
            "text/plain": [
              "<Figure size 640x480 with 1 Axes>"
            ]
          },
          "metadata": {},
          "output_type": "display_data"
        }
      ],
      "source": [
        "df[df[\"instant_bookable\"] == False][\"delay\"].hist()"
      ]
    },
    {
      "cell_type": "markdown",
      "source": [
        "Histogram provides a visual representation of the distribution of review counts over the last year"
      ],
      "metadata": {
        "id": "753Ngixg1x_r"
      }
    },
    {
      "cell_type": "code",
      "execution_count": null,
      "metadata": {
        "colab": {
          "base_uri": "https://localhost:8080/",
          "height": 447
        },
        "id": "562cZlgl_lv3",
        "outputId": "ea17c3c4-ba60-47cd-f27d-cde009ecabd2"
      },
      "outputs": [
        {
          "data": {
            "text/plain": [
              "<Axes: >"
            ]
          },
          "execution_count": 136,
          "metadata": {},
          "output_type": "execute_result"
        },
        {
          "data": {
            "image/png": "[encoded data removed]",
            "text/plain": [
              "<Figure size 640x480 with 1 Axes>"
            ]
          },
          "metadata": {},
          "output_type": "display_data"
        }
      ],
      "source": [
        "df[\"number_of_reviews_ltm\"].hist()"
      ]
    },
    {
      "cell_type": "code",
      "execution_count": null,
      "metadata": {
        "id": "BI0EtsGkjtzu"
      },
      "outputs": [],
      "source": [
        "from scipy import stats\n",
        "res = stats.spearmanr(df[\"delay\"], df[\"neighbourhood_cleansed\"])"
      ]
    },
    {
      "cell_type": "code",
      "execution_count": null,
      "metadata": {
        "colab": {
          "base_uri": "https://localhost:8080/"
        },
        "id": "tWipW8H0l8Z1",
        "outputId": "0f04ceb4-fe1a-4c15-9a6d-f3c4f9d11218"
      },
      "outputs": [
        {
          "name": "stdout",
          "output_type": "stream",
          "text": [
            "Correlation of delay/host_response_time is 1.0%\n",
            "Correlation of delay/host_is_superhost is 1.0%\n",
            "Correlation of delay/host_neighbourhood is 4.0%\n",
            "Correlation of delay/host_has_profile_pic is 0.0%\n",
            "Correlation of delay/host_identity_verified is 1.0%\n",
            "Correlation of delay/neighbourhood_cleansed is 1.0%\n",
            "Correlation of delay/room_type is 41.0%\n",
            "Correlation of delay/property_type is 37.0%\n"
          ]
        }
      ],
      "source": [
        "good_cat = []\n",
        "for feature in categorical_features:\n",
        "  res = stats.spearmanr(df[\"delay\"], df[feature])\n",
        "  print(\"Correlation of delay/{} is {}%\".format(feature, abs(res.statistic.round(2))*100))\n",
        "\n",
        "  if res.statistic>.01: good_cat.append(feature)\n",
        "\n"
      ]
    },
    {
      "cell_type": "markdown",
      "metadata": {
        "id": "O8din1ddmlAU"
      },
      "source": [
        "It appears that features directly associated with the property, such as 'room_type' and 'property_type,' significantly influence the delay, with 'property_type' showing a substantial 37% correlation. In contrast, factors related to the host's characteristics, such as 'host_is_superhost,' seem to have minimal impact on the delay. This aligns with the intuitive notion that prospective tenants prioritize property specifics over the host's status when making rental decisions."
      ]
    },
    {
      "cell_type": "markdown",
      "metadata": {
        "id": "Fj9wHdNUucn8"
      },
      "source": [
        "Time to check feature distribuitions to understand more about the dataset"
      ]
    },
    {
      "cell_type": "code",
      "execution_count": null,
      "metadata": {
        "colab": {
          "base_uri": "https://localhost:8080/"
        },
        "id": "eQCUWYj0_AjW",
        "outputId": "0f8fa7b1-02bb-4206-c6a1-54eb34bec715"
      },
      "outputs": [
        {
          "data": {
            "text/plain": [
              "1.0     47429\n",
              "2.0      9092\n",
              "1.5      7356\n",
              "2.5      2316\n",
              "3.0      1086\n",
              "3.5       581\n",
              "4.0       203\n",
              "0.0       174\n",
              "4.5       118\n",
              "5.0        53\n",
              "5.5        32\n",
              "6.5        11\n",
              "6.0        10\n",
              "7.5         3\n",
              "7.0         3\n",
              "8.0         2\n",
              "9.0         2\n",
              "12.0        2\n",
              "17.0        1\n",
              "10.5        1\n",
              "8.5         1\n",
              "9.5         1\n",
              "Name: bathrooms_count, dtype: int64"
            ]
          },
          "execution_count": 139,
          "metadata": {},
          "output_type": "execute_result"
        }
      ],
      "source": [
        "df[\"bathrooms_count\"].value_counts()"
      ]
    },
    {
      "cell_type": "code",
      "execution_count": null,
      "metadata": {
        "colab": {
          "base_uri": "https://localhost:8080/",
          "height": 447
        },
        "id": "6CxasPwvubiw",
        "outputId": "178f0567-2561-4a65-988b-c07dcdadd25b"
      },
      "outputs": [
        {
          "data": {
            "text/plain": [
              "<Axes: >"
            ]
          },
          "execution_count": 140,
          "metadata": {},
          "output_type": "execute_result"
        },
        {
          "data": {
            "image/png": "[encoded data removed]",
            "text/plain": [
              "<Figure size 640x480 with 1 Axes>"
            ]
          },
          "metadata": {},
          "output_type": "display_data"
        }
      ],
      "source": [
        "df[\"price\"].hist()"
      ]
    },
    {
      "cell_type": "markdown",
      "metadata": {
        "id": "vkC0wSWYukMM"
      },
      "source": [
        "A distribution with this shape suggests the presence of outliers, which can significantly impact the model's predictive accuracy for the target variable."
      ]
    },
    {
      "cell_type": "code",
      "execution_count": null,
      "metadata": {
        "colab": {
          "base_uri": "https://localhost:8080/"
        },
        "id": "cvdI4aY4vEQp",
        "outputId": "ac095acb-7667-4e09-a870-35405e6fbf6f"
      },
      "outputs": [
        {
          "data": {
            "text/plain": [
              "80100.0"
            ]
          },
          "execution_count": 141,
          "metadata": {},
          "output_type": "execute_result"
        }
      ],
      "source": [
        "df[\"price\"].max()"
      ]
    },
    {
      "cell_type": "code",
      "source": [
        "percentage_above_1000 = (df[df[\"price\"] > 1000].shape[0] / df.shape[0]) * 100\n",
        "percentage_above_1000"
      ],
      "metadata": {
        "colab": {
          "base_uri": "https://localhost:8080/"
        },
        "id": "mjf6MwiO32VB",
        "outputId": "ed94e601-3da0-4a02-9cca-6bb0a68df8bd"
      },
      "execution_count": null,
      "outputs": [
        {
          "output_type": "stream",
          "name": "stdout",
          "text": [
            "1.5\n"
          ]
        }
      ]
    },
    {
      "cell_type": "markdown",
      "metadata": {
        "id": "JtyMZ0b8vW8m"
      },
      "source": [
        "Since only 1.5% of the properties cost more than 1000, setting their prices to 1000 could help make our model's predictions better."
      ]
    },
    {
      "cell_type": "code",
      "execution_count": null,
      "metadata": {
        "colab": {
          "base_uri": "https://localhost:8080/",
          "height": 447
        },
        "id": "-42dfR3zu1o9",
        "outputId": "7437be7d-43d4-4cb6-b94a-82e91a0cb0a1"
      },
      "outputs": [
        {
          "data": {
            "text/plain": [
              "<Axes: >"
            ]
          },
          "execution_count": 142,
          "metadata": {},
          "output_type": "execute_result"
        },
        {
          "data": {
            "image/png": "[encoded data removed]",
            "text/plain": [
              "<Figure size 640x480 with 1 Axes>"
            ]
          },
          "metadata": {},
          "output_type": "display_data"
        }
      ],
      "source": [
        "df[df[\"price\"]<1000][\"price\"].hist()"
      ]
    },
    {
      "cell_type": "code",
      "execution_count": null,
      "metadata": {
        "id": "Az19cmEnvsFa"
      },
      "outputs": [],
      "source": [
        "df.loc[df[\"price\"]>1000,\"price\"] = 1000"
      ]
    },
    {
      "cell_type": "code",
      "execution_count": null,
      "metadata": {
        "colab": {
          "base_uri": "https://localhost:8080/"
        },
        "id": "5oz9AjTDv5PR",
        "outputId": "d7b5758b-a1b8-417d-f0f4-cb3dba1963d5"
      },
      "outputs": [
        {
          "name": "stdout",
          "output_type": "stream",
          "text": [
            "the correlation between delay and price is -28.000000000000004%\n"
          ]
        }
      ],
      "source": [
        "correlation = (df[\"delay\"].corr(df[\"price\"])).round(2)\n",
        "print(\"the correlation between delay and price is {}%\".format(correlation*100))"
      ]
    },
    {
      "cell_type": "markdown",
      "metadata": {
        "id": "SRtUzj8tv_i5"
      },
      "source": [
        "As we can see, the correlation between price and delay improved from -12% to -28% after outlier elimination."
      ]
    },
    {
      "cell_type": "markdown",
      "source": [
        "Price estimate histogram to check for outliers"
      ],
      "metadata": {
        "id": "eI4X6p2V5X94"
      }
    },
    {
      "cell_type": "code",
      "execution_count": null,
      "metadata": {
        "colab": {
          "base_uri": "https://localhost:8080/",
          "height": 465
        },
        "id": "jHJVR25-wwCE",
        "outputId": "db34f70b-f852-4b73-eace-23ecd74f59f3"
      },
      "outputs": [
        {
          "data": {
            "text/plain": [
              "<Axes: >"
            ]
          },
          "execution_count": 145,
          "metadata": {},
          "output_type": "execute_result"
        },
        {
          "data": {
            "image/png": "[encoded data removed]",
            "text/plain": [
              "<Figure size 640x480 with 1 Axes>"
            ]
          },
          "metadata": {},
          "output_type": "display_data"
        }
      ],
      "source": [
        "df[\"price_estimate\"].hist()"
      ]
    },
    {
      "cell_type": "markdown",
      "metadata": {
        "id": "eCsiZKLFw1ET"
      },
      "source": [
        "Price estimate has outliers that need to be removed"
      ]
    },
    {
      "cell_type": "markdown",
      "source": [
        "Histogram to show how many properties fall within different price ranges up to 4 million"
      ],
      "metadata": {
        "id": "S2VvS5DK5yaI"
      }
    },
    {
      "cell_type": "code",
      "execution_count": null,
      "metadata": {
        "colab": {
          "base_uri": "https://localhost:8080/",
          "height": 465
        },
        "id": "-LwXH7tQw5EB",
        "outputId": "d509db57-5228-4824-f9e2-98b70f7f5031"
      },
      "outputs": [
        {
          "data": {
            "text/plain": [
              "<Axes: >"
            ]
          },
          "execution_count": 146,
          "metadata": {},
          "output_type": "execute_result"
        },
        {
          "data": {
            "image/png": "[encoded data removed]",
            "text/plain": [
              "<Figure size 640x480 with 1 Axes>"
            ]
          },
          "metadata": {},
          "output_type": "display_data"
        }
      ],
      "source": [
        "df[df[\"price_estimate\"]<1e7*4/10][\"price_estimate\"].hist()"
      ]
    },
    {
      "cell_type": "markdown",
      "source": [
        "Check how many values there are above 5 million in percentage"
      ],
      "metadata": {
        "id": "jNwI4Hmb60Kt"
      }
    },
    {
      "cell_type": "code",
      "execution_count": null,
      "metadata": {
        "colab": {
          "base_uri": "https://localhost:8080/"
        },
        "id": "Mnuz3M9VxH6R",
        "outputId": "9ecb10b3-1aae-4718-a0d1-54735973c6bf"
      },
      "outputs": [
        {
          "data": {
            "text/plain": [
              "0.004322619273624721"
            ]
          },
          "execution_count": 147,
          "metadata": {},
          "output_type": "execute_result"
        }
      ],
      "source": [
        "len(df[df[\"price_estimate\"]>1e7/2])/len(df)"
      ]
    },
    {
      "cell_type": "markdown",
      "source": [
        "Caps the price estimate the 5 million since only 0.004% of the properties are above 5 million"
      ],
      "metadata": {
        "id": "KMhy8eGa63qM"
      }
    },
    {
      "cell_type": "code",
      "execution_count": null,
      "metadata": {
        "id": "pYDY5_adxUPW"
      },
      "outputs": [],
      "source": [
        "df.loc[df[\"price_estimate\"]>1e7/2,\"price_estimate\"] = 1e7/2"
      ]
    },
    {
      "cell_type": "markdown",
      "source": [
        "Check the correlation between buying price and delay"
      ],
      "metadata": {
        "id": "uEavn2fi7ObK"
      }
    },
    {
      "cell_type": "code",
      "execution_count": null,
      "metadata": {
        "colab": {
          "base_uri": "https://localhost:8080/"
        },
        "id": "MMXQEnimxgXA",
        "outputId": "33fde1e3-5077-4da2-e684-71b3df045b9f"
      },
      "outputs": [
        {
          "name": "stdout",
          "output_type": "stream",
          "text": [
            "the correlation between delay and buying price is 15.0%\n"
          ]
        }
      ],
      "source": [
        "correlation = (df[\"delay\"].corr(df[\"price_estimate\"])).round(2)\n",
        "print(\"the correlation between delay and buying price is {}%\".format(correlation*100))"
      ]
    },
    {
      "cell_type": "markdown",
      "source": [
        "Check if longitude and latitude present meaningful information when visualised"
      ],
      "metadata": {
        "id": "YJrYk-_47WB2"
      }
    },
    {
      "cell_type": "code",
      "execution_count": null,
      "metadata": {
        "colab": {
          "base_uri": "https://localhost:8080/",
          "height": 452
        },
        "id": "KUmpO83108c8",
        "outputId": "b0317341-b768-4728-d9e2-4f0e07ae6873"
      },
      "outputs": [
        {
          "data": {
            "text/plain": [
              "[<matplotlib.lines.Line2D at 0x7c51697626e0>]"
            ]
          },
          "execution_count": 150,
          "metadata": {},
          "output_type": "execute_result"
        },
        {
          "data": {
            "image/png": "[encoded data removed]",
            "text/plain": [
              "<Figure size 640x480 with 1 Axes>"
            ]
          },
          "metadata": {},
          "output_type": "display_data"
        }
      ],
      "source": [
        "plt.plot(df[\"longitude\"], df[\"latitude\"])"
      ]
    },
    {
      "cell_type": "markdown",
      "source": [
        "Fraction of total listings that are hosted by superhosts"
      ],
      "metadata": {
        "id": "GcNKPk7z8iNh"
      }
    },
    {
      "cell_type": "code",
      "execution_count": null,
      "metadata": {
        "colab": {
          "base_uri": "https://localhost:8080/"
        },
        "id": "RwRtOoGC0zvS",
        "outputId": "b3e12d11-dc5f-4ea7-9308-fff253c5ac8f"
      },
      "outputs": [
        {
          "data": {
            "text/plain": [
              "0.15335076010923376"
            ]
          },
          "execution_count": 151,
          "metadata": {},
          "output_type": "execute_result"
        }
      ],
      "source": [
        "len(df[df[\"host_is_superhost\"] == True])/len(df)"
      ]
    },
    {
      "cell_type": "markdown",
      "source": [
        "Latitude histogram"
      ],
      "metadata": {
        "id": "ZbP0D8pl8nnA"
      }
    },
    {
      "cell_type": "code",
      "execution_count": null,
      "metadata": {
        "colab": {
          "base_uri": "https://localhost:8080/",
          "height": 447
        },
        "id": "Wd2CHRzk1Lcz",
        "outputId": "c9ff563c-3c37-43db-85f8-abfac5ee0b1c"
      },
      "outputs": [
        {
          "data": {
            "text/plain": [
              "<Axes: >"
            ]
          },
          "execution_count": 152,
          "metadata": {},
          "output_type": "execute_result"
        },
        {
          "data": {
            "image/png": "[encoded data removed]",
            "text/plain": [
              "<Figure size 640x480 with 1 Axes>"
            ]
          },
          "metadata": {},
          "output_type": "display_data"
        }
      ],
      "source": [
        "df[\"latitude\"].hist()"
      ]
    },
    {
      "cell_type": "markdown",
      "source": [
        "Cleanliness scores histogram"
      ],
      "metadata": {
        "id": "JqH_lXSH8pTi"
      }
    },
    {
      "cell_type": "code",
      "execution_count": null,
      "metadata": {
        "colab": {
          "base_uri": "https://localhost:8080/",
          "height": 447
        },
        "id": "4Y3Dzbdr1Yme",
        "outputId": "2bbe14b1-9c48-4370-9c25-ac62455b7dd8"
      },
      "outputs": [
        {
          "data": {
            "text/plain": [
              "<Axes: >"
            ]
          },
          "execution_count": 153,
          "metadata": {},
          "output_type": "execute_result"
        },
        {
          "data": {
            "image/png": "[encoded data removed]",
            "text/plain": [
              "<Figure size 640x480 with 1 Axes>"
            ]
          },
          "metadata": {},
          "output_type": "display_data"
        }
      ],
      "source": [
        "df[\"review_scores_cleanliness\"].hist()"
      ]
    },
    {
      "cell_type": "markdown",
      "source": [
        "Number of beds histogram"
      ],
      "metadata": {
        "id": "5ipaQJtT8wRA"
      }
    },
    {
      "cell_type": "code",
      "execution_count": null,
      "metadata": {
        "colab": {
          "base_uri": "https://localhost:8080/",
          "height": 447
        },
        "id": "3Y2fZW9V2RuO",
        "outputId": "f8c91015-2fbd-4e9b-8327-9e6a295d3a15"
      },
      "outputs": [
        {
          "data": {
            "text/plain": [
              "<Axes: >"
            ]
          },
          "execution_count": 155,
          "metadata": {},
          "output_type": "execute_result"
        },
        {
          "data": {
            "image/png": "[encoded data removed]",
            "text/plain": [
              "<Figure size 640x480 with 1 Axes>"
            ]
          },
          "metadata": {},
          "output_type": "display_data"
        }
      ],
      "source": [
        "df[\"beds\"].hist()"
      ]
    },
    {
      "cell_type": "markdown",
      "source": [
        "Cap the bedrooms to less than 6 since they represent 0.99 of the bedrooms amount in the dataset"
      ],
      "metadata": {
        "id": "agphlE9K9NIj"
      }
    },
    {
      "cell_type": "code",
      "execution_count": null,
      "metadata": {
        "colab": {
          "base_uri": "https://localhost:8080/"
        },
        "id": "JmjryzV12dU-",
        "outputId": "8e118c9c-2cd7-4cf0-e823-e2e9ec8610b3"
      },
      "outputs": [
        {
          "data": {
            "text/plain": [
              "0.9972691560670006"
            ]
          },
          "execution_count": 156,
          "metadata": {},
          "output_type": "execute_result"
        }
      ],
      "source": [
        "len(df[df[\"bedrooms\"]<6][\"bedrooms\"])/len(df)"
      ]
    },
    {
      "cell_type": "code",
      "execution_count": null,
      "metadata": {
        "colab": {
          "base_uri": "https://localhost:8080/"
        },
        "id": "1IKft2S5GgE5",
        "outputId": "39a30c83-937f-41a2-fc6c-d34fa5d240ed"
      },
      "outputs": [
        {
          "data": {
            "text/plain": [
              "17.0"
            ]
          },
          "execution_count": 157,
          "metadata": {},
          "output_type": "execute_result"
        }
      ],
      "source": [
        "df[\"bathrooms_count\"].max()"
      ]
    },
    {
      "cell_type": "markdown",
      "metadata": {
        "id": "e7A5ZHVn3Mlm"
      },
      "source": [
        "The number of beds in properties is distinctly segmented into separate categories, as expected since bed count is a whole number. Accordingly, it is logical to create distinct boolean features for each bed count, ranging from:\n",
        "\n",
        "properties with 1 bed,\n",
        "properties with 2 beds,\n",
        "...\n",
        "to properties with more than 4 beds."
      ]
    },
    {
      "cell_type": "code",
      "execution_count": null,
      "metadata": {
        "id": "RwtsE14X4AmL"
      },
      "outputs": [],
      "source": [
        "for i in range(1,5):\n",
        "  df[\"bed_count_\"+str(i)] = ((df[\"beds\"]>(i-.5)) & (df[\"beds\"]<(i+.5))).astype(\"bool\")\n",
        "\n",
        "df[\"bed_count_5_+\"] = (df[\"beds\"]>4.5).astype(\"bool\")"
      ]
    },
    {
      "cell_type": "code",
      "execution_count": null,
      "metadata": {
        "id": "dhPpdlezsxm3"
      },
      "outputs": [],
      "source": [
        "for i in range(1,6):\n",
        "  df[\"bathroom_count_\"+str(i)] = ((df[\"bathrooms_count\"]>(i-.5)) & (df[\"bathrooms_count\"]<(i+.5))).astype(\"bool\")\n",
        "\n",
        "df[\"bathroom_count_5_+\"] = (df[\"bathrooms_count\"]>5.5).astype(\"bool\")"
      ]
    },
    {
      "cell_type": "markdown",
      "source": [
        "Correlation with each one of the bathroom counts"
      ],
      "metadata": {
        "id": "bJqeJsko_ODX"
      }
    },
    {
      "cell_type": "code",
      "execution_count": null,
      "metadata": {
        "colab": {
          "base_uri": "https://localhost:8080/"
        },
        "id": "Seht4NH1s-DT",
        "outputId": "b07503a8-31b8-447a-a329-a1d5ee54ef11"
      },
      "outputs": [
        {
          "name": "stdout",
          "output_type": "stream",
          "text": [
            "Correlation of delay/bathroom_count_1 is 1.0%\n",
            "Correlation of delay/bathroom_count_2 is 2.0%\n",
            "Correlation of delay/bathroom_count_3 is 2.0%\n",
            "Correlation of delay/bathroom_count_4 is 0.0%\n",
            "Correlation of delay/bathroom_count_5 is 1.0%\n",
            "Correlation of delay/bathroom_count_5_+ is 0.0%\n"
          ]
        }
      ],
      "source": [
        "for feature in df.columns:\n",
        "  if feature.startswith(\"bathroom_count_\"):\n",
        "    res = stats.spearmanr(df[\"delay\"], df[feature])\n",
        "    print(\"Correlation of delay/{} is {}%\".format(feature, abs(res.statistic.round(2))*100))"
      ]
    },
    {
      "cell_type": "code",
      "execution_count": null,
      "metadata": {
        "colab": {
          "base_uri": "https://localhost:8080/"
        },
        "id": "QDEgwLow4aE0",
        "outputId": "10b42791-9b51-45b2-9b06-83a82ccc8c74"
      },
      "outputs": [
        {
          "data": {
            "text/plain": [
              "True     36060\n",
              "False    32417\n",
              "Name: bed_count_1, dtype: int64"
            ]
          },
          "execution_count": 161,
          "metadata": {},
          "output_type": "execute_result"
        }
      ],
      "source": [
        "df[\"bed_count_1\"].value_counts()"
      ]
    },
    {
      "cell_type": "markdown",
      "source": [
        "Correlation with each one of the bed counts"
      ],
      "metadata": {
        "id": "7W3wKYFN_TWE"
      }
    },
    {
      "cell_type": "code",
      "execution_count": null,
      "metadata": {
        "colab": {
          "base_uri": "https://localhost:8080/"
        },
        "id": "NzPTW4Ac4wCi",
        "outputId": "e1a0bd3d-49db-424c-d154-c3bb99f1e25e"
      },
      "outputs": [
        {
          "name": "stdout",
          "output_type": "stream",
          "text": [
            "Correlation of delay/bed_count_1 is 21.0%\n",
            "Correlation of delay/bed_count_2 is 12.0%\n",
            "Correlation of delay/bed_count_3 is 8.0%\n",
            "Correlation of delay/bed_count_4 is 6.0%\n",
            "Correlation of delay/bed_count_5_+ is 6.0%\n"
          ]
        }
      ],
      "source": [
        "for feature in df.columns:\n",
        "  if feature.startswith(\"bed_count\"):\n",
        "    res = stats.spearmanr(df[\"delay\"], df[feature])\n",
        "    print(\"Correlation of delay/{} is {}%\".format(feature, abs(res.statistic.round(2))*100))"
      ]
    },
    {
      "cell_type": "markdown",
      "metadata": {
        "id": "s8s54toj49ig"
      },
      "source": [
        "The 'bed_count_1' feature demonstrates a 20% correlation, outperforming the correlation of the original 'beds' feature when considered independently."
      ]
    },
    {
      "cell_type": "code",
      "execution_count": null,
      "metadata": {
        "colab": {
          "base_uri": "https://localhost:8080/",
          "height": 447
        },
        "id": "9w1moPdvjkX0",
        "outputId": "ca19b1e1-0907-46d9-bee9-901a412f7bed"
      },
      "outputs": [
        {
          "data": {
            "text/plain": [
              "<Axes: >"
            ]
          },
          "execution_count": 163,
          "metadata": {},
          "output_type": "execute_result"
        },
        {
          "data": {
            "image/png": "[encoded data removed]",
            "text/plain": [
              "<Figure size 640x480 with 1 Axes>"
            ]
          },
          "metadata": {},
          "output_type": "display_data"
        }
      ],
      "source": [
        "df[\"bedrooms\"].hist()"
      ]
    },
    {
      "cell_type": "code",
      "execution_count": null,
      "metadata": {
        "colab": {
          "base_uri": "https://localhost:8080/"
        },
        "id": "paeML0NfY4X0",
        "outputId": "c64e420d-96e2-48a0-9688-7fbea38c87db"
      },
      "outputs": [
        {
          "data": {
            "text/plain": [
              "1.000000     22852\n",
              "1.785253     22336\n",
              "2.000000     15266\n",
              "3.000000      5196\n",
              "4.000000      2038\n",
              "5.000000       602\n",
              "6.000000       129\n",
              "7.000000        32\n",
              "8.000000        13\n",
              "10.000000        5\n",
              "9.000000         3\n",
              "15.000000        2\n",
              "14.000000        1\n",
              "16.000000        1\n",
              "12.000000        1\n",
              "Name: bedrooms, dtype: int64"
            ]
          },
          "execution_count": 164,
          "metadata": {},
          "output_type": "execute_result"
        }
      ],
      "source": [
        "df[\"bedrooms\"].value_counts()"
      ]
    },
    {
      "cell_type": "markdown",
      "source": [
        "Caculate the propotion of listings where both the host has a probile picture and their identity has been verified"
      ],
      "metadata": {
        "id": "3T-t8xTh_5iI"
      }
    },
    {
      "cell_type": "code",
      "execution_count": null,
      "metadata": {
        "colab": {
          "base_uri": "https://localhost:8080/"
        },
        "id": "VhsMX8WjIYp7",
        "outputId": "96543dd0-39f1-4be9-f597-02fdd6a45e90"
      },
      "outputs": [
        {
          "name": "stderr",
          "output_type": "stream",
          "text": [
            "<ipython-input-165-8baafd30cb83>:1: UserWarning: Boolean Series key will be reindexed to match DataFrame index.\n",
            "  len(df[df[\"host_has_profile_pic\"] == True][df[\"host_identity_verified\"] == True])/len(df)\n"
          ]
        },
        {
          "data": {
            "text/plain": [
              "0.847379412065365"
            ]
          },
          "execution_count": 165,
          "metadata": {},
          "output_type": "execute_result"
        }
      ],
      "source": [
        "len(df[df[\"host_has_profile_pic\"] == True][df[\"host_identity_verified\"] == True])/len(df)"
      ]
    },
    {
      "cell_type": "code",
      "execution_count": null,
      "metadata": {
        "colab": {
          "base_uri": "https://localhost:8080/"
        },
        "id": "K-KlmgJiV4Ey",
        "outputId": "c8c5a430-0aa5-4428-bd96-e8d780c9b857"
      },
      "outputs": [
        {
          "data": {
            "text/plain": [
              "{'host_response_time': dtype('O'),\n",
              " 'host_response_rate': dtype('float64'),\n",
              " 'host_acceptance_rate': dtype('float64'),\n",
              " 'host_is_superhost': dtype('bool'),\n",
              " 'host_neighbourhood': dtype('O'),\n",
              " 'host_listings_count': dtype('float64'),\n",
              " 'host_total_listings_count': dtype('float64'),\n",
              " 'host_has_profile_pic': dtype('bool'),\n",
              " 'host_identity_verified': dtype('bool'),\n",
              " 'neighbourhood_cleansed': dtype('O'),\n",
              " 'latitude': dtype('float64'),\n",
              " 'longitude': dtype('float64'),\n",
              " 'property_type': dtype('O'),\n",
              " 'room_type': dtype('O'),\n",
              " 'accommodates': dtype('float64'),\n",
              " 'bedrooms': dtype('float64'),\n",
              " 'beds': dtype('float64'),\n",
              " 'price': dtype('float64'),\n",
              " 'minimum_nights': dtype('float64'),\n",
              " 'maximum_nights': dtype('float64'),\n",
              " 'minimum_minimum_nights': dtype('float64'),\n",
              " 'maximum_minimum_nights': dtype('float64'),\n",
              " 'minimum_maximum_nights': dtype('float64'),\n",
              " 'maximum_maximum_nights': dtype('float64'),\n",
              " 'minimum_nights_avg_ntm': dtype('float64'),\n",
              " 'maximum_nights_avg_ntm': dtype('float64'),\n",
              " 'has_availability': dtype('float64'),\n",
              " 'number_of_reviews': dtype('float64'),\n",
              " 'number_of_reviews_ltm': dtype('float64'),\n",
              " 'number_of_reviews_l30d': dtype('float64'),\n",
              " 'review_scores_rating': dtype('float64'),\n",
              " 'review_scores_accuracy': dtype('float64'),\n",
              " 'review_scores_cleanliness': dtype('float64'),\n",
              " 'review_scores_checkin': dtype('float64'),\n",
              " 'review_scores_communication': dtype('float64'),\n",
              " 'review_scores_location': dtype('float64'),\n",
              " 'review_scores_value': dtype('float64'),\n",
              " 'instant_bookable': dtype('float64'),\n",
              " 'calculated_host_listings_count': dtype('float64'),\n",
              " 'calculated_host_listings_count_entire_homes': dtype('float64'),\n",
              " 'calculated_host_listings_count_private_rooms': dtype('float64'),\n",
              " 'calculated_host_listings_count_shared_rooms': dtype('float64'),\n",
              " 'bathrooms_count': dtype('float64'),\n",
              " 'private_bath': dtype('float64'),\n",
              " 'shared_bath': dtype('float64'),\n",
              " 'half_bath': dtype('float64'),\n",
              " 'price_estimate': dtype('float64'),\n",
              " 'delay': dtype('float64'),\n",
              " 'bin_<=5': dtype('float64'),\n",
              " 'bin_6-100': dtype('float64'),\n",
              " 'bin_>100': dtype('float64'),\n",
              " 'amenity_count': dtype('float64'),\n",
              " 'bed_count_1': dtype('bool'),\n",
              " 'bed_count_2': dtype('bool'),\n",
              " 'bed_count_3': dtype('bool'),\n",
              " 'bed_count_4': dtype('bool'),\n",
              " 'bed_count_5_+': dtype('bool'),\n",
              " 'bathroom_count_1': dtype('bool'),\n",
              " 'bathroom_count_2': dtype('bool'),\n",
              " 'bathroom_count_3': dtype('bool'),\n",
              " 'bathroom_count_4': dtype('bool'),\n",
              " 'bathroom_count_5': dtype('bool'),\n",
              " 'bathroom_count_5_+': dtype('bool')}"
            ]
          },
          "execution_count": 166,
          "metadata": {},
          "output_type": "execute_result"
        }
      ],
      "source": [
        "df.dtypes.to_dict()"
      ]
    },
    {
      "cell_type": "code",
      "execution_count": null,
      "metadata": {
        "colab": {
          "base_uri": "https://localhost:8080/",
          "height": 472
        },
        "id": "AlbIqYhlIPdf",
        "outputId": "9af8b5d0-8084-4330-d4d0-f6f1fe998f63"
      },
      "outputs": [
        {
          "data": {
            "text/plain": [
              "<Axes: >"
            ]
          },
          "execution_count": 167,
          "metadata": {},
          "output_type": "execute_result"
        },
        {
          "data": {
            "image/png": "[encoded data removed]",
            "text/plain": [
              "<Figure size 640x480 with 1 Axes>"
            ]
          },
          "metadata": {},
          "output_type": "display_data"
        }
      ],
      "source": [
        "df[\"host_has_profile_pic\"].value_counts().plot(kind = \"bar\")"
      ]
    },
    {
      "cell_type": "markdown",
      "source": [
        "Separate the bedroom into separate bedroom count variables and check the correlation of each of the variables and delay"
      ],
      "metadata": {
        "id": "7qvu5VYoAG7O"
      }
    },
    {
      "cell_type": "code",
      "execution_count": null,
      "metadata": {
        "id": "6-h5mh8X9f-H"
      },
      "outputs": [],
      "source": [
        "for i in range(1,7):\n",
        "  df[\"bedroom_count_\"+str(i)] = ((df[\"bedrooms\"]>(i-.5)) & (df[\"bedrooms\"]<(i+.5))).astype(\"bool\")\n",
        "\n",
        "df[\"bedroom_count_7_+\"] = (df[\"bedrooms\"]>6.5).astype(\"bool\")"
      ]
    },
    {
      "cell_type": "code",
      "execution_count": null,
      "metadata": {
        "colab": {
          "base_uri": "https://localhost:8080/"
        },
        "id": "7OcRRN-C9ukz",
        "outputId": "7076e458-27b1-46cc-aff7-d588180514a3"
      },
      "outputs": [
        {
          "name": "stdout",
          "output_type": "stream",
          "text": [
            "Correlation of delay/bedroom_count_1 is 24.0%\n",
            "Correlation of delay/bedroom_count_2 is 28.999999999999996%\n",
            "Correlation of delay/bedroom_count_3 is 7.000000000000001%\n",
            "Correlation of delay/bedroom_count_4 is 6.0%\n",
            "Correlation of delay/bedroom_count_5 is 3.0%\n",
            "Correlation of delay/bedroom_count_6 is 0.0%\n",
            "Correlation of delay/bedroom_count_7_+ is 0.0%\n"
          ]
        }
      ],
      "source": [
        "for feature in df.columns:\n",
        "  if feature.startswith(\"bedroom_count\"):\n",
        "    res = stats.spearmanr(df[\"delay\"], df[feature])\n",
        "    print(\"Correlation of delay/{} is {}%\".format(feature, abs(res.statistic.round(2))*100))"
      ]
    },
    {
      "cell_type": "markdown",
      "source": [
        "Histogram for accomodates"
      ],
      "metadata": {
        "id": "5qtZYGn-AjGB"
      }
    },
    {
      "cell_type": "code",
      "execution_count": null,
      "metadata": {
        "colab": {
          "base_uri": "https://localhost:8080/",
          "height": 447
        },
        "id": "HLQyRVzJ-TpT",
        "outputId": "a65b82f3-012e-49f5-dcd8-7a4a9c1dbc05"
      },
      "outputs": [
        {
          "data": {
            "text/plain": [
              "<Axes: >"
            ]
          },
          "execution_count": 170,
          "metadata": {},
          "output_type": "execute_result"
        },
        {
          "data": {
            "image/png": "[encoded data removed]",
            "text/plain": [
              "<Figure size 640x480 with 1 Axes>"
            ]
          },
          "metadata": {},
          "output_type": "display_data"
        }
      ],
      "source": [
        "df[\"accommodates\"].hist()"
      ]
    },
    {
      "cell_type": "markdown",
      "source": [
        "Create new columns in the dataset for each one of the listings count amount"
      ],
      "metadata": {
        "id": "nZE9Kbj7BPsw"
      }
    },
    {
      "cell_type": "code",
      "execution_count": null,
      "metadata": {
        "id": "NGKNe1rLMbJ3"
      },
      "outputs": [],
      "source": [
        "for i in range(1,6):\n",
        "  df[\"listing_count\"+str(i)] = ((df[\"calculated_host_listings_count\"]>(i-.5)) & (df[\"calculated_host_listings_count\"]<(i+.5))).astype(\"bool\")\n",
        "\n",
        "df[\"listing_count_6_+\"] = (df[\"calculated_host_listings_count\"]>5.5).astype(\"bool\")"
      ]
    },
    {
      "cell_type": "code",
      "execution_count": null,
      "metadata": {
        "colab": {
          "base_uri": "https://localhost:8080/"
        },
        "id": "H3PY4pkVLeKz",
        "outputId": "11ed50e0-744d-4178-a66d-1df053173c6a"
      },
      "outputs": [
        {
          "data": {
            "text/plain": [
              "{'host_response_time': dtype('O'),\n",
              " 'host_response_rate': dtype('float64'),\n",
              " 'host_acceptance_rate': dtype('float64'),\n",
              " 'host_is_superhost': dtype('bool'),\n",
              " 'host_neighbourhood': dtype('O'),\n",
              " 'host_listings_count': dtype('float64'),\n",
              " 'host_total_listings_count': dtype('float64'),\n",
              " 'host_has_profile_pic': dtype('bool'),\n",
              " 'host_identity_verified': dtype('bool'),\n",
              " 'neighbourhood_cleansed': dtype('O'),\n",
              " 'latitude': dtype('float64'),\n",
              " 'longitude': dtype('float64'),\n",
              " 'property_type': dtype('O'),\n",
              " 'room_type': dtype('O'),\n",
              " 'accommodates': dtype('float64'),\n",
              " 'bedrooms': dtype('float64'),\n",
              " 'beds': dtype('float64'),\n",
              " 'price': dtype('float64'),\n",
              " 'minimum_nights': dtype('float64'),\n",
              " 'maximum_nights': dtype('float64'),\n",
              " 'minimum_minimum_nights': dtype('float64'),\n",
              " 'maximum_minimum_nights': dtype('float64'),\n",
              " 'minimum_maximum_nights': dtype('float64'),\n",
              " 'maximum_maximum_nights': dtype('float64'),\n",
              " 'minimum_nights_avg_ntm': dtype('float64'),\n",
              " 'maximum_nights_avg_ntm': dtype('float64'),\n",
              " 'has_availability': dtype('float64'),\n",
              " 'number_of_reviews': dtype('float64'),\n",
              " 'number_of_reviews_ltm': dtype('float64'),\n",
              " 'number_of_reviews_l30d': dtype('float64'),\n",
              " 'review_scores_rating': dtype('float64'),\n",
              " 'review_scores_accuracy': dtype('float64'),\n",
              " 'review_scores_cleanliness': dtype('float64'),\n",
              " 'review_scores_checkin': dtype('float64'),\n",
              " 'review_scores_communication': dtype('float64'),\n",
              " 'review_scores_location': dtype('float64'),\n",
              " 'review_scores_value': dtype('float64'),\n",
              " 'instant_bookable': dtype('float64'),\n",
              " 'calculated_host_listings_count': dtype('float64'),\n",
              " 'calculated_host_listings_count_entire_homes': dtype('float64'),\n",
              " 'calculated_host_listings_count_private_rooms': dtype('float64'),\n",
              " 'calculated_host_listings_count_shared_rooms': dtype('float64'),\n",
              " 'bathrooms_count': dtype('float64'),\n",
              " 'private_bath': dtype('float64'),\n",
              " 'shared_bath': dtype('float64'),\n",
              " 'half_bath': dtype('float64'),\n",
              " 'price_estimate': dtype('float64'),\n",
              " 'delay': dtype('float64'),\n",
              " 'bin_<=5': dtype('float64'),\n",
              " 'bin_6-100': dtype('float64'),\n",
              " 'bin_>100': dtype('float64'),\n",
              " 'amenity_count': dtype('float64'),\n",
              " 'bed_count_1': dtype('bool'),\n",
              " 'bed_count_2': dtype('bool'),\n",
              " 'bed_count_3': dtype('bool'),\n",
              " 'bed_count_4': dtype('bool'),\n",
              " 'bed_count_5_+': dtype('bool'),\n",
              " 'bathroom_count_1': dtype('bool'),\n",
              " 'bathroom_count_2': dtype('bool'),\n",
              " 'bathroom_count_3': dtype('bool'),\n",
              " 'bathroom_count_4': dtype('bool'),\n",
              " 'bathroom_count_5': dtype('bool'),\n",
              " 'bathroom_count_5_+': dtype('bool'),\n",
              " 'bedroom_count_1': dtype('bool'),\n",
              " 'bedroom_count_2': dtype('bool'),\n",
              " 'bedroom_count_3': dtype('bool'),\n",
              " 'bedroom_count_4': dtype('bool'),\n",
              " 'bedroom_count_5': dtype('bool'),\n",
              " 'bedroom_count_6': dtype('bool'),\n",
              " 'bedroom_count_7_+': dtype('bool'),\n",
              " 'listing_count1': dtype('bool'),\n",
              " 'listing_count2': dtype('bool'),\n",
              " 'listing_count3': dtype('bool'),\n",
              " 'listing_count4': dtype('bool'),\n",
              " 'listing_count5': dtype('bool'),\n",
              " 'listing_count_6_+': dtype('bool')}"
            ]
          },
          "execution_count": 173,
          "metadata": {},
          "output_type": "execute_result"
        }
      ],
      "source": [
        "df.dtypes.to_dict()"
      ]
    },
    {
      "cell_type": "markdown",
      "source": [
        "Count for the different room type when the property has a shared bath"
      ],
      "metadata": {
        "id": "wNcmnl3LB_px"
      }
    },
    {
      "cell_type": "code",
      "execution_count": null,
      "metadata": {
        "colab": {
          "base_uri": "https://localhost:8080/"
        },
        "id": "uxkkml8D3t9A",
        "outputId": "dc727d5c-9a97-4a05-965a-7f26c348a6e7"
      },
      "outputs": [
        {
          "data": {
            "text/plain": [
              "Private room    11324\n",
              "Shared room       207\n",
              "Hotel room         16\n",
              "Name: room_type, dtype: int64"
            ]
          },
          "execution_count": 175,
          "metadata": {},
          "output_type": "execute_result"
        }
      ],
      "source": [
        "df[df[\"shared_bath\"] == True][\"room_type\"].value_counts()"
      ]
    },
    {
      "cell_type": "markdown",
      "source": [
        "Check the influence of 1 bedroom in the delay"
      ],
      "metadata": {
        "id": "9DNaeB6FCHiM"
      }
    },
    {
      "cell_type": "code",
      "execution_count": null,
      "metadata": {
        "colab": {
          "base_uri": "https://localhost:8080/",
          "height": 432
        },
        "id": "HXvEqYZBqPVL",
        "outputId": "5fa89d40-9eeb-4658-fe5b-e3a9193d3a11"
      },
      "outputs": [
        {
          "data": {
            "image/png": "[encoded data removed]",
            "text/plain": [
              "<Figure size 640x480 with 2 Axes>"
            ]
          },
          "metadata": {},
          "output_type": "display_data"
        }
      ],
      "source": [
        "fig, axs = plt.subplots(1, 2)\n",
        "axs[0].hist(df[df[\"bedroom_count_1\"] == True][\"delay\"])\n",
        "axs[1].hist(df[df[\"bedroom_count_1\"] == False][\"delay\"])\n",
        "fig.show()"
      ]
    },
    {
      "cell_type": "markdown",
      "source": [
        "Check the influence of 4 bedrooms in the delay"
      ],
      "metadata": {
        "id": "dSZLculkCMzg"
      }
    },
    {
      "cell_type": "code",
      "execution_count": null,
      "metadata": {
        "colab": {
          "base_uri": "https://localhost:8080/",
          "height": 430
        },
        "id": "0NfNjyfQY7Pg",
        "outputId": "f6a673a5-89fd-4e27-d230-3ed4f5afc2d2"
      },
      "outputs": [
        {
          "data": {
            "image/png": "[encoded data removed]",
            "text/plain": [
              "<Figure size 640x480 with 2 Axes>"
            ]
          },
          "metadata": {},
          "output_type": "display_data"
        }
      ],
      "source": [
        "fig, axs = plt.subplots(1, 2)\n",
        "axs[0].hist(df[df[\"bedroom_count_4\"] == True][\"delay\"])\n",
        "axs[1].hist(df[df[\"bedroom_count_4\"] == False][\"delay\"])\n",
        "fig.show()"
      ]
    },
    {
      "cell_type": "markdown",
      "source": [
        "Check the influence of 2 bedrooms in the delay"
      ],
      "metadata": {
        "id": "DIVCO-OQCQc1"
      }
    },
    {
      "cell_type": "code",
      "execution_count": null,
      "metadata": {
        "colab": {
          "base_uri": "https://localhost:8080/",
          "height": 430
        },
        "id": "tBWIbRvQZPrv",
        "outputId": "b4d1d371-e920-4ddf-bf3c-8c65c494e0bd"
      },
      "outputs": [
        {
          "data": {
            "image/png": "[encoded data removed]",
            "text/plain": [
              "<Figure size 640x480 with 2 Axes>"
            ]
          },
          "metadata": {},
          "output_type": "display_data"
        }
      ],
      "source": [
        "fig, axs = plt.subplots(1, 2)\n",
        "axs[0].hist(df[df[\"bedroom_count_2\"] == True][\"delay\"])\n",
        "axs[1].hist(df[df[\"bedroom_count_2\"] == False][\"delay\"])\n",
        "fig.show()"
      ]
    },
    {
      "cell_type": "markdown",
      "source": [
        "Check the influence of the shared bath in the delay"
      ],
      "metadata": {
        "id": "gsrP5duxCTc-"
      }
    },
    {
      "cell_type": "code",
      "execution_count": null,
      "metadata": {
        "colab": {
          "base_uri": "https://localhost:8080/",
          "height": 430
        },
        "id": "UeWy5-f8u4zA",
        "outputId": "d4001c11-4460-4d56-ba20-943018f283a9"
      },
      "outputs": [
        {
          "data": {
            "image/png": "[encoded data removed]",
            "text/plain": [
              "<Figure size 640x480 with 2 Axes>"
            ]
          },
          "metadata": {},
          "output_type": "display_data"
        }
      ],
      "source": [
        "fig, axs = plt.subplots(1, 2)\n",
        "axs[0].hist(df[df[\"shared_bath\"] == True][\"delay\"])\n",
        "axs[1].hist(df[df[\"shared_bath\"] == False][\"delay\"])\n",
        "fig.show()"
      ]
    },
    {
      "cell_type": "markdown",
      "source": [
        "Histogram when there is a shared bath"
      ],
      "metadata": {
        "id": "TwG5i2hqCV_Q"
      }
    },
    {
      "cell_type": "code",
      "execution_count": null,
      "metadata": {
        "colab": {
          "base_uri": "https://localhost:8080/",
          "height": 447
        },
        "id": "VPw2XqX7t2SW",
        "outputId": "2b93aacf-1d0c-494e-e037-d1f07ba1fb88"
      },
      "outputs": [
        {
          "data": {
            "text/plain": [
              "<Axes: >"
            ]
          },
          "execution_count": 180,
          "metadata": {},
          "output_type": "execute_result"
        },
        {
          "data": {
            "image/png": "[encoded data removed]",
            "text/plain": [
              "<Figure size 640x480 with 1 Axes>"
            ]
          },
          "metadata": {},
          "output_type": "display_data"
        }
      ],
      "source": [
        "df[df[\"shared_bath\"] == True][\"delay\"].hist()"
      ]
    },
    {
      "cell_type": "markdown",
      "source": [
        "Use the PCA (Principal Component Analysis) to have insights into the spacial structure of the data"
      ],
      "metadata": {
        "id": "DDbAHMgOBczP"
      }
    },
    {
      "cell_type": "code",
      "execution_count": null,
      "metadata": {
        "colab": {
          "base_uri": "https://localhost:8080/",
          "height": 75
        },
        "id": "ENrrVxhQa8Vc",
        "outputId": "a5ca2c0b-6994-4509-8c7c-c0d6023a65b1"
      },
      "outputs": [
        {
          "data": {
            "text/html": [
              "<style>#sk-container-id-2 {color: black;background-color: white;}#sk-container-id-2 pre{padding: 0;}#sk-container-id-2 div.sk-toggleable {background-color: white;}#sk-container-id-2 label.sk-toggleable__label {cursor: pointer;display: block;width: 100%;margin-bottom: 0;padding: 0.3em;box-sizing: border-box;text-align: center;}#sk-container-id-2 label.sk-toggleable__label-arrow:before {content: \"▸\";float: left;margin-right: 0.25em;color: #696969;}#sk-container-id-2 label.sk-toggleable__label-arrow:hover:before {color: black;}#sk-container-id-2 div.sk-estimator:hover label.sk-toggleable__label-arrow:before {color: black;}#sk-container-id-2 div.sk-toggleable__content {max-height: 0;max-width: 0;overflow: hidden;text-align: left;background-color: #f0f8ff;}#sk-container-id-2 div.sk-toggleable__content pre {margin: 0.2em;color: black;border-radius: 0.25em;background-color: #f0f8ff;}#sk-container-id-2 input.sk-toggleable__control:checked~div.sk-toggleable__content {max-height: 200px;max-width: 100%;overflow: auto;}#sk-container-id-2 input.sk-toggleable__control:checked~label.sk-toggleable__label-arrow:before {content: \"▾\";}#sk-container-id-2 div.sk-estimator input.sk-toggleable__control:checked~label.sk-toggleable__label {background-color: #d4ebff;}#sk-container-id-2 div.sk-label input.sk-toggleable__control:checked~label.sk-toggleable__label {background-color: #d4ebff;}#sk-container-id-2 input.sk-hidden--visually {border: 0;clip: rect(1px 1px 1px 1px);clip: rect(1px, 1px, 1px, 1px);height: 1px;margin: -1px;overflow: hidden;padding: 0;position: absolute;width: 1px;}#sk-container-id-2 div.sk-estimator {font-family: monospace;background-color: #f0f8ff;border: 1px dotted black;border-radius: 0.25em;box-sizing: border-box;margin-bottom: 0.5em;}#sk-container-id-2 div.sk-estimator:hover {background-color: #d4ebff;}#sk-container-id-2 div.sk-parallel-item::after {content: \"\";width: 100%;border-bottom: 1px solid gray;flex-grow: 1;}#sk-container-id-2 div.sk-label:hover label.sk-toggleable__label {background-color: #d4ebff;}#sk-container-id-2 div.sk-serial::before {content: \"\";position: absolute;border-left: 1px solid gray;box-sizing: border-box;top: 0;bottom: 0;left: 50%;z-index: 0;}#sk-container-id-2 div.sk-serial {display: flex;flex-direction: column;align-items: center;background-color: white;padding-right: 0.2em;padding-left: 0.2em;position: relative;}#sk-container-id-2 div.sk-item {position: relative;z-index: 1;}#sk-container-id-2 div.sk-parallel {display: flex;align-items: stretch;justify-content: center;background-color: white;position: relative;}#sk-container-id-2 div.sk-item::before, #sk-container-id-2 div.sk-parallel-item::before {content: \"\";position: absolute;border-left: 1px solid gray;box-sizing: border-box;top: 0;bottom: 0;left: 50%;z-index: -1;}#sk-container-id-2 div.sk-parallel-item {display: flex;flex-direction: column;z-index: 1;position: relative;background-color: white;}#sk-container-id-2 div.sk-parallel-item:first-child::after {align-self: flex-end;width: 50%;}#sk-container-id-2 div.sk-parallel-item:last-child::after {align-self: flex-start;width: 50%;}#sk-container-id-2 div.sk-parallel-item:only-child::after {width: 0;}#sk-container-id-2 div.sk-dashed-wrapped {border: 1px dashed gray;margin: 0 0.4em 0.5em 0.4em;box-sizing: border-box;padding-bottom: 0.4em;background-color: white;}#sk-container-id-2 div.sk-label label {font-family: monospace;font-weight: bold;display: inline-block;line-height: 1.2em;}#sk-container-id-2 div.sk-label-container {text-align: center;}#sk-container-id-2 div.sk-container {/* jupyter's `normalize.less` sets `[hidden] { display: none; }` but bootstrap.min.css set `[hidden] { display: none !important; }` so we also need the `!important` here to be able to override the default hidden behavior on the sphinx rendered scikit-learn.org. See: https://github.com/scikit-learn/scikit-learn/issues/21755 */display: inline-block !important;position: relative;}#sk-container-id-2 div.sk-text-repr-fallback {display: none;}</style><div id=\"sk-container-id-2\" class=\"sk-top-container\"><div class=\"sk-text-repr-fallback\"><pre>PCA(n_components=2)</pre><b>In a Jupyter environment, please rerun this cell to show the HTML representation or trust the notebook. <br />On GitHub, the HTML representation is unable to render, please try loading this page with nbviewer.org.</b></div><div class=\"sk-container\" hidden><div class=\"sk-item\"><div class=\"sk-estimator sk-toggleable\"><input class=\"sk-toggleable__control sk-hidden--visually\" id=\"sk-estimator-id-2\" type=\"checkbox\" checked><label for=\"sk-estimator-id-2\" class=\"sk-toggleable__label sk-toggleable__label-arrow\">PCA</label><div class=\"sk-toggleable__content\"><pre>PCA(n_components=2)</pre></div></div></div></div></div>"
            ],
            "text/plain": [
              "PCA(n_components=2)"
            ]
          },
          "execution_count": 174,
          "metadata": {},
          "output_type": "execute_result"
        }
      ],
      "source": [
        "from sklearn.decomposition import PCA\n",
        "\n",
        "pca = PCA(n_components=2)\n",
        "pca.fit(df[[\"longitude\", \"latitude\"]])"
      ]
    },
    {
      "cell_type": "markdown",
      "source": [
        "Extract the longitude and latitude transform them using the PCA to reduce dimensionality (noise reduction and try to find underlying patters)."
      ],
      "metadata": {
        "id": "X4YP4bNJCvI_"
      }
    },
    {
      "cell_type": "code",
      "execution_count": null,
      "metadata": {
        "id": "8q0r_YqCXv4_"
      },
      "outputs": [],
      "source": [
        "pca_df = pd.DataFrame(data=pca.transform(df[[\"longitude\", \"latitude\"]]), columns=['PCA1', 'PCA2'])"
      ]
    },
    {
      "cell_type": "code",
      "execution_count": null,
      "metadata": {
        "id": "FY-IdzCaYHZG"
      },
      "outputs": [],
      "source": [
        "df[\"PCA1\"] = pca_df[\"PCA1\"]\n",
        "df[\"PCA2\"] = pca_df[\"PCA2\"]"
      ]
    },
    {
      "cell_type": "code",
      "execution_count": null,
      "metadata": {
        "id": "I0r5xTM4t30a",
        "colab": {
          "base_uri": "https://localhost:8080/"
        },
        "outputId": "29c4b9ac-ab22-46f5-ea06-061486753553"
      },
      "outputs": [
        {
          "output_type": "stream",
          "name": "stdout",
          "text": [
            "the correlation between delay and PCA1 is 0.0%\n",
            "the correlation between delay and PCA2 is 0.0%\n"
          ]
        }
      ],
      "source": [
        "for feature in df.columns:\n",
        "  if feature.startswith(\"PCA\"):\n",
        "    correlation = (df[\"delay\"].corr(df[feature])).round(2)\n",
        "    print(\"the correlation between delay and {} is {}%\".format(feature, correlation*100))"
      ]
    },
    {
      "cell_type": "code",
      "execution_count": null,
      "metadata": {
        "colab": {
          "base_uri": "https://localhost:8080/"
        },
        "id": "uGZxOQ9vWddi",
        "outputId": "54c0f73a-e926-4403-cb2b-48c2d9edd2d0"
      },
      "outputs": [
        {
          "data": {
            "text/plain": [
              "{'host_response_time': dtype('O'),\n",
              " 'host_response_rate': dtype('float64'),\n",
              " 'host_acceptance_rate': dtype('float64'),\n",
              " 'host_is_superhost': dtype('bool'),\n",
              " 'host_neighbourhood': dtype('O'),\n",
              " 'host_listings_count': dtype('float64'),\n",
              " 'host_total_listings_count': dtype('float64'),\n",
              " 'host_has_profile_pic': dtype('bool'),\n",
              " 'host_identity_verified': dtype('bool'),\n",
              " 'neighbourhood_cleansed': dtype('O'),\n",
              " 'latitude': dtype('float64'),\n",
              " 'longitude': dtype('float64'),\n",
              " 'property_type': dtype('O'),\n",
              " 'room_type': dtype('O'),\n",
              " 'accommodates': dtype('float64'),\n",
              " 'bedrooms': dtype('float64'),\n",
              " 'beds': dtype('float64'),\n",
              " 'price': dtype('float64'),\n",
              " 'minimum_nights': dtype('float64'),\n",
              " 'maximum_nights': dtype('float64'),\n",
              " 'minimum_minimum_nights': dtype('float64'),\n",
              " 'maximum_minimum_nights': dtype('float64'),\n",
              " 'minimum_maximum_nights': dtype('float64'),\n",
              " 'maximum_maximum_nights': dtype('float64'),\n",
              " 'minimum_nights_avg_ntm': dtype('float64'),\n",
              " 'maximum_nights_avg_ntm': dtype('float64'),\n",
              " 'has_availability': dtype('float64'),\n",
              " 'number_of_reviews': dtype('float64'),\n",
              " 'number_of_reviews_ltm': dtype('float64'),\n",
              " 'number_of_reviews_l30d': dtype('float64'),\n",
              " 'review_scores_rating': dtype('float64'),\n",
              " 'review_scores_accuracy': dtype('float64'),\n",
              " 'review_scores_cleanliness': dtype('float64'),\n",
              " 'review_scores_checkin': dtype('float64'),\n",
              " 'review_scores_communication': dtype('float64'),\n",
              " 'review_scores_location': dtype('float64'),\n",
              " 'review_scores_value': dtype('float64'),\n",
              " 'instant_bookable': dtype('float64'),\n",
              " 'calculated_host_listings_count': dtype('float64'),\n",
              " 'calculated_host_listings_count_entire_homes': dtype('float64'),\n",
              " 'calculated_host_listings_count_private_rooms': dtype('float64'),\n",
              " 'calculated_host_listings_count_shared_rooms': dtype('float64'),\n",
              " 'bathrooms_count': dtype('float64'),\n",
              " 'private_bath': dtype('float64'),\n",
              " 'shared_bath': dtype('float64'),\n",
              " 'half_bath': dtype('float64'),\n",
              " 'price_estimate': dtype('float64'),\n",
              " 'delay': dtype('float64'),\n",
              " 'bin_<=5': dtype('float64'),\n",
              " 'bin_6-100': dtype('float64'),\n",
              " 'bin_>100': dtype('float64'),\n",
              " 'amenity_count': dtype('float64'),\n",
              " 'bed_count_1': dtype('bool'),\n",
              " 'bed_count_2': dtype('bool'),\n",
              " 'bed_count_3': dtype('bool'),\n",
              " 'bed_count_4': dtype('bool'),\n",
              " 'bed_count_5_+': dtype('bool'),\n",
              " 'bathroom_count_1': dtype('bool'),\n",
              " 'bathroom_count_2': dtype('bool'),\n",
              " 'bathroom_count_3': dtype('bool'),\n",
              " 'bathroom_count_4': dtype('bool'),\n",
              " 'bathroom_count_5': dtype('bool'),\n",
              " 'bathroom_count_5_+': dtype('bool'),\n",
              " 'bedroom_count_1': dtype('bool'),\n",
              " 'bedroom_count_2': dtype('bool'),\n",
              " 'bedroom_count_3': dtype('bool'),\n",
              " 'bedroom_count_4': dtype('bool'),\n",
              " 'bedroom_count_5': dtype('bool'),\n",
              " 'bedroom_count_6': dtype('bool'),\n",
              " 'bedroom_count_7_+': dtype('bool'),\n",
              " 'listing_count1': dtype('bool'),\n",
              " 'listing_count2': dtype('bool'),\n",
              " 'listing_count3': dtype('bool'),\n",
              " 'listing_count4': dtype('bool'),\n",
              " 'listing_count5': dtype('bool'),\n",
              " 'listing_count_6_+': dtype('bool'),\n",
              " 'PCA1': dtype('float64'),\n",
              " 'PCA2': dtype('float64')}"
            ]
          },
          "execution_count": 183,
          "metadata": {},
          "output_type": "execute_result"
        }
      ],
      "source": [
        "df.dtypes.to_dict()"
      ]
    },
    {
      "cell_type": "markdown",
      "source": [
        "Scatter plot PCA1 and PCA2"
      ],
      "metadata": {
        "id": "u60RVULBDd2-"
      }
    },
    {
      "cell_type": "code",
      "execution_count": null,
      "metadata": {
        "colab": {
          "base_uri": "https://localhost:8080/",
          "height": 447
        },
        "id": "osCNKAHNgYUI",
        "outputId": "c86d8b0f-05f9-4ed7-d075-de6fcc0243bb"
      },
      "outputs": [
        {
          "data": {
            "text/plain": [
              "<matplotlib.collections.PathCollection at 0x7c516e87a920>"
            ]
          },
          "execution_count": 186,
          "metadata": {},
          "output_type": "execute_result"
        },
        {
          "data": {
            "image/png": "[encoded data removed]",
            "text/plain": [
              "<Figure size 640x480 with 1 Axes>"
            ]
          },
          "metadata": {},
          "output_type": "display_data"
        }
      ],
      "source": [
        "plt.scatter(df[\"PCA1\"], df[\"PCA2\"])"
      ]
    },
    {
      "cell_type": "markdown",
      "source": [
        "Verify the variance ratio of each one of the PCAs"
      ],
      "metadata": {
        "id": "zp2lRdbHDhzC"
      }
    },
    {
      "cell_type": "code",
      "execution_count": null,
      "metadata": {
        "colab": {
          "base_uri": "https://localhost:8080/"
        },
        "id": "QPVNkidRhUXx",
        "outputId": "3ce82549-e70b-4675-ade5-0c9fbb00bd0a"
      },
      "outputs": [
        {
          "data": {
            "text/plain": [
              "array([0.80917966, 0.19082034])"
            ]
          },
          "execution_count": 187,
          "metadata": {},
          "output_type": "execute_result"
        }
      ],
      "source": [
        "pca.explained_variance_ratio_"
      ]
    },
    {
      "cell_type": "markdown",
      "source": [
        "Analysing and comparing the distribution of 'price_estimate' across the nine most common types of properties in the dataset, with the additional criterion that only properties priced below 1000 are considered."
      ],
      "metadata": {
        "id": "72zQeSYQDqxZ"
      }
    },
    {
      "cell_type": "code",
      "execution_count": null,
      "metadata": {
        "colab": {
          "base_uri": "https://localhost:8080/",
          "height": 496
        },
        "id": "CA-W1L5QT0Ft",
        "outputId": "ee59e6db-a13d-4354-c1e0-e44a206a98cf"
      },
      "outputs": [
        {
          "name": "stderr",
          "output_type": "stream",
          "text": [
            "<ipython-input-188-5fbe62e7369e>:6: UserWarning: Boolean Series key will be reindexed to match DataFrame index.\n",
            "  axs[i//3,i%3].hist(df[df[\"property_type\"] == rtype][df[\"price\"]<1000][\"price_estimate\"])\n"
          ]
        },
        {
          "data": {
            "image/png": "[encoded data removed]",
            "text/plain": [
              "<Figure size 640x480 with 9 Axes>"
            ]
          },
          "metadata": {},
          "output_type": "display_data"
        }
      ],
      "source": [
        "\n",
        "vals = list(df[\"property_type\"].value_counts()[:9].index.values)\n",
        "\n",
        "fig, axs = plt.subplots(3, 3)\n",
        "i = 0\n",
        "for rtype in vals:\n",
        "  axs[i//3,i%3].hist(df[df[\"property_type\"] == rtype][df[\"price\"]<1000][\"price_estimate\"])\n",
        "  axs[i//3,i%3].set_title (\"{}\".format(rtype))\n",
        "  i+=1\n",
        "fig.tight_layout(pad=2.0)\n",
        "fig.show()"
      ]
    },
    {
      "cell_type": "markdown",
      "metadata": {
        "id": "hzHxTX7Rznb-"
      },
      "source": [
        "# Feature engineering"
      ]
    },
    {
      "cell_type": "markdown",
      "metadata": {
        "id": "hBT985gMUL3q"
      },
      "source": [
        "Include features representing both the borough where the property is located and the borough of the property owner. Introduce an additional feature to indicate whether the property's location and the owner's borough are the same."
      ]
    },
    {
      "cell_type": "code",
      "execution_count": null,
      "metadata": {
        "id": "0QV9FSZa1Y6K"
      },
      "outputs": [],
      "source": [
        "df[\"owner_in_neighbourhood\"] = df[\"neighbourhood_cleansed\"] == df[\"host_neighbourhood\"]"
      ]
    },
    {
      "cell_type": "markdown",
      "source": [
        "Visualising the distribution of 'delay' values specifically for cases where property owners reside in the same neighbourhood as their property."
      ],
      "metadata": {
        "id": "EaHWN9rMEKkd"
      }
    },
    {
      "cell_type": "code",
      "execution_count": null,
      "metadata": {
        "colab": {
          "base_uri": "https://localhost:8080/",
          "height": 447
        },
        "id": "NUwwRgYgVOY9",
        "outputId": "32354068-e221-47de-a1e3-23f1a6783f48"
      },
      "outputs": [
        {
          "data": {
            "text/plain": [
              "<Axes: >"
            ]
          },
          "execution_count": 191,
          "metadata": {},
          "output_type": "execute_result"
        },
        {
          "data": {
            "image/png": "[encoded data removed]",
            "text/plain": [
              "<Figure size 640x480 with 1 Axes>"
            ]
          },
          "metadata": {},
          "output_type": "display_data"
        }
      ],
      "source": [
        "df[df[\"owner_in_neighbourhood\"] == True][\"delay\"].hist()"
      ]
    },
    {
      "cell_type": "markdown",
      "source": [
        "Visualising the distribution of 'delay' values specifically for cases where property owners don't reside in the same neighbourhood as their property."
      ],
      "metadata": {
        "id": "QppP3uazERnq"
      }
    },
    {
      "cell_type": "code",
      "execution_count": null,
      "metadata": {
        "colab": {
          "base_uri": "https://localhost:8080/",
          "height": 447
        },
        "id": "fpPrwNH3VVZp",
        "outputId": "59d61e83-e6da-49fa-8156-f24ac4bb59f0"
      },
      "outputs": [
        {
          "data": {
            "text/plain": [
              "<Axes: >"
            ]
          },
          "execution_count": 192,
          "metadata": {},
          "output_type": "execute_result"
        },
        {
          "data": {
            "image/png": "[encoded data removed]",
            "text/plain": [
              "<Figure size 640x480 with 1 Axes>"
            ]
          },
          "metadata": {},
          "output_type": "display_data"
        }
      ],
      "source": [
        "df[df[\"owner_in_neighbourhood\"] == False][\"delay\"].hist()"
      ]
    },
    {
      "cell_type": "markdown",
      "source": [
        "Check the percentage of hots that live in the same neighbourhood as the property"
      ],
      "metadata": {
        "id": "RUlzT_I-EbWj"
      }
    },
    {
      "cell_type": "code",
      "execution_count": null,
      "metadata": {
        "colab": {
          "base_uri": "https://localhost:8080/"
        },
        "id": "esjOGXC-UTmi",
        "outputId": "47e8520d-0d40-462c-9316-e3701045999f"
      },
      "outputs": [
        {
          "data": {
            "text/plain": [
              "0.026271594842063758"
            ]
          },
          "execution_count": 193,
          "metadata": {},
          "output_type": "execute_result"
        }
      ],
      "source": [
        "len(df[df[\"owner_in_neighbourhood\"] == True])/len(df)"
      ]
    },
    {
      "cell_type": "markdown",
      "source": [
        "Plot the amount of hosts that live in the same neighbourhood as the property"
      ],
      "metadata": {
        "id": "Zi7T6sbnEheP"
      }
    },
    {
      "cell_type": "code",
      "execution_count": null,
      "metadata": {
        "colab": {
          "base_uri": "https://localhost:8080/",
          "height": 473
        },
        "id": "e6uGy1mQUJuG",
        "outputId": "5933184f-bac2-4de1-915c-9efa6cee6869"
      },
      "outputs": [
        {
          "data": {
            "text/plain": [
              "<Axes: >"
            ]
          },
          "execution_count": 194,
          "metadata": {},
          "output_type": "execute_result"
        },
        {
          "data": {
            "image/png": "[encoded data removed]",
            "text/plain": [
              "<Figure size 640x480 with 1 Axes>"
            ]
          },
          "metadata": {},
          "output_type": "display_data"
        }
      ],
      "source": [
        "df[\"owner_in_neighbourhood\"].value_counts().plot(kind = \"bar\")"
      ]
    },
    {
      "cell_type": "code",
      "execution_count": null,
      "metadata": {
        "colab": {
          "base_uri": "https://localhost:8080/"
        },
        "id": "1WXwfSEdU0DW",
        "outputId": "e22eb2c1-a2df-4b8c-e96a-53f5b869702b"
      },
      "outputs": [
        {
          "data": {
            "text/plain": [
              "1    False\n",
              "3    False\n",
              "4     True\n",
              "5    False\n",
              "7    False\n",
              "Name: owner_in_neighbourhood, dtype: bool"
            ]
          },
          "execution_count": 195,
          "metadata": {},
          "output_type": "execute_result"
        }
      ],
      "source": [
        "df[\"owner_in_neighbourhood\"].head()"
      ]
    },
    {
      "cell_type": "code",
      "execution_count": null,
      "metadata": {
        "colab": {
          "base_uri": "https://localhost:8080/"
        },
        "id": "ISnbzwa7SeM2",
        "outputId": "fb2afaad-e3f8-4342-b2a2-2be30d395204"
      },
      "outputs": [
        {
          "data": {
            "text/plain": [
              "host_response_time         object\n",
              "host_response_rate        float64\n",
              "host_acceptance_rate      float64\n",
              "host_is_superhost            bool\n",
              "host_neighbourhood         object\n",
              "                           ...   \n",
              "listing_count5               bool\n",
              "listing_count_6_+            bool\n",
              "PCA1                      float64\n",
              "PCA2                      float64\n",
              "owner_in_neighbourhood       bool\n",
              "Length: 79, dtype: object"
            ]
          },
          "execution_count": 196,
          "metadata": {},
          "output_type": "execute_result"
        }
      ],
      "source": [
        "df.dtypes"
      ]
    },
    {
      "cell_type": "markdown",
      "source": [
        "Check the correlation between the delay and the PCA2"
      ],
      "metadata": {
        "id": "N2WL3Be9Euo3"
      }
    },
    {
      "cell_type": "code",
      "execution_count": null,
      "metadata": {
        "colab": {
          "base_uri": "https://localhost:8080/"
        },
        "id": "Afrn71x4nDVt",
        "outputId": "777de9b5-ac4e-4df5-c36e-07a84bcd3e04"
      },
      "outputs": [
        {
          "name": "stdout",
          "output_type": "stream",
          "text": [
            "the correlation between delay and PCA2 is -9.0%\n"
          ]
        }
      ],
      "source": [
        "correlation = (df[\"delay\"].corr(df[\"amenity_count\"])).round(2)\n",
        "print(\"the correlation between delay and {} is {}%\".format(feature, correlation*100))"
      ]
    },
    {
      "cell_type": "markdown",
      "source": [
        "The next step is to perform one hot encoding for the categorical features. Models like XGBoost cannot deal with categorical features."
      ],
      "metadata": {
        "id": "z1bLMM0mEznJ"
      }
    },
    {
      "cell_type": "markdown",
      "metadata": {
        "id": "-gviSnOekhZA"
      },
      "source": [
        "Note: We have tried training XGBoost with our data as is. The training accuracy (training RMSE), with the number of training epochs n=10000 turned to be close to 4 months, which would be excellent. However, testing data showed an abysmal RMSE of 120. Meaning the predictions are off by about 10 years. This is a typical case of overfitting. Thus, we need to adress this issue."
      ]
    },
    {
      "cell_type": "markdown",
      "metadata": {
        "id": "lUU-izBbbsV2"
      },
      "source": [
        "# Modelling"
      ]
    },
    {
      "cell_type": "code",
      "execution_count": null,
      "metadata": {
        "colab": {
          "base_uri": "https://localhost:8080/"
        },
        "id": "dD2d6kulbysG",
        "outputId": "8361ef67-3556-40dd-e679-5d0db23a7508"
      },
      "outputs": [
        {
          "name": "stdout",
          "output_type": "stream",
          "text": [
            "Requirement already satisfied: xgboost in /usr/local/lib/python3.10/dist-packages (2.0.3)\n",
            "Requirement already satisfied: numpy in /usr/local/lib/python3.10/dist-packages (from xgboost) (1.25.2)\n",
            "Requirement already satisfied: scipy in /usr/local/lib/python3.10/dist-packages (from xgboost) (1.11.4)\n",
            "Requirement already satisfied: lightgbm in /usr/local/lib/python3.10/dist-packages (4.1.0)\n",
            "Requirement already satisfied: numpy in /usr/local/lib/python3.10/dist-packages (from lightgbm) (1.25.2)\n",
            "Requirement already satisfied: scipy in /usr/local/lib/python3.10/dist-packages (from lightgbm) (1.11.4)\n"
          ]
        }
      ],
      "source": [
        "!pip install  xgboost\n",
        "!pip install lightgbm"
      ]
    },
    {
      "cell_type": "markdown",
      "source": [
        "Import the xgboost"
      ],
      "metadata": {
        "id": "DWfxJtj-F1aI"
      }
    },
    {
      "cell_type": "code",
      "execution_count": null,
      "metadata": {
        "id": "JytsANssoDC1"
      },
      "outputs": [],
      "source": [
        "import xgboost as xgb"
      ]
    },
    {
      "cell_type": "markdown",
      "source": [
        "Slip into 70% for training and 30% for testing, and separate the delay variable that is the target varible."
      ],
      "metadata": {
        "id": "OCsLCpLWF7zM"
      }
    },
    {
      "cell_type": "code",
      "execution_count": null,
      "metadata": {
        "id": "V_PgL0GBcC0m"
      },
      "outputs": [],
      "source": [
        "train, test = df.loc[:len(df)*7//10, :], df.loc[len(df)*7//10:,:]\n",
        "X_train, X_test, y_train, y_test = train.drop(\"delay\", axis = 1), test.drop(\"delay\", axis = 1),  train[\"delay\"], test[\"delay\"]"
      ]
    },
    {
      "cell_type": "code",
      "execution_count": null,
      "metadata": {
        "colab": {
          "base_uri": "https://localhost:8080/"
        },
        "id": "ANigws_cL-YH",
        "outputId": "9664dadb-6769-431b-ffb0-5f068e20d43d"
      },
      "outputs": [
        {
          "data": {
            "text/plain": [
              "{'host_response_time': dtype('O'),\n",
              " 'host_response_rate': dtype('float64'),\n",
              " 'host_acceptance_rate': dtype('float64'),\n",
              " 'host_is_superhost': dtype('bool'),\n",
              " 'host_neighbourhood': dtype('O'),\n",
              " 'host_listings_count': dtype('float64'),\n",
              " 'host_total_listings_count': dtype('float64'),\n",
              " 'host_has_profile_pic': dtype('bool'),\n",
              " 'host_identity_verified': dtype('bool'),\n",
              " 'neighbourhood_cleansed': dtype('O'),\n",
              " 'latitude': dtype('float64'),\n",
              " 'longitude': dtype('float64'),\n",
              " 'property_type': dtype('O'),\n",
              " 'room_type': dtype('O'),\n",
              " 'accommodates': dtype('float64'),\n",
              " 'bedrooms': dtype('float64'),\n",
              " 'beds': dtype('float64'),\n",
              " 'price': dtype('float64'),\n",
              " 'minimum_nights': dtype('float64'),\n",
              " 'maximum_nights': dtype('float64'),\n",
              " 'minimum_minimum_nights': dtype('float64'),\n",
              " 'maximum_minimum_nights': dtype('float64'),\n",
              " 'minimum_maximum_nights': dtype('float64'),\n",
              " 'maximum_maximum_nights': dtype('float64'),\n",
              " 'minimum_nights_avg_ntm': dtype('float64'),\n",
              " 'maximum_nights_avg_ntm': dtype('float64'),\n",
              " 'has_availability': dtype('float64'),\n",
              " 'number_of_reviews': dtype('float64'),\n",
              " 'number_of_reviews_ltm': dtype('float64'),\n",
              " 'number_of_reviews_l30d': dtype('float64'),\n",
              " 'review_scores_rating': dtype('float64'),\n",
              " 'review_scores_accuracy': dtype('float64'),\n",
              " 'review_scores_cleanliness': dtype('float64'),\n",
              " 'review_scores_checkin': dtype('float64'),\n",
              " 'review_scores_communication': dtype('float64'),\n",
              " 'review_scores_location': dtype('float64'),\n",
              " 'review_scores_value': dtype('float64'),\n",
              " 'instant_bookable': dtype('float64'),\n",
              " 'calculated_host_listings_count': dtype('float64'),\n",
              " 'calculated_host_listings_count_entire_homes': dtype('float64'),\n",
              " 'calculated_host_listings_count_private_rooms': dtype('float64'),\n",
              " 'calculated_host_listings_count_shared_rooms': dtype('float64'),\n",
              " 'bathrooms_count': dtype('float64'),\n",
              " 'private_bath': dtype('float64'),\n",
              " 'shared_bath': dtype('float64'),\n",
              " 'half_bath': dtype('float64'),\n",
              " 'price_estimate': dtype('float64'),\n",
              " 'bin_<=5': dtype('float64'),\n",
              " 'bin_6-100': dtype('float64'),\n",
              " 'bin_>100': dtype('float64'),\n",
              " 'amenity_count': dtype('float64'),\n",
              " 'bed_count_1': dtype('bool'),\n",
              " 'bed_count_2': dtype('bool'),\n",
              " 'bed_count_3': dtype('bool'),\n",
              " 'bed_count_4': dtype('bool'),\n",
              " 'bed_count_5_+': dtype('bool'),\n",
              " 'bathroom_count_1': dtype('bool'),\n",
              " 'bathroom_count_2': dtype('bool'),\n",
              " 'bathroom_count_3': dtype('bool'),\n",
              " 'bathroom_count_4': dtype('bool'),\n",
              " 'bathroom_count_5': dtype('bool'),\n",
              " 'bathroom_count_5_+': dtype('bool'),\n",
              " 'bedroom_count_1': dtype('bool'),\n",
              " 'bedroom_count_2': dtype('bool'),\n",
              " 'bedroom_count_3': dtype('bool'),\n",
              " 'bedroom_count_4': dtype('bool'),\n",
              " 'bedroom_count_5': dtype('bool'),\n",
              " 'bedroom_count_6': dtype('bool'),\n",
              " 'bedroom_count_7_+': dtype('bool'),\n",
              " 'listing_count1': dtype('bool'),\n",
              " 'listing_count2': dtype('bool'),\n",
              " 'listing_count3': dtype('bool'),\n",
              " 'listing_count4': dtype('bool'),\n",
              " 'listing_count5': dtype('bool'),\n",
              " 'listing_count_6_+': dtype('bool'),\n",
              " 'PCA1': dtype('float64'),\n",
              " 'PCA2': dtype('float64'),\n",
              " 'owner_in_neighbourhood': dtype('bool')}"
            ]
          },
          "execution_count": 202,
          "metadata": {},
          "output_type": "execute_result"
        }
      ],
      "source": [
        "X_train.dtypes.to_dict()"
      ]
    },
    {
      "cell_type": "code",
      "execution_count": null,
      "metadata": {
        "colab": {
          "base_uri": "https://localhost:8080/"
        },
        "id": "HHkOXEHNMQDg",
        "outputId": "011e03f4-f335-46ab-8e8a-77b2de104a51"
      },
      "outputs": [
        {
          "data": {
            "text/plain": [
              "['host_response_time',\n",
              " 'host_is_superhost',\n",
              " 'host_neighbourhood',\n",
              " 'host_has_profile_pic',\n",
              " 'host_identity_verified',\n",
              " 'neighbourhood_cleansed',\n",
              " 'room_type',\n",
              " 'property_type']"
            ]
          },
          "execution_count": 203,
          "metadata": {},
          "output_type": "execute_result"
        }
      ],
      "source": [
        "categorical_features"
      ]
    },
    {
      "cell_type": "markdown",
      "source": [
        "Identifying and coverting categorical variables in both training and testing sets to the 'category' data type so the XGBppst model can treat these vairables during training.\n"
      ],
      "metadata": {
        "id": "l0XBAHefGLvc"
      }
    },
    {
      "cell_type": "code",
      "execution_count": null,
      "metadata": {
        "id": "sc2NkUd2eJqR"
      },
      "outputs": [],
      "source": [
        "for col in categorical_features:\n",
        "    X_train[col] = X_train[col].astype('category')\n",
        "    X_test[col] = X_test[col].astype('category')\n",
        "\n",
        "for col in df.columns:\n",
        "  if df[col].dtype == \"bool\":\n",
        "    X_train[col] = X_train[col].astype('category')\n",
        "    X_test[col] = X_test[col].astype('category')"
      ]
    },
    {
      "cell_type": "markdown",
      "source": [
        "Parameter grid for the XGBoost model"
      ],
      "metadata": {
        "id": "7G-d3QP40Cb7"
      }
    },
    {
      "cell_type": "code",
      "execution_count": null,
      "metadata": {
        "id": "Um8LdToGcacb"
      },
      "outputs": [],
      "source": [
        "params = {\n",
        "    'n_estimators':[200, 300, 350, 400, 450, 500],\n",
        "    'min_child_weight':[4,5],\n",
        "    'gamma':[i/10.0 for i in range(3,6)],\n",
        "    'subsample':[i/10.0 for i in range(6,13)],\n",
        "    'colsample_bytree':[i/10.0 for i in range(6,13)],\n",
        "    'max_depth': [2,3,4,5,6,7],\n",
        "    'objective': ['reg:squarederror'],\n",
        "    'eval_metric': ['rmse'],\n",
        "    'eta': [i/10.0 for i in range(3,6)],\n",
        "}"
      ]
    },
    {
      "cell_type": "markdown",
      "source": [
        "Grid search to find the best hyperparameters for the XGBoost regression using the parameters defined in the params dictionary. It optimises based on the negative mean squared error over a 10 fold cross validation."
      ],
      "metadata": {
        "id": "wNkxgxjy0cny"
      }
    },
    {
      "cell_type": "code",
      "execution_count": null,
      "metadata": {
        "colab": {
          "background_save": true
        },
        "id": "Ev1hkVCU2UhM"
      },
      "outputs": [],
      "source": [
        "folds=10\n",
        "skf = StratifiedKFold(n_splits=folds, shuffle = True, random_state = 1001)\n",
        "\n",
        "estimator = xgb.XGBRegressor(enable_categorical = True, n_estimators = 200)\n",
        "n_iter_search = 100\n",
        "g_search = GridSearchCV(estimator, param_grid=params, cv=skf,  scoring='neg_mean_squared_error', verbose = 0)\n",
        "\n",
        "g_search.fit(X_train, y_train);"
      ]
    },
    {
      "cell_type": "code",
      "source": [
        "print(\"Best Parameters Found:\", g_search.best_params_)"
      ],
      "metadata": {
        "id": "kk9FzEUx9uq6",
        "outputId": "2ff2e730-8129-42af-abe8-b9c7d9961d6e",
        "colab": {
          "base_uri": "https://localhost:8080/"
        }
      },
      "execution_count": null,
      "outputs": [
        {
          "output_type": "stream",
          "name": "stdout",
          "text": [
            "Best Parameters Found: {'n_estimators': 500, 'min_child_weight': 4, 'gamma': 0.2, 'subsample': 0.1, 'colsample_bytree': 0.7, 'max_depth': 5, 'eta': 0.4}\n"
          ]
        }
      ]
    },
    {
      "cell_type": "markdown",
      "source": [
        "get the best hyperparameters identified by the grid search and initiliase the XGBoost with the best hyperparameters"
      ],
      "metadata": {
        "id": "fVeMwfxOkLt3"
      }
    },
    {
      "cell_type": "code",
      "execution_count": null,
      "metadata": {
        "colab": {
          "background_save": true
        },
        "id": "9JU8DZXOc8Jg"
      },
      "outputs": [],
      "source": [
        "from sklearn.metrics import mean_squared_error\n",
        "best_params = g_search.best_params_\n",
        "best_model = xgb.XGBRegressor(**best_params)"
      ]
    },
    {
      "cell_type": "markdown",
      "source": [
        "Fit the model to the training data"
      ],
      "metadata": {
        "id": "T-IJleWukm0B"
      }
    },
    {
      "cell_type": "code",
      "execution_count": null,
      "metadata": {
        "id": "lXm7LPDmawuj"
      },
      "outputs": [],
      "source": [
        "best_model.fit(X_train, y_train )"
      ]
    },
    {
      "cell_type": "markdown",
      "source": [
        "Predict on the test dataset, calculate the MSE, RMSE, MAE metrics"
      ],
      "metadata": {
        "id": "3kl8REzOks0E"
      }
    },
    {
      "cell_type": "code",
      "source": [
        "from sklearn.metrics import mean_squared_error, mean_absolute_error\n",
        "\n",
        "# Make the predictions\n",
        "preds = best_model.predict(X_test)\n",
        "\n",
        "# Calculate MSE\n",
        "mse = mean_squared_error(y_test, preds)\n",
        "\n",
        "# Calculate RMSE\n",
        "rmse = mean_squared_error(y_test, preds, squared=False)\n",
        "\n",
        "# Calculate MAE\n",
        "mae = mean_absolute_error(y_test, preds)\n",
        "\n",
        "print(f\"MSE (Mean Squared Error): {mse:.2f} years^2\")\n",
        "print(f\"RMSE (Root Mean Squared Error): {rmse:.2f} years\")\n",
        "print(f\"MAE (Mean Absolute Error): {mae:.2f} years\")\n"
      ],
      "metadata": {
        "id": "yqVPjCdycxYH",
        "outputId": "bd788c20-5207-489c-a3b2-78bc21fe42a0",
        "colab": {
          "base_uri": "https://localhost:8080/"
        }
      },
      "execution_count": null,
      "outputs": [
        {
          "output_type": "stream",
          "name": "stdout",
          "text": [
            "MSE (Mean Squared Error): 5.32 years^2\n",
            "RMSE (Root Mean Squared Error): 2.34 years\n",
            "MAE (Mean Absolute Error): 2.52 years\n"
          ]
        }
      ]
    },
    {
      "cell_type": "markdown",
      "source": [
        "Save the model in a json format"
      ],
      "metadata": {
        "id": "lmnP9GmlneOb"
      }
    },
    {
      "cell_type": "code",
      "source": [
        "best_model.save_model(\"drive/MyDrive/thesis/thesis/model.json\")"
      ],
      "metadata": {
        "id": "jX13JRcBncEB"
      },
      "execution_count": null,
      "outputs": []
    },
    {
      "cell_type": "markdown",
      "source": [
        "Load the model from the drive"
      ],
      "metadata": {
        "id": "9GK5hWrrn1W1"
      }
    },
    {
      "cell_type": "code",
      "source": [
        "model = xgboost.XGBRegressor()\n",
        "model.load_model(\"drive/MyDrive/thesis/thesis/model.json\")"
      ],
      "metadata": {
        "id": "ylKOUxkYZqFV"
      },
      "execution_count": null,
      "outputs": []
    },
    {
      "cell_type": "markdown",
      "source": [
        "Feature importance  from the trained best model and create data frame with feature names and their corresponding importance scores"
      ],
      "metadata": {
        "id": "aq-csOUvmgks"
      }
    },
    {
      "cell_type": "code",
      "execution_count": null,
      "metadata": {
        "colab": {
          "background_save": true
        },
        "id": "UqkmtePX7kCT"
      },
      "outputs": [],
      "source": [
        "gain_importance = model.feature_importances_\n",
        "gain_importance_df = pd.DataFrame({'Feature': X_train.columns, 'Gain': gain_importance})"
      ]
    },
    {
      "cell_type": "markdown",
      "source": [
        "Feature importance in a bar chart"
      ],
      "metadata": {
        "id": "mAM1MsdXoHTX"
      }
    },
    {
      "cell_type": "code",
      "execution_count": null,
      "metadata": {
        "colab": {
          "base_uri": "https://localhost:8080/",
          "height": 448
        },
        "outputId": "6b51c045-b7b2-4bf8-dabd-aa4cf3b793d7",
        "id": "tfkx-L4bZxq2"
      },
      "outputs": [
        {
          "data": {
            "text/plain": [
              "<BarContainer object of 67 artists>"
            ]
          },
          "execution_count": 105,
          "metadata": {},
          "output_type": "execute_result"
        },
        {
          "data": {
            "image/png": "[encoded data removed]",
            "text/plain": [
              "<Figure size 640x480 with 1 Axes>"
            ]
          },
          "metadata": {},
          "output_type": "display_data"
        }
      ],
      "source": [
        "plt.bar(model.get_booster().feature_names, model.feature_importances_)"
      ]
    },
    {
      "cell_type": "markdown",
      "source": [
        "Create a data frame table pairing each feature adn the importance score"
      ],
      "metadata": {
        "id": "l0BGIX5ToMlr"
      }
    },
    {
      "cell_type": "code",
      "execution_count": null,
      "metadata": {
        "id": "xkh4_orjZ2_M"
      },
      "outputs": [],
      "source": [
        "importance_df = pd.DataFrame({\"feature\": model.get_booster().feature_names, \"importance\":model.feature_importances_})"
      ]
    },
    {
      "cell_type": "markdown",
      "source": [
        "Sort and print in descending order and select the top 30 most important features"
      ],
      "metadata": {
        "id": "eD98KzW_oe6V"
      }
    },
    {
      "cell_type": "code",
      "execution_count": null,
      "metadata": {
        "colab": {
          "base_uri": "https://localhost:8080/",
          "height": 990
        },
        "id": "DrGFdBJDxv3C",
        "outputId": "4ae467ea-0e5a-4e26-c8d5-e26636b5bdb8"
      },
      "outputs": [
        {
          "data": {
            "application/vnd.google.colaboratory.intrinsic+json": {
              "summary": "{\n  \"name\": \"importance_df\",\n  \"rows\": 30,\n  \"fields\": [\n    {\n      \"column\": \"feature\",\n      \"properties\": {\n        \"dtype\": \"string\",\n        \"samples\": [\n          \"minimum_maximum_nights\",\n          \"number_of_reviews_l30d\",\n          \"host_acceptance_rate\"\n        ],\n        \"num_unique_values\": 30,\n        \"semantic_type\": \"\",\n        \"description\": \"\"\n      }\n    },\n    {\n      \"column\": \"importance\",\n      \"properties\": {\n        \"dtype\": \"float32\",\n        \"samples\": [\n          0.01035230327397585,\n          0.014489920809864998,\n          0.010857857763767242\n        ],\n        \"num_unique_values\": 30,\n        \"semantic_type\": \"\",\n        \"description\": \"\"\n      }\n    }\n  ]\n}",
              "type": "dataframe"
            },
            "text/html": [
              "\n",
              "  <div id=\"df-d55408e1-1138-49e2-b15c-e5edb68d44ce\" class=\"colab-df-container\">\n",
              "    <div>\n",
              "<style scoped>\n",
              "    .dataframe tbody tr th:only-of-type {\n",
              "        vertical-align: middle;\n",
              "    }\n",
              "\n",
              "    .dataframe tbody tr th {\n",
              "        vertical-align: top;\n",
              "    }\n",
              "\n",
              "    .dataframe thead th {\n",
              "        text-align: right;\n",
              "    }\n",
              "</style>\n",
              "<table border=\"1\" class=\"dataframe\">\n",
              "  <thead>\n",
              "    <tr style=\"text-align: right;\">\n",
              "      <th></th>\n",
              "      <th>feature</th>\n",
              "      <th>importance</th>\n",
              "    </tr>\n",
              "  </thead>\n",
              "  <tbody>\n",
              "    <tr>\n",
              "      <th>46</th>\n",
              "      <td>price_estimate</td>\n",
              "      <td>0.158057</td>\n",
              "    </tr>\n",
              "    <tr>\n",
              "      <th>17</th>\n",
              "      <td>price</td>\n",
              "      <td>0.129047</td>\n",
              "    </tr>\n",
              "    <tr>\n",
              "      <th>38</th>\n",
              "      <td>calculated_host_listings_count</td>\n",
              "      <td>0.038374</td>\n",
              "    </tr>\n",
              "    <tr>\n",
              "      <th>13</th>\n",
              "      <td>room_type</td>\n",
              "      <td>0.026758</td>\n",
              "    </tr>\n",
              "    <tr>\n",
              "      <th>1</th>\n",
              "      <td>host_response_rate</td>\n",
              "      <td>0.025621</td>\n",
              "    </tr>\n",
              "    <tr>\n",
              "      <th>39</th>\n",
              "      <td>calculated_host_listings_count_entire_homes</td>\n",
              "      <td>0.024412</td>\n",
              "    </tr>\n",
              "    <tr>\n",
              "      <th>4</th>\n",
              "      <td>host_neighbourhood</td>\n",
              "      <td>0.021955</td>\n",
              "    </tr>\n",
              "    <tr>\n",
              "      <th>28</th>\n",
              "      <td>number_of_reviews_ltm</td>\n",
              "      <td>0.021954</td>\n",
              "    </tr>\n",
              "    <tr>\n",
              "      <th>12</th>\n",
              "      <td>property_type</td>\n",
              "      <td>0.020925</td>\n",
              "    </tr>\n",
              "    <tr>\n",
              "      <th>6</th>\n",
              "      <td>host_total_listings_count</td>\n",
              "      <td>0.020075</td>\n",
              "    </tr>\n",
              "    <tr>\n",
              "      <th>58</th>\n",
              "      <td>bedroom_count_6</td>\n",
              "      <td>0.020063</td>\n",
              "    </tr>\n",
              "    <tr>\n",
              "      <th>40</th>\n",
              "      <td>calculated_host_listings_count_private_rooms</td>\n",
              "      <td>0.018513</td>\n",
              "    </tr>\n",
              "    <tr>\n",
              "      <th>66</th>\n",
              "      <td>owner_in_neighbourhood</td>\n",
              "      <td>0.017950</td>\n",
              "    </tr>\n",
              "    <tr>\n",
              "      <th>9</th>\n",
              "      <td>neighbourhood_cleansed</td>\n",
              "      <td>0.016591</td>\n",
              "    </tr>\n",
              "    <tr>\n",
              "      <th>26</th>\n",
              "      <td>has_availability</td>\n",
              "      <td>0.016254</td>\n",
              "    </tr>\n",
              "    <tr>\n",
              "      <th>29</th>\n",
              "      <td>number_of_reviews_l30d</td>\n",
              "      <td>0.014490</td>\n",
              "    </tr>\n",
              "    <tr>\n",
              "      <th>41</th>\n",
              "      <td>calculated_host_listings_count_shared_rooms</td>\n",
              "      <td>0.013104</td>\n",
              "    </tr>\n",
              "    <tr>\n",
              "      <th>45</th>\n",
              "      <td>half_bath</td>\n",
              "      <td>0.012969</td>\n",
              "    </tr>\n",
              "    <tr>\n",
              "      <th>5</th>\n",
              "      <td>host_listings_count</td>\n",
              "      <td>0.012850</td>\n",
              "    </tr>\n",
              "    <tr>\n",
              "      <th>21</th>\n",
              "      <td>maximum_minimum_nights</td>\n",
              "      <td>0.012466</td>\n",
              "    </tr>\n",
              "    <tr>\n",
              "      <th>63</th>\n",
              "      <td>listing_count4</td>\n",
              "      <td>0.012121</td>\n",
              "    </tr>\n",
              "    <tr>\n",
              "      <th>24</th>\n",
              "      <td>minimum_nights_avg_ntm</td>\n",
              "      <td>0.011539</td>\n",
              "    </tr>\n",
              "    <tr>\n",
              "      <th>25</th>\n",
              "      <td>maximum_nights_avg_ntm</td>\n",
              "      <td>0.010909</td>\n",
              "    </tr>\n",
              "    <tr>\n",
              "      <th>2</th>\n",
              "      <td>host_acceptance_rate</td>\n",
              "      <td>0.010858</td>\n",
              "    </tr>\n",
              "    <tr>\n",
              "      <th>55</th>\n",
              "      <td>bedroom_count_3</td>\n",
              "      <td>0.010726</td>\n",
              "    </tr>\n",
              "    <tr>\n",
              "      <th>23</th>\n",
              "      <td>maximum_maximum_nights</td>\n",
              "      <td>0.010508</td>\n",
              "    </tr>\n",
              "    <tr>\n",
              "      <th>20</th>\n",
              "      <td>minimum_minimum_nights</td>\n",
              "      <td>0.010463</td>\n",
              "    </tr>\n",
              "    <tr>\n",
              "      <th>22</th>\n",
              "      <td>minimum_maximum_nights</td>\n",
              "      <td>0.010352</td>\n",
              "    </tr>\n",
              "    <tr>\n",
              "      <th>7</th>\n",
              "      <td>host_has_profile_pic</td>\n",
              "      <td>0.010001</td>\n",
              "    </tr>\n",
              "    <tr>\n",
              "      <th>56</th>\n",
              "      <td>bedroom_count_4</td>\n",
              "      <td>0.009953</td>\n",
              "    </tr>\n",
              "  </tbody>\n",
              "</table>\n",
              "</div>\n",
              "    <div class=\"colab-df-buttons\">\n",
              "\n",
              "  <div class=\"colab-df-container\">\n",
              "    <button class=\"colab-df-convert\" onclick=\"convertToInteractive('df-d55408e1-1138-49e2-b15c-e5edb68d44ce')\"\n",
              "            title=\"Convert this dataframe to an interactive table.\"\n",
              "            style=\"display:none;\">\n",
              "\n",
              "  <svg xmlns=\"http://www.w3.org/2000/svg\" height=\"24px\" viewBox=\"0 -960 960 960\">\n",
              "    <path d=\"M120-120v-720h720v720H120Zm60-500h600v-160H180v160Zm220 220h160v-160H400v160Zm0 220h160v-160H400v160ZM180-400h160v-160H180v160Zm440 0h160v-160H620v160ZM180-180h160v-160H180v160Zm440 0h160v-160H620v160Z\"/>\n",
              "  </svg>\n",
              "    </button>\n",
              "\n",
              "  <style>\n",
              "    .colab-df-container {\n",
              "      display:flex;\n",
              "      gap: 12px;\n",
              "    }\n",
              "\n",
              "    .colab-df-convert {\n",
              "      background-color: #E8F0FE;\n",
              "      border: none;\n",
              "      border-radius: 50%;\n",
              "      cursor: pointer;\n",
              "      display: none;\n",
              "      fill: #1967D2;\n",
              "      height: 32px;\n",
              "      padding: 0 0 0 0;\n",
              "      width: 32px;\n",
              "    }\n",
              "\n",
              "    .colab-df-convert:hover {\n",
              "      background-color: #E2EBFA;\n",
              "      box-shadow: 0px 1px 2px rgba(60, 64, 67, 0.3), 0px 1px 3px 1px rgba(60, 64, 67, 0.15);\n",
              "      fill: #174EA6;\n",
              "    }\n",
              "\n",
              "    .colab-df-buttons div {\n",
              "      margin-bottom: 4px;\n",
              "    }\n",
              "\n",
              "    [theme=dark] .colab-df-convert {\n",
              "      background-color: #3B4455;\n",
              "      fill: #D2E3FC;\n",
              "    }\n",
              "\n",
              "    [theme=dark] .colab-df-convert:hover {\n",
              "      background-color: #434B5C;\n",
              "      box-shadow: 0px 1px 3px 1px rgba(0, 0, 0, 0.15);\n",
              "      filter: drop-shadow(0px 1px 2px rgba(0, 0, 0, 0.3));\n",
              "      fill: #FFFFFF;\n",
              "    }\n",
              "  </style>\n",
              "\n",
              "    <script>\n",
              "      const buttonEl =\n",
              "        document.querySelector('#df-d55408e1-1138-49e2-b15c-e5edb68d44ce button.colab-df-convert');\n",
              "      buttonEl.style.display =\n",
              "        google.colab.kernel.accessAllowed ? 'block' : 'none';\n",
              "\n",
              "      async function convertToInteractive(key) {\n",
              "        const element = document.querySelector('#df-d55408e1-1138-49e2-b15c-e5edb68d44ce');\n",
              "        const dataTable =\n",
              "          await google.colab.kernel.invokeFunction('convertToInteractive',\n",
              "                                                    [key], {});\n",
              "        if (!dataTable) return;\n",
              "\n",
              "        const docLinkHtml = 'Like what you see? Visit the ' +\n",
              "          '<a target=\"_blank\" href=https://colab.research.google.com/notebooks/data_table.ipynb>data table notebook</a>'\n",
              "          + ' to learn more about interactive tables.';\n",
              "        element.innerHTML = '';\n",
              "        dataTable['output_type'] = 'display_data';\n",
              "        await google.colab.output.renderOutput(dataTable, element);\n",
              "        const docLink = document.createElement('div');\n",
              "        docLink.innerHTML = docLinkHtml;\n",
              "        element.appendChild(docLink);\n",
              "      }\n",
              "    </script>\n",
              "  </div>\n",
              "\n",
              "\n",
              "<div id=\"df-0cdd6c33-3463-4048-9805-2fb93e704692\">\n",
              "  <button class=\"colab-df-quickchart\" onclick=\"quickchart('df-0cdd6c33-3463-4048-9805-2fb93e704692')\"\n",
              "            title=\"Suggest charts\"\n",
              "            style=\"display:none;\">\n",
              "\n",
              "<svg xmlns=\"http://www.w3.org/2000/svg\" height=\"24px\"viewBox=\"0 0 24 24\"\n",
              "     width=\"24px\">\n",
              "    <g>\n",
              "        <path d=\"M19 3H5c-1.1 0-2 .9-2 2v14c0 1.1.9 2 2 2h14c1.1 0 2-.9 2-2V5c0-1.1-.9-2-2-2zM9 17H7v-7h2v7zm4 0h-2V7h2v10zm4 0h-2v-4h2v4z\"/>\n",
              "    </g>\n",
              "</svg>\n",
              "  </button>\n",
              "\n",
              "<style>\n",
              "  .colab-df-quickchart {\n",
              "      --bg-color: #E8F0FE;\n",
              "      --fill-color: #1967D2;\n",
              "      --hover-bg-color: #E2EBFA;\n",
              "      --hover-fill-color: #174EA6;\n",
              "      --disabled-fill-color: #AAA;\n",
              "      --disabled-bg-color: #DDD;\n",
              "  }\n",
              "\n",
              "  [theme=dark] .colab-df-quickchart {\n",
              "      --bg-color: #3B4455;\n",
              "      --fill-color: #D2E3FC;\n",
              "      --hover-bg-color: #434B5C;\n",
              "      --hover-fill-color: #FFFFFF;\n",
              "      --disabled-bg-color: #3B4455;\n",
              "      --disabled-fill-color: #666;\n",
              "  }\n",
              "\n",
              "  .colab-df-quickchart {\n",
              "    background-color: var(--bg-color);\n",
              "    border: none;\n",
              "    border-radius: 50%;\n",
              "    cursor: pointer;\n",
              "    display: none;\n",
              "    fill: var(--fill-color);\n",
              "    height: 32px;\n",
              "    padding: 0;\n",
              "    width: 32px;\n",
              "  }\n",
              "\n",
              "  .colab-df-quickchart:hover {\n",
              "    background-color: var(--hover-bg-color);\n",
              "    box-shadow: 0 1px 2px rgba(60, 64, 67, 0.3), 0 1px 3px 1px rgba(60, 64, 67, 0.15);\n",
              "    fill: var(--button-hover-fill-color);\n",
              "  }\n",
              "\n",
              "  .colab-df-quickchart-complete:disabled,\n",
              "  .colab-df-quickchart-complete:disabled:hover {\n",
              "    background-color: var(--disabled-bg-color);\n",
              "    fill: var(--disabled-fill-color);\n",
              "    box-shadow: none;\n",
              "  }\n",
              "\n",
              "  .colab-df-spinner {\n",
              "    border: 2px solid var(--fill-color);\n",
              "    border-color: transparent;\n",
              "    border-bottom-color: var(--fill-color);\n",
              "    animation:\n",
              "      spin 1s steps(1) infinite;\n",
              "  }\n",
              "\n",
              "  @keyframes spin {\n",
              "    0% {\n",
              "      border-color: transparent;\n",
              "      border-bottom-color: var(--fill-color);\n",
              "      border-left-color: var(--fill-color);\n",
              "    }\n",
              "    20% {\n",
              "      border-color: transparent;\n",
              "      border-left-color: var(--fill-color);\n",
              "      border-top-color: var(--fill-color);\n",
              "    }\n",
              "    30% {\n",
              "      border-color: transparent;\n",
              "      border-left-color: var(--fill-color);\n",
              "      border-top-color: var(--fill-color);\n",
              "      border-right-color: var(--fill-color);\n",
              "    }\n",
              "    40% {\n",
              "      border-color: transparent;\n",
              "      border-right-color: var(--fill-color);\n",
              "      border-top-color: var(--fill-color);\n",
              "    }\n",
              "    60% {\n",
              "      border-color: transparent;\n",
              "      border-right-color: var(--fill-color);\n",
              "    }\n",
              "    80% {\n",
              "      border-color: transparent;\n",
              "      border-right-color: var(--fill-color);\n",
              "      border-bottom-color: var(--fill-color);\n",
              "    }\n",
              "    90% {\n",
              "      border-color: transparent;\n",
              "      border-bottom-color: var(--fill-color);\n",
              "    }\n",
              "  }\n",
              "</style>\n",
              "\n",
              "  <script>\n",
              "    async function quickchart(key) {\n",
              "      const quickchartButtonEl =\n",
              "        document.querySelector('#' + key + ' button');\n",
              "      quickchartButtonEl.disabled = true;  // To prevent multiple clicks.\n",
              "      quickchartButtonEl.classList.add('colab-df-spinner');\n",
              "      try {\n",
              "        const charts = await google.colab.kernel.invokeFunction(\n",
              "            'suggestCharts', [key], {});\n",
              "      } catch (error) {\n",
              "        console.error('Error during call to suggestCharts:', error);\n",
              "      }\n",
              "      quickchartButtonEl.classList.remove('colab-df-spinner');\n",
              "      quickchartButtonEl.classList.add('colab-df-quickchart-complete');\n",
              "    }\n",
              "    (() => {\n",
              "      let quickchartButtonEl =\n",
              "        document.querySelector('#df-0cdd6c33-3463-4048-9805-2fb93e704692 button');\n",
              "      quickchartButtonEl.style.display =\n",
              "        google.colab.kernel.accessAllowed ? 'block' : 'none';\n",
              "    })();\n",
              "  </script>\n",
              "</div>\n",
              "    </div>\n",
              "  </div>\n"
            ],
            "text/plain": [
              "                                         feature  importance\n",
              "46                                price_estimate    0.158057\n",
              "17                                         price    0.129047\n",
              "38                calculated_host_listings_count    0.038374\n",
              "13                                     room_type    0.026758\n",
              "1                             host_response_rate    0.025621\n",
              "39   calculated_host_listings_count_entire_homes    0.024412\n",
              "4                             host_neighbourhood    0.021955\n",
              "28                         number_of_reviews_ltm    0.021954\n",
              "12                                 property_type    0.020925\n",
              "6                      host_total_listings_count    0.020075\n",
              "58                               bedroom_count_6    0.020063\n",
              "40  calculated_host_listings_count_private_rooms    0.018513\n",
              "66                        owner_in_neighbourhood    0.017950\n",
              "9                         neighbourhood_cleansed    0.016591\n",
              "26                              has_availability    0.016254\n",
              "29                        number_of_reviews_l30d    0.014490\n",
              "41   calculated_host_listings_count_shared_rooms    0.013104\n",
              "45                                     half_bath    0.012969\n",
              "5                            host_listings_count    0.012850\n",
              "21                        maximum_minimum_nights    0.012466\n",
              "63                                listing_count4    0.012121\n",
              "24                        minimum_nights_avg_ntm    0.011539\n",
              "25                        maximum_nights_avg_ntm    0.010909\n",
              "2                           host_acceptance_rate    0.010858\n",
              "55                               bedroom_count_3    0.010726\n",
              "23                        maximum_maximum_nights    0.010508\n",
              "20                        minimum_minimum_nights    0.010463\n",
              "22                        minimum_maximum_nights    0.010352\n",
              "7                           host_has_profile_pic    0.010001\n",
              "56                               bedroom_count_4    0.009953"
            ]
          },
          "execution_count": 112,
          "metadata": {},
          "output_type": "execute_result"
        }
      ],
      "source": [
        "importance_df.sort_values(by = [\"importance\"], ascending = False).head(30)"
      ]
    }
  ],
  "metadata": {
    "colab": {
      "provenance": []
    },
    "kernelspec": {
      "display_name": "Python 3",
      "name": "python3"
    },
    "language_info": {
      "name": "python"
    }
  },
  "nbformat": 4,
  "nbformat_minor": 0
}